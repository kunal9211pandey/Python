{
 "cells": [
  {
   "cell_type": "markdown",
   "id": "d3adeff3",
   "metadata": {},
   "source": [
    "# Controal flow statement "
   ]
  },
  {
   "cell_type": "code",
   "execution_count": 2,
   "id": "e7232054",
   "metadata": {},
   "outputs": [
    {
     "name": "stdout",
     "output_type": "stream",
     "text": [
      "enter your Age: 15\n",
      "sorry ! you can't given the vote\n"
     ]
    }
   ],
   "source": [
    "age=eval(input(\"enter your Age: \"))\n",
    "if age>18:\n",
    "    print(\"you can given the vote\")\n",
    "else:\n",
    "    print(\"sorry ! you can't given the vote\")"
   ]
  },
  {
   "cell_type": "markdown",
   "id": "6e145018",
   "metadata": {},
   "source": [
    "# basic of python"
   ]
  },
  {
   "cell_type": "code",
   "execution_count": 1,
   "id": "3e766b2c",
   "metadata": {},
   "outputs": [
    {
     "data": {
      "text/plain": [
       "22"
      ]
     },
     "execution_count": 1,
     "metadata": {},
     "output_type": "execute_result"
    }
   ],
   "source": [
    "10+12"
   ]
  },
  {
   "cell_type": "markdown",
   "id": "4eab9eb8",
   "metadata": {},
   "source": [
    "# built data type"
   ]
  },
  {
   "cell_type": "markdown",
   "id": "0888bf7e",
   "metadata": {},
   "source": [
    "# 1. none data type"
   ]
  },
  {
   "cell_type": "code",
   "execution_count": 2,
   "id": "f9d065c1",
   "metadata": {},
   "outputs": [
    {
     "name": "stdout",
     "output_type": "stream",
     "text": [
      "None\n"
     ]
    }
   ],
   "source": [
    "a=None\n",
    "print(a)"
   ]
  },
  {
   "cell_type": "code",
   "execution_count": 3,
   "id": "113b62d1",
   "metadata": {},
   "outputs": [
    {
     "data": {
      "text/plain": [
       "NoneType"
      ]
     },
     "execution_count": 3,
     "metadata": {},
     "output_type": "execute_result"
    }
   ],
   "source": [
    "type(a)"
   ]
  },
  {
   "cell_type": "markdown",
   "id": "aab429af",
   "metadata": {},
   "source": [
    "## 2. numeric dataType"
   ]
  },
  {
   "cell_type": "code",
   "execution_count": 5,
   "id": "3f2f7f21",
   "metadata": {},
   "outputs": [
    {
     "name": "stdout",
     "output_type": "stream",
     "text": [
      "-200000000000000000000000000000000000000\n"
     ]
    }
   ],
   "source": [
    "a=-200000000000000000000000000000000000000   # no limit in interge\n",
    "print(a)"
   ]
  },
  {
   "cell_type": "code",
   "execution_count": 6,
   "id": "98ff304b",
   "metadata": {},
   "outputs": [
    {
     "data": {
      "text/plain": [
       "int"
      ]
     },
     "execution_count": 6,
     "metadata": {},
     "output_type": "execute_result"
    }
   ],
   "source": [
    "type(a)"
   ]
  },
  {
   "cell_type": "markdown",
   "id": "0e96d485",
   "metadata": {},
   "source": [
    "## 2. float"
   ]
  },
  {
   "cell_type": "code",
   "execution_count": 7,
   "id": "bb38940f",
   "metadata": {},
   "outputs": [
    {
     "data": {
      "text/plain": [
       "float"
      ]
     },
     "execution_count": 7,
     "metadata": {},
     "output_type": "execute_result"
    }
   ],
   "source": [
    "a=222.3433\n",
    "type(a)"
   ]
  },
  {
   "cell_type": "code",
   "execution_count": 8,
   "id": "28274f1d",
   "metadata": {},
   "outputs": [
    {
     "name": "stdout",
     "output_type": "stream",
     "text": [
      "10023000.0\n"
     ]
    }
   ],
   "source": [
    "# Explonatiry form  10.34*10^3\n",
    "# E or e\n",
    "a=100.23E5\n",
    "print(a)"
   ]
  },
  {
   "cell_type": "markdown",
   "id": "249577d8",
   "metadata": {},
   "source": [
    "# 3. complex number"
   ]
  },
  {
   "cell_type": "code",
   "execution_count": 9,
   "id": "2dcc72d0",
   "metadata": {},
   "outputs": [
    {
     "name": "stdout",
     "output_type": "stream",
     "text": [
      "(0.3000000000000007-4j)\n"
     ]
    }
   ],
   "source": [
    "a=10.3+9j\n",
    "b=-10-13j\n",
    "print(a+b)"
   ]
  },
  {
   "cell_type": "code",
   "execution_count": 10,
   "id": "39d141ee",
   "metadata": {},
   "outputs": [
    {
     "data": {
      "text/plain": [
       "15"
      ]
     },
     "execution_count": 10,
     "metadata": {},
     "output_type": "execute_result"
    }
   ],
   "source": [
    "# float to  numric\n",
    "a=15.45\n",
    "int(a)"
   ]
  },
  {
   "cell_type": "code",
   "execution_count": 11,
   "id": "fdbe64ed",
   "metadata": {},
   "outputs": [
    {
     "data": {
      "text/plain": [
       "15.45"
      ]
     },
     "execution_count": 11,
     "metadata": {},
     "output_type": "execute_result"
    }
   ],
   "source": [
    "float(a)"
   ]
  },
  {
   "cell_type": "code",
   "execution_count": 12,
   "id": "7d2894f8",
   "metadata": {},
   "outputs": [
    {
     "data": {
      "text/plain": [
       "(15.45+0j)"
      ]
     },
     "execution_count": 12,
     "metadata": {},
     "output_type": "execute_result"
    }
   ],
   "source": [
    "complex(a)"
   ]
  },
  {
   "cell_type": "code",
   "execution_count": 13,
   "id": "f01021a9",
   "metadata": {},
   "outputs": [
    {
     "data": {
      "text/plain": [
       "(10+20j)"
      ]
     },
     "execution_count": 13,
     "metadata": {},
     "output_type": "execute_result"
    }
   ],
   "source": [
    "a=10\n",
    "b=20\n",
    "complex(a,b)"
   ]
  },
  {
   "cell_type": "code",
   "execution_count": 14,
   "id": "92eca152",
   "metadata": {},
   "outputs": [
    {
     "data": {
      "text/plain": [
       "(12+34j)"
      ]
     },
     "execution_count": 14,
     "metadata": {},
     "output_type": "execute_result"
    }
   ],
   "source": [
    "complex(12,34)"
   ]
  },
  {
   "cell_type": "code",
   "execution_count": 17,
   "id": "2b0d0859",
   "metadata": {},
   "outputs": [
    {
     "name": "stdout",
     "output_type": "stream",
     "text": [
      "the conversion of binary to numeric value is  117\n",
      "the conversion of hexadecimal to numeric value is  959055\n",
      "the conversion of octal to numeric value is  15255\n"
     ]
    }
   ],
   "source": [
    "n1=0b01110101\n",
    "n2=0xea24f\n",
    "n3=0o35627\n",
    "print(\"the conversion of binary to numeric value is \", int(n1))\n",
    "print(\"the conversion of hexadecimal to numeric value is \", int(n2))\n",
    "print(\"the conversion of octal to numeric value is \", int(n3))"
   ]
  },
  {
   "cell_type": "code",
   "execution_count": 18,
   "id": "5b05d916",
   "metadata": {},
   "outputs": [
    {
     "data": {
      "text/plain": [
       "'0b1010'"
      ]
     },
     "execution_count": 18,
     "metadata": {},
     "output_type": "execute_result"
    }
   ],
   "source": [
    "n1=10\n",
    "bin(n1)"
   ]
  },
  {
   "cell_type": "code",
   "execution_count": 19,
   "id": "3b2301c3",
   "metadata": {},
   "outputs": [
    {
     "data": {
      "text/plain": [
       "'0o12'"
      ]
     },
     "execution_count": 19,
     "metadata": {},
     "output_type": "execute_result"
    }
   ],
   "source": [
    "oct(n1)"
   ]
  },
  {
   "cell_type": "code",
   "execution_count": 20,
   "id": "b6024e9d",
   "metadata": {},
   "outputs": [
    {
     "data": {
      "text/plain": [
       "'0xa'"
      ]
     },
     "execution_count": 20,
     "metadata": {},
     "output_type": "execute_result"
    }
   ],
   "source": [
    "hex(n1)"
   ]
  },
  {
   "cell_type": "markdown",
   "id": "4f664963",
   "metadata": {},
   "source": [
    "## 4. boolean type"
   ]
  },
  {
   "cell_type": "code",
   "execution_count": 22,
   "id": "61b26ab2",
   "metadata": {},
   "outputs": [
    {
     "name": "stdout",
     "output_type": "stream",
     "text": [
      "False\n"
     ]
    }
   ],
   "source": [
    "a=10>19\n",
    "print(a)"
   ]
  },
  {
   "cell_type": "markdown",
   "id": "19981d53",
   "metadata": {},
   "source": [
    "## SEquance in python"
   ]
  },
  {
   "cell_type": "markdown",
   "id": "7c592cf5",
   "metadata": {},
   "source": [
    "# 1. Str"
   ]
  },
  {
   "cell_type": "code",
   "execution_count": 26,
   "id": "a295fe2d",
   "metadata": {},
   "outputs": [
    {
     "name": "stdout",
     "output_type": "stream",
     "text": [
      "welcome welcome welcome welcome\n"
     ]
    }
   ],
   "source": [
    "a='welcome'\n",
    "b=\"welcome\"\n",
    "c='''welcome'''\n",
    "d=\"\"\"welcome\"\"\"\n",
    "print(a,b,c,d)"
   ]
  },
  {
   "cell_type": "code",
   "execution_count": 27,
   "id": "d65b1d7a",
   "metadata": {},
   "outputs": [
    {
     "data": {
      "text/plain": [
       "str"
      ]
     },
     "execution_count": 27,
     "metadata": {},
     "output_type": "execute_result"
    }
   ],
   "source": [
    "type(a)"
   ]
  },
  {
   "cell_type": "code",
   "execution_count": 28,
   "id": "7926e12a",
   "metadata": {},
   "outputs": [
    {
     "data": {
      "text/plain": [
       "'k'"
      ]
     },
     "execution_count": 28,
     "metadata": {},
     "output_type": "execute_result"
    }
   ],
   "source": [
    "# operation in string   1) indexing\n",
    "name=\"kunal pandey from bihar\"\n",
    "name[0]"
   ]
  },
  {
   "cell_type": "code",
   "execution_count": 29,
   "id": "b12a1834",
   "metadata": {},
   "outputs": [
    {
     "data": {
      "text/plain": [
       "'l'"
      ]
     },
     "execution_count": 29,
     "metadata": {},
     "output_type": "execute_result"
    }
   ],
   "source": [
    "name[4]"
   ]
  },
  {
   "cell_type": "code",
   "execution_count": 30,
   "id": "70bcb5dd",
   "metadata": {},
   "outputs": [
    {
     "data": {
      "text/plain": [
       "'d'"
      ]
     },
     "execution_count": 30,
     "metadata": {},
     "output_type": "execute_result"
    }
   ],
   "source": [
    "name[9]"
   ]
  },
  {
   "cell_type": "code",
   "execution_count": 31,
   "id": "ee9f5017",
   "metadata": {},
   "outputs": [
    {
     "data": {
      "text/plain": [
       "' '"
      ]
     },
     "execution_count": 31,
     "metadata": {},
     "output_type": "execute_result"
    }
   ],
   "source": [
    "name[12]"
   ]
  },
  {
   "cell_type": "code",
   "execution_count": 32,
   "id": "fce8010f",
   "metadata": {},
   "outputs": [
    {
     "data": {
      "text/plain": [
       "'f'"
      ]
     },
     "execution_count": 32,
     "metadata": {},
     "output_type": "execute_result"
    }
   ],
   "source": [
    "name[13]"
   ]
  },
  {
   "cell_type": "code",
   "execution_count": 33,
   "id": "8091834d",
   "metadata": {},
   "outputs": [
    {
     "data": {
      "text/plain": [
       "' '"
      ]
     },
     "execution_count": 33,
     "metadata": {},
     "output_type": "execute_result"
    }
   ],
   "source": [
    "name[17]"
   ]
  },
  {
   "cell_type": "code",
   "execution_count": 34,
   "id": "4c8793d3",
   "metadata": {},
   "outputs": [
    {
     "data": {
      "text/plain": [
       "'b'"
      ]
     },
     "execution_count": 34,
     "metadata": {},
     "output_type": "execute_result"
    }
   ],
   "source": [
    "name[18]"
   ]
  },
  {
   "cell_type": "code",
   "execution_count": 35,
   "id": "f97fefd6",
   "metadata": {},
   "outputs": [
    {
     "data": {
      "text/plain": [
       "'kunal pandey'"
      ]
     },
     "execution_count": 35,
     "metadata": {},
     "output_type": "execute_result"
    }
   ],
   "source": [
    "# slicing\n",
    "name[0:12]"
   ]
  },
  {
   "cell_type": "code",
   "execution_count": 36,
   "id": "954d40de",
   "metadata": {},
   "outputs": [
    {
     "data": {
      "text/plain": [
       "' pandey'"
      ]
     },
     "execution_count": 36,
     "metadata": {},
     "output_type": "execute_result"
    }
   ],
   "source": [
    "name[5:12]"
   ]
  },
  {
   "cell_type": "code",
   "execution_count": 37,
   "id": "2067d632",
   "metadata": {},
   "outputs": [
    {
     "data": {
      "text/plain": [
       "'kunal pandey from bihar'"
      ]
     },
     "execution_count": 37,
     "metadata": {},
     "output_type": "execute_result"
    }
   ],
   "source": [
    "name[:]"
   ]
  },
  {
   "cell_type": "code",
   "execution_count": 38,
   "id": "d56b3bd0",
   "metadata": {},
   "outputs": [
    {
     "data": {
      "text/plain": [
       "'kunal pandey fr'"
      ]
     },
     "execution_count": 38,
     "metadata": {},
     "output_type": "execute_result"
    }
   ],
   "source": [
    "name[:15]"
   ]
  },
  {
   "cell_type": "code",
   "execution_count": 40,
   "id": "1a7dde51",
   "metadata": {},
   "outputs": [
    {
     "data": {
      "text/plain": [
       "'om bihar'"
      ]
     },
     "execution_count": 40,
     "metadata": {},
     "output_type": "execute_result"
    }
   ],
   "source": [
    "name[15:]"
   ]
  },
  {
   "cell_type": "code",
   "execution_count": 41,
   "id": "99d62610",
   "metadata": {},
   "outputs": [
    {
     "data": {
      "text/plain": [
       "'rahib morf yednap lanuk'"
      ]
     },
     "execution_count": 41,
     "metadata": {},
     "output_type": "execute_result"
    }
   ],
   "source": [
    "name[::-1]"
   ]
  },
  {
   "cell_type": "code",
   "execution_count": 42,
   "id": "94b64436",
   "metadata": {},
   "outputs": [
    {
     "data": {
      "text/plain": [
       "'kunal pandey fr'"
      ]
     },
     "execution_count": 42,
     "metadata": {},
     "output_type": "execute_result"
    }
   ],
   "source": [
    "name[0:15:1]"
   ]
  },
  {
   "cell_type": "code",
   "execution_count": 43,
   "id": "925eaaba",
   "metadata": {},
   "outputs": [
    {
     "data": {
      "text/plain": [
       "'knlpne r'"
      ]
     },
     "execution_count": 43,
     "metadata": {},
     "output_type": "execute_result"
    }
   ],
   "source": [
    "name[0:15:2]"
   ]
  },
  {
   "cell_type": "code",
   "execution_count": 44,
   "id": "2b48a5dc",
   "metadata": {},
   "outputs": [
    {
     "data": {
      "text/plain": [
       "'kapd '"
      ]
     },
     "execution_count": 44,
     "metadata": {},
     "output_type": "execute_result"
    }
   ],
   "source": [
    "name[0:15:3]"
   ]
  },
  {
   "cell_type": "code",
   "execution_count": 48,
   "id": "5e3c322e",
   "metadata": {},
   "outputs": [
    {
     "data": {
      "text/plain": [
       "'o dpa'"
      ]
     },
     "execution_count": 48,
     "metadata": {},
     "output_type": "execute_result"
    }
   ],
   "source": [
    "name[15:0:-3]"
   ]
  },
  {
   "cell_type": "code",
   "execution_count": 47,
   "id": "6f312e9a",
   "metadata": {},
   "outputs": [
    {
     "data": {
      "text/plain": [
       "'ofyda au'"
      ]
     },
     "execution_count": 47,
     "metadata": {},
     "output_type": "execute_result"
    }
   ],
   "source": [
    "name[15:0:-2]"
   ]
  },
  {
   "cell_type": "code",
   "execution_count": 51,
   "id": "170edd27",
   "metadata": {},
   "outputs": [
    {
     "data": {
      "text/plain": [
       "'kunal pandey from biharkunal pandey from bihar'"
      ]
     },
     "execution_count": 51,
     "metadata": {},
     "output_type": "execute_result"
    }
   ],
   "source": [
    "name * 2"
   ]
  },
  {
   "cell_type": "code",
   "execution_count": 52,
   "id": "398ca341",
   "metadata": {},
   "outputs": [
    {
     "data": {
      "text/plain": [
       "23"
      ]
     },
     "execution_count": 52,
     "metadata": {},
     "output_type": "execute_result"
    }
   ],
   "source": [
    "len(name)"
   ]
  },
  {
   "cell_type": "code",
   "execution_count": 54,
   "id": "d3f0908d",
   "metadata": {},
   "outputs": [
    {
     "data": {
      "text/plain": [
       "'KUNAL PANDEY FROM BIHAR'"
      ]
     },
     "execution_count": 54,
     "metadata": {},
     "output_type": "execute_result"
    }
   ],
   "source": [
    "name.upper()"
   ]
  },
  {
   "cell_type": "code",
   "execution_count": 55,
   "id": "c0dc9a8a",
   "metadata": {},
   "outputs": [
    {
     "data": {
      "text/plain": [
       "'kunal pandey from bihar'"
      ]
     },
     "execution_count": 55,
     "metadata": {},
     "output_type": "execute_result"
    }
   ],
   "source": [
    "name.lower()"
   ]
  },
  {
   "cell_type": "code",
   "execution_count": 56,
   "id": "e2e91979",
   "metadata": {},
   "outputs": [
    {
     "data": {
      "text/plain": [
       "'Kunal Pandey From Bihar'"
      ]
     },
     "execution_count": 56,
     "metadata": {},
     "output_type": "execute_result"
    }
   ],
   "source": [
    "name.title()"
   ]
  },
  {
   "cell_type": "code",
   "execution_count": 57,
   "id": "2357b8c6",
   "metadata": {},
   "outputs": [
    {
     "data": {
      "text/plain": [
       "1"
      ]
     },
     "execution_count": 57,
     "metadata": {},
     "output_type": "execute_result"
    }
   ],
   "source": [
    "name.count('k')"
   ]
  },
  {
   "cell_type": "code",
   "execution_count": 58,
   "id": "885004db",
   "metadata": {},
   "outputs": [
    {
     "data": {
      "text/plain": [
       "3"
      ]
     },
     "execution_count": 58,
     "metadata": {},
     "output_type": "execute_result"
    }
   ],
   "source": [
    "name.count('a')"
   ]
  },
  {
   "cell_type": "code",
   "execution_count": 59,
   "id": "70aa6ebd",
   "metadata": {},
   "outputs": [
    {
     "data": {
      "text/plain": [
       "'vicky pandey from bihar'"
      ]
     },
     "execution_count": 59,
     "metadata": {},
     "output_type": "execute_result"
    }
   ],
   "source": [
    "name.replace(\"kunal\",'vicky')"
   ]
  },
  {
   "cell_type": "code",
   "execution_count": 60,
   "id": "ee5d1e8a",
   "metadata": {},
   "outputs": [
    {
     "data": {
      "text/plain": [
       "'kunal jha from bihar'"
      ]
     },
     "execution_count": 60,
     "metadata": {},
     "output_type": "execute_result"
    }
   ],
   "source": [
    "name.replace('pandey','jha')"
   ]
  },
  {
   "cell_type": "code",
   "execution_count": 61,
   "id": "f9b77e70",
   "metadata": {},
   "outputs": [
    {
     "data": {
      "text/plain": [
       "13"
      ]
     },
     "execution_count": 61,
     "metadata": {},
     "output_type": "execute_result"
    }
   ],
   "source": [
    "name.index('from')"
   ]
  },
  {
   "cell_type": "code",
   "execution_count": 62,
   "id": "f35653bd",
   "metadata": {},
   "outputs": [
    {
     "data": {
      "text/plain": [
       "18"
      ]
     },
     "execution_count": 62,
     "metadata": {},
     "output_type": "execute_result"
    }
   ],
   "source": [
    "name.find('bihar')"
   ]
  },
  {
   "cell_type": "code",
   "execution_count": 63,
   "id": "247bece7",
   "metadata": {},
   "outputs": [
    {
     "data": {
      "text/plain": [
       "['kunal pandey from bihar']"
      ]
     },
     "execution_count": 63,
     "metadata": {},
     "output_type": "execute_result"
    }
   ],
   "source": [
    "name.split(',')"
   ]
  },
  {
   "cell_type": "code",
   "execution_count": 64,
   "id": "bbaf0cf0",
   "metadata": {},
   "outputs": [
    {
     "data": {
      "text/plain": [
       "['kunal', 'pandey', 'from', 'bihar']"
      ]
     },
     "execution_count": 64,
     "metadata": {},
     "output_type": "execute_result"
    }
   ],
   "source": [
    "name.split()"
   ]
  },
  {
   "cell_type": "code",
   "execution_count": 65,
   "id": "25a5bd73",
   "metadata": {},
   "outputs": [
    {
     "data": {
      "text/plain": [
       "['kunal pandey from bihar']"
      ]
     },
     "execution_count": 65,
     "metadata": {},
     "output_type": "execute_result"
    }
   ],
   "source": [
    "name.split(\"   \")"
   ]
  },
  {
   "cell_type": "code",
   "execution_count": 68,
   "id": "6986af17",
   "metadata": {},
   "outputs": [
    {
     "data": {
      "text/plain": [
       "'k___u___n___a___l___ ___p___a___n___d___e___y___ ___f___r___o___m___ ___b___i___h___a___r'"
      ]
     },
     "execution_count": 68,
     "metadata": {},
     "output_type": "execute_result"
    }
   ],
   "source": [
    "\"___\".join(name)"
   ]
  },
  {
   "cell_type": "code",
   "execution_count": 69,
   "id": "df3ec04f",
   "metadata": {},
   "outputs": [
    {
     "data": {
      "text/plain": [
       "'k....u....n....a....l.... ....p....a....n....d....e....y.... ....f....r....o....m.... ....b....i....h....a....r'"
      ]
     },
     "execution_count": 69,
     "metadata": {},
     "output_type": "execute_result"
    }
   ],
   "source": [
    "\"....\".join(name)"
   ]
  },
  {
   "cell_type": "markdown",
   "id": "3e1318cb",
   "metadata": {},
   "source": [
    "## byte data type"
   ]
  },
  {
   "cell_type": "code",
   "execution_count": 70,
   "id": "035d82ff",
   "metadata": {},
   "outputs": [
    {
     "name": "stdout",
     "output_type": "stream",
     "text": [
      "b'\\n\\x0c\\x0c\\r\\x0e'\n"
     ]
    }
   ],
   "source": [
    "element=[10,12,12,13,14]\n",
    "print(bytes(element))"
   ]
  },
  {
   "cell_type": "code",
   "execution_count": 71,
   "id": "cdcf072e",
   "metadata": {},
   "outputs": [],
   "source": [
    "x=bytes(element)"
   ]
  },
  {
   "cell_type": "code",
   "execution_count": 72,
   "id": "98752b87",
   "metadata": {},
   "outputs": [
    {
     "data": {
      "text/plain": [
       "10"
      ]
     },
     "execution_count": 72,
     "metadata": {},
     "output_type": "execute_result"
    }
   ],
   "source": [
    "x[0]"
   ]
  },
  {
   "cell_type": "code",
   "execution_count": 73,
   "id": "08e818ed",
   "metadata": {},
   "outputs": [
    {
     "data": {
      "text/plain": [
       "12"
      ]
     },
     "execution_count": 73,
     "metadata": {},
     "output_type": "execute_result"
    }
   ],
   "source": [
    "x[1]"
   ]
  },
  {
   "cell_type": "code",
   "execution_count": 74,
   "id": "d05318e6",
   "metadata": {},
   "outputs": [
    {
     "ename": "IndexError",
     "evalue": "index out of range",
     "output_type": "error",
     "traceback": [
      "\u001b[1;31m---------------------------------------------------------------------------\u001b[0m",
      "\u001b[1;31mIndexError\u001b[0m                                Traceback (most recent call last)",
      "Input \u001b[1;32mIn [74]\u001b[0m, in \u001b[0;36m<cell line: 1>\u001b[1;34m()\u001b[0m\n\u001b[1;32m----> 1\u001b[0m \u001b[43mx\u001b[49m\u001b[43m[\u001b[49m\u001b[38;5;241;43m12\u001b[39;49m\u001b[43m]\u001b[49m\n",
      "\u001b[1;31mIndexError\u001b[0m: index out of range"
     ]
    }
   ],
   "source": [
    "x[12]"
   ]
  },
  {
   "cell_type": "code",
   "execution_count": 75,
   "id": "d8747961",
   "metadata": {},
   "outputs": [
    {
     "name": "stdout",
     "output_type": "stream",
     "text": [
      "10\n",
      "12\n",
      "12\n",
      "13\n",
      "14\n"
     ]
    }
   ],
   "source": [
    "for i in x:\n",
    "    print(i)"
   ]
  },
  {
   "cell_type": "code",
   "execution_count": 76,
   "id": "b15ef725",
   "metadata": {},
   "outputs": [
    {
     "ename": "ValueError",
     "evalue": "bytes must be in range(0, 256)",
     "output_type": "error",
     "traceback": [
      "\u001b[1;31m---------------------------------------------------------------------------\u001b[0m",
      "\u001b[1;31mValueError\u001b[0m                                Traceback (most recent call last)",
      "Input \u001b[1;32mIn [76]\u001b[0m, in \u001b[0;36m<cell line: 2>\u001b[1;34m()\u001b[0m\n\u001b[0;32m      1\u001b[0m ele\u001b[38;5;241m=\u001b[39m[\u001b[38;5;241m10\u001b[39m,\u001b[38;5;241m-\u001b[39m\u001b[38;5;241m12\u001b[39m,\u001b[38;5;241m1\u001b[39m]\n\u001b[1;32m----> 2\u001b[0m y\u001b[38;5;241m=\u001b[39m\u001b[38;5;28;43mbytes\u001b[39;49m\u001b[43m(\u001b[49m\u001b[43mele\u001b[49m\u001b[43m)\u001b[49m\n\u001b[0;32m      3\u001b[0m \u001b[38;5;28mprint\u001b[39m(y)\n",
      "\u001b[1;31mValueError\u001b[0m: bytes must be in range(0, 256)"
     ]
    }
   ],
   "source": [
    "ele=[10,-12,1]  # they are not accept negative value\n",
    "y=bytes(ele)\n",
    "print(y)"
   ]
  },
  {
   "cell_type": "code",
   "execution_count": 77,
   "id": "34cdd77a",
   "metadata": {},
   "outputs": [
    {
     "data": {
      "text/plain": [
       "bytes"
      ]
     },
     "execution_count": 77,
     "metadata": {},
     "output_type": "execute_result"
    }
   ],
   "source": [
    "type(x)"
   ]
  },
  {
   "cell_type": "code",
   "execution_count": 78,
   "id": "5fb964d5",
   "metadata": {},
   "outputs": [
    {
     "ename": "TypeError",
     "evalue": "'bytes' object does not support item assignment",
     "output_type": "error",
     "traceback": [
      "\u001b[1;31m---------------------------------------------------------------------------\u001b[0m",
      "\u001b[1;31mTypeError\u001b[0m                                 Traceback (most recent call last)",
      "Input \u001b[1;32mIn [78]\u001b[0m, in \u001b[0;36m<cell line: 1>\u001b[1;34m()\u001b[0m\n\u001b[1;32m----> 1\u001b[0m x[\u001b[38;5;241m0\u001b[39m]\u001b[38;5;241m=\u001b[39m\u001b[38;5;241m20\u001b[39m\n",
      "\u001b[1;31mTypeError\u001b[0m: 'bytes' object does not support item assignment"
     ]
    }
   ],
   "source": [
    "x[0]=20 # we can't modify bytes data type"
   ]
  },
  {
   "cell_type": "markdown",
   "id": "7592a509",
   "metadata": {},
   "source": [
    "## bytes array data type"
   ]
  },
  {
   "cell_type": "code",
   "execution_count": 79,
   "id": "5ce5b960",
   "metadata": {},
   "outputs": [
    {
     "name": "stdout",
     "output_type": "stream",
     "text": [
      "10\n",
      "12\n",
      "13\n",
      "1\n",
      "4\n",
      "14\n"
     ]
    }
   ],
   "source": [
    "# we can modify byte array data types\n",
    "element=[10,12,13,1,4,14]\n",
    "x=bytearray(element)\n",
    "for i in x:\n",
    "    print(i)"
   ]
  },
  {
   "cell_type": "code",
   "execution_count": 80,
   "id": "93a50298",
   "metadata": {},
   "outputs": [],
   "source": [
    "x[0]=14"
   ]
  },
  {
   "cell_type": "code",
   "execution_count": 81,
   "id": "d759e46d",
   "metadata": {},
   "outputs": [
    {
     "data": {
      "text/plain": [
       "bytearray(b'\\x0e\\x0c\\r\\x01\\x04\\x0e')"
      ]
     },
     "execution_count": 81,
     "metadata": {},
     "output_type": "execute_result"
    }
   ],
   "source": [
    "x"
   ]
  },
  {
   "cell_type": "code",
   "execution_count": 82,
   "id": "59ab6098",
   "metadata": {},
   "outputs": [
    {
     "name": "stdout",
     "output_type": "stream",
     "text": [
      "14\n"
     ]
    }
   ],
   "source": [
    "print(i)"
   ]
  },
  {
   "cell_type": "code",
   "execution_count": 83,
   "id": "6b6066c3",
   "metadata": {},
   "outputs": [
    {
     "name": "stdout",
     "output_type": "stream",
     "text": [
      "bytearray(b'\\x0e\\x0c\\r\\x01\\x04\\x0e')\n",
      "bytearray(b'\\x0e\\x0c\\r\\x01\\x04\\x0e')\n",
      "bytearray(b'\\x0e\\x0c\\r\\x01\\x04\\x0e')\n",
      "bytearray(b'\\x0e\\x0c\\r\\x01\\x04\\x0e')\n",
      "bytearray(b'\\x0e\\x0c\\r\\x01\\x04\\x0e')\n",
      "bytearray(b'\\x0e\\x0c\\r\\x01\\x04\\x0e')\n"
     ]
    }
   ],
   "source": [
    "for i in x:\n",
    "    print(x)"
   ]
  },
  {
   "cell_type": "code",
   "execution_count": 85,
   "id": "569ad871",
   "metadata": {},
   "outputs": [
    {
     "name": "stdout",
     "output_type": "stream",
     "text": [
      "[10, 2, 'kunal', 'vicky', 15]\n",
      "[10, 2, 'kunal', 'vicky', 15]\n",
      "[10, 2, 'kunal', 'vicky', 15]\n",
      "[10, 2, 'kunal', 'vicky', 15]\n",
      "[10, 2, 'kunal', 'vicky', 15]\n"
     ]
    }
   ],
   "source": [
    "# list data type\n",
    "a=[10,2,\"kunal\",'vicky',15]\n",
    "for x in a:\n",
    "    print(a)"
   ]
  },
  {
   "cell_type": "code",
   "execution_count": 86,
   "id": "712fa6fa",
   "metadata": {},
   "outputs": [
    {
     "data": {
      "text/plain": [
       "[10, 2, 'kunal', 'vicky', 15, 10, 2, 'kunal', 'vicky', 15]"
      ]
     },
     "execution_count": 86,
     "metadata": {},
     "output_type": "execute_result"
    }
   ],
   "source": [
    "a*2"
   ]
  },
  {
   "cell_type": "code",
   "execution_count": 87,
   "id": "bd134616",
   "metadata": {},
   "outputs": [],
   "source": [
    "list=[]"
   ]
  },
  {
   "cell_type": "code",
   "execution_count": 88,
   "id": "f3f3c499",
   "metadata": {},
   "outputs": [
    {
     "data": {
      "text/plain": [
       "list"
      ]
     },
     "execution_count": 88,
     "metadata": {},
     "output_type": "execute_result"
    }
   ],
   "source": [
    "type(list)"
   ]
  },
  {
   "cell_type": "code",
   "execution_count": 89,
   "id": "6b908df3",
   "metadata": {},
   "outputs": [],
   "source": [
    "list.append(10)"
   ]
  },
  {
   "cell_type": "code",
   "execution_count": 90,
   "id": "d09f2e3d",
   "metadata": {},
   "outputs": [
    {
     "data": {
      "text/plain": [
       "[10]"
      ]
     },
     "execution_count": 90,
     "metadata": {},
     "output_type": "execute_result"
    }
   ],
   "source": [
    "list"
   ]
  },
  {
   "cell_type": "code",
   "execution_count": 92,
   "id": "ab490ec2",
   "metadata": {},
   "outputs": [],
   "source": [
    "list.append([10,20])"
   ]
  },
  {
   "cell_type": "code",
   "execution_count": 93,
   "id": "c193ed02",
   "metadata": {},
   "outputs": [
    {
     "data": {
      "text/plain": [
       "[10, [10, 20]]"
      ]
     },
     "execution_count": 93,
     "metadata": {},
     "output_type": "execute_result"
    }
   ],
   "source": [
    "list"
   ]
  },
  {
   "cell_type": "code",
   "execution_count": 94,
   "id": "aecb9c52",
   "metadata": {},
   "outputs": [],
   "source": [
    "list.append((10,20,30))"
   ]
  },
  {
   "cell_type": "code",
   "execution_count": 95,
   "id": "63eb96fd",
   "metadata": {},
   "outputs": [
    {
     "data": {
      "text/plain": [
       "[10, [10, 20], (10, 20, 30)]"
      ]
     },
     "execution_count": 95,
     "metadata": {},
     "output_type": "execute_result"
    }
   ],
   "source": [
    "list"
   ]
  },
  {
   "cell_type": "code",
   "execution_count": 96,
   "id": "e82d0db3",
   "metadata": {},
   "outputs": [],
   "source": [
    "list.insert(1,\"kunal\")"
   ]
  },
  {
   "cell_type": "code",
   "execution_count": 97,
   "id": "9f0307b3",
   "metadata": {},
   "outputs": [
    {
     "data": {
      "text/plain": [
       "[10, 'kunal', [10, 20], (10, 20, 30)]"
      ]
     },
     "execution_count": 97,
     "metadata": {},
     "output_type": "execute_result"
    }
   ],
   "source": [
    "list"
   ]
  },
  {
   "cell_type": "code",
   "execution_count": 98,
   "id": "0ffc7c05",
   "metadata": {},
   "outputs": [],
   "source": [
    "list.insert(3,'vicky')"
   ]
  },
  {
   "cell_type": "code",
   "execution_count": 99,
   "id": "544241b5",
   "metadata": {},
   "outputs": [
    {
     "data": {
      "text/plain": [
       "[10, 'kunal', [10, 20], 'vicky', (10, 20, 30)]"
      ]
     },
     "execution_count": 99,
     "metadata": {},
     "output_type": "execute_result"
    }
   ],
   "source": [
    "list"
   ]
  },
  {
   "cell_type": "code",
   "execution_count": 100,
   "id": "c90a9a25",
   "metadata": {},
   "outputs": [],
   "source": [
    "list[0]='shivam'"
   ]
  },
  {
   "cell_type": "code",
   "execution_count": 101,
   "id": "c81b9c90",
   "metadata": {},
   "outputs": [
    {
     "data": {
      "text/plain": [
       "['shivam', 'kunal', [10, 20], 'vicky', (10, 20, 30)]"
      ]
     },
     "execution_count": 101,
     "metadata": {},
     "output_type": "execute_result"
    }
   ],
   "source": [
    "list"
   ]
  },
  {
   "cell_type": "code",
   "execution_count": 102,
   "id": "0d049ecb",
   "metadata": {},
   "outputs": [
    {
     "data": {
      "text/plain": [
       "['shivam',\n",
       " 'kunal',\n",
       " [10, 20],\n",
       " 'vicky',\n",
       " (10, 20, 30),\n",
       " 'shivam',\n",
       " 'kunal',\n",
       " [10, 20],\n",
       " 'vicky',\n",
       " (10, 20, 30)]"
      ]
     },
     "execution_count": 102,
     "metadata": {},
     "output_type": "execute_result"
    }
   ],
   "source": [
    "list*2"
   ]
  },
  {
   "cell_type": "code",
   "execution_count": 103,
   "id": "4ae540e8",
   "metadata": {},
   "outputs": [
    {
     "data": {
      "text/plain": [
       "['shivam', 'kunal']"
      ]
     },
     "execution_count": 103,
     "metadata": {},
     "output_type": "execute_result"
    }
   ],
   "source": [
    "list[0:2]"
   ]
  },
  {
   "cell_type": "code",
   "execution_count": 104,
   "id": "aa543f89",
   "metadata": {},
   "outputs": [
    {
     "data": {
      "text/plain": [
       "[(10, 20, 30), [10, 20]]"
      ]
     },
     "execution_count": 104,
     "metadata": {},
     "output_type": "execute_result"
    }
   ],
   "source": [
    "list[5:0:-2]"
   ]
  },
  {
   "cell_type": "code",
   "execution_count": 105,
   "id": "0d488a65",
   "metadata": {},
   "outputs": [
    {
     "data": {
      "text/plain": [
       "[(10, 20, 30), 'vicky', [10, 20], 'kunal', 'shivam']"
      ]
     },
     "execution_count": 105,
     "metadata": {},
     "output_type": "execute_result"
    }
   ],
   "source": [
    "list[::-1]"
   ]
  },
  {
   "cell_type": "code",
   "execution_count": 106,
   "id": "0c52f079",
   "metadata": {},
   "outputs": [
    {
     "data": {
      "text/plain": [
       "[[10, 20], 'vicky', (10, 20, 30)]"
      ]
     },
     "execution_count": 106,
     "metadata": {},
     "output_type": "execute_result"
    }
   ],
   "source": [
    "list[2:]"
   ]
  },
  {
   "cell_type": "code",
   "execution_count": 107,
   "id": "5a43d0bc",
   "metadata": {},
   "outputs": [],
   "source": [
    "list.remove('vicky')"
   ]
  },
  {
   "cell_type": "code",
   "execution_count": 108,
   "id": "1d8c2b14",
   "metadata": {},
   "outputs": [
    {
     "data": {
      "text/plain": [
       "['shivam', 'kunal', [10, 20], (10, 20, 30)]"
      ]
     },
     "execution_count": 108,
     "metadata": {},
     "output_type": "execute_result"
    }
   ],
   "source": [
    "list"
   ]
  },
  {
   "cell_type": "code",
   "execution_count": 110,
   "id": "1cf52146",
   "metadata": {},
   "outputs": [
    {
     "data": {
      "text/plain": [
       "247"
      ]
     },
     "execution_count": 110,
     "metadata": {},
     "output_type": "execute_result"
    }
   ],
   "source": [
    "a=[10,2,34,45,67,89]\n",
    "sum(a)"
   ]
  },
  {
   "cell_type": "code",
   "execution_count": 111,
   "id": "9fce232d",
   "metadata": {},
   "outputs": [
    {
     "data": {
      "text/plain": [
       "6"
      ]
     },
     "execution_count": 111,
     "metadata": {},
     "output_type": "execute_result"
    }
   ],
   "source": [
    "len(a)"
   ]
  },
  {
   "cell_type": "code",
   "execution_count": 112,
   "id": "4c9934c6",
   "metadata": {},
   "outputs": [
    {
     "data": {
      "text/plain": [
       "89"
      ]
     },
     "execution_count": 112,
     "metadata": {},
     "output_type": "execute_result"
    }
   ],
   "source": [
    "max(a)"
   ]
  },
  {
   "cell_type": "code",
   "execution_count": 113,
   "id": "5b755a17",
   "metadata": {},
   "outputs": [
    {
     "data": {
      "text/plain": [
       "2"
      ]
     },
     "execution_count": 113,
     "metadata": {},
     "output_type": "execute_result"
    }
   ],
   "source": [
    "min(a)"
   ]
  },
  {
   "cell_type": "code",
   "execution_count": 114,
   "id": "6d5304f5",
   "metadata": {},
   "outputs": [],
   "source": [
    "a.sort()"
   ]
  },
  {
   "cell_type": "code",
   "execution_count": 115,
   "id": "61f40743",
   "metadata": {},
   "outputs": [
    {
     "data": {
      "text/plain": [
       "[2, 10, 34, 45, 67, 89]"
      ]
     },
     "execution_count": 115,
     "metadata": {},
     "output_type": "execute_result"
    }
   ],
   "source": [
    "a"
   ]
  },
  {
   "cell_type": "code",
   "execution_count": 116,
   "id": "feac97ac",
   "metadata": {},
   "outputs": [],
   "source": [
    "a.sort(reverse=True)"
   ]
  },
  {
   "cell_type": "code",
   "execution_count": 117,
   "id": "91c3cce4",
   "metadata": {},
   "outputs": [
    {
     "data": {
      "text/plain": [
       "[89, 67, 45, 34, 10, 2]"
      ]
     },
     "execution_count": 117,
     "metadata": {},
     "output_type": "execute_result"
    }
   ],
   "source": [
    "a"
   ]
  },
  {
   "cell_type": "code",
   "execution_count": 118,
   "id": "932c826d",
   "metadata": {},
   "outputs": [],
   "source": [
    "a.reverse()"
   ]
  },
  {
   "cell_type": "code",
   "execution_count": 119,
   "id": "18faf598",
   "metadata": {},
   "outputs": [
    {
     "data": {
      "text/plain": [
       "[2, 10, 34, 45, 67, 89]"
      ]
     },
     "execution_count": 119,
     "metadata": {},
     "output_type": "execute_result"
    }
   ],
   "source": [
    "a"
   ]
  },
  {
   "cell_type": "code",
   "execution_count": 120,
   "id": "00354a39",
   "metadata": {},
   "outputs": [],
   "source": [
    "x=[20,40,50]\n",
    "a.extend(x)"
   ]
  },
  {
   "cell_type": "code",
   "execution_count": 121,
   "id": "95bb1bc7",
   "metadata": {},
   "outputs": [
    {
     "data": {
      "text/plain": [
       "[2, 10, 34, 45, 67, 89, 20, 40, 50]"
      ]
     },
     "execution_count": 121,
     "metadata": {},
     "output_type": "execute_result"
    }
   ],
   "source": [
    "a"
   ]
  },
  {
   "cell_type": "code",
   "execution_count": 122,
   "id": "24bc3ffa",
   "metadata": {},
   "outputs": [
    {
     "data": {
      "text/plain": [
       "9"
      ]
     },
     "execution_count": 122,
     "metadata": {},
     "output_type": "execute_result"
    }
   ],
   "source": [
    "len(a)"
   ]
  },
  {
   "cell_type": "code",
   "execution_count": 125,
   "id": "77821169",
   "metadata": {},
   "outputs": [],
   "source": [
    "del(a[0])"
   ]
  },
  {
   "cell_type": "code",
   "execution_count": 126,
   "id": "a999f0d1",
   "metadata": {},
   "outputs": [
    {
     "data": {
      "text/plain": [
       "[10, 34, 45, 67, 89, 20, 40, 50]"
      ]
     },
     "execution_count": 126,
     "metadata": {},
     "output_type": "execute_result"
    }
   ],
   "source": [
    "a"
   ]
  },
  {
   "cell_type": "code",
   "execution_count": 127,
   "id": "5da53b87",
   "metadata": {},
   "outputs": [],
   "source": [
    "y=[12,13,14,15,16]\n",
    "y=a.copy()"
   ]
  },
  {
   "cell_type": "code",
   "execution_count": 128,
   "id": "7f88183f",
   "metadata": {},
   "outputs": [
    {
     "data": {
      "text/plain": [
       "[10, 34, 45, 67, 89, 20, 40, 50]"
      ]
     },
     "execution_count": 128,
     "metadata": {},
     "output_type": "execute_result"
    }
   ],
   "source": [
    "y"
   ]
  },
  {
   "cell_type": "code",
   "execution_count": 129,
   "id": "ea4620f5",
   "metadata": {},
   "outputs": [
    {
     "data": {
      "text/plain": [
       "[10, 34, 45, 67, 89, 20, 40, 50]"
      ]
     },
     "execution_count": 129,
     "metadata": {},
     "output_type": "execute_result"
    }
   ],
   "source": [
    "a"
   ]
  },
  {
   "cell_type": "code",
   "execution_count": 131,
   "id": "8da27b9d",
   "metadata": {},
   "outputs": [
    {
     "ename": "TypeError",
     "evalue": "object of type 'int' has no len()",
     "output_type": "error",
     "traceback": [
      "\u001b[1;31m---------------------------------------------------------------------------\u001b[0m",
      "\u001b[1;31mTypeError\u001b[0m                                 Traceback (most recent call last)",
      "Input \u001b[1;32mIn [131]\u001b[0m, in \u001b[0;36m<cell line: 1>\u001b[1;34m()\u001b[0m\n\u001b[0;32m      1\u001b[0m \u001b[38;5;28;01mfor\u001b[39;00m b \u001b[38;5;129;01min\u001b[39;00m a:\n\u001b[1;32m----> 2\u001b[0m     \u001b[38;5;28mprint\u001b[39m(\u001b[38;5;28;43mlen\u001b[39;49m\u001b[43m(\u001b[49m\u001b[43mb\u001b[49m\u001b[43m)\u001b[49m)\n",
      "\u001b[1;31mTypeError\u001b[0m: object of type 'int' has no len()"
     ]
    }
   ],
   "source": [
    "for b in a:\n",
    "    print(len(b))"
   ]
  },
  {
   "cell_type": "markdown",
   "id": "b4861d00",
   "metadata": {},
   "source": [
    "## tuples()"
   ]
  },
  {
   "cell_type": "code",
   "execution_count": 1,
   "id": "1ae22d67",
   "metadata": {},
   "outputs": [],
   "source": [
    "tup=()"
   ]
  },
  {
   "cell_type": "code",
   "execution_count": 2,
   "id": "d8ea1e34",
   "metadata": {},
   "outputs": [
    {
     "data": {
      "text/plain": [
       "tuple"
      ]
     },
     "execution_count": 2,
     "metadata": {},
     "output_type": "execute_result"
    }
   ],
   "source": [
    "type(tup)"
   ]
  },
  {
   "cell_type": "code",
   "execution_count": 4,
   "id": "995f2276",
   "metadata": {},
   "outputs": [],
   "source": [
    "tup=(10,20,30,40)"
   ]
  },
  {
   "cell_type": "code",
   "execution_count": 5,
   "id": "2d9d568d",
   "metadata": {},
   "outputs": [
    {
     "data": {
      "text/plain": [
       "(10, 20, 30, 40)"
      ]
     },
     "execution_count": 5,
     "metadata": {},
     "output_type": "execute_result"
    }
   ],
   "source": [
    "tup"
   ]
  },
  {
   "cell_type": "code",
   "execution_count": 6,
   "id": "07425679",
   "metadata": {},
   "outputs": [
    {
     "name": "stdout",
     "output_type": "stream",
     "text": [
      "(10, 20, 30, 40)\n",
      "(10, 20, 30, 40)\n",
      "(10, 20, 30, 40)\n",
      "(10, 20, 30, 40)\n"
     ]
    }
   ],
   "source": [
    "for i in tup:\n",
    "    print(tup)\n",
    "    "
   ]
  },
  {
   "cell_type": "code",
   "execution_count": 7,
   "id": "42327ee9",
   "metadata": {},
   "outputs": [
    {
     "ename": "TypeError",
     "evalue": "'tuple' object does not support item assignment",
     "output_type": "error",
     "traceback": [
      "\u001b[1;31m---------------------------------------------------------------------------\u001b[0m",
      "\u001b[1;31mTypeError\u001b[0m                                 Traceback (most recent call last)",
      "Input \u001b[1;32mIn [7]\u001b[0m, in \u001b[0;36m<cell line: 1>\u001b[1;34m()\u001b[0m\n\u001b[1;32m----> 1\u001b[0m tup[\u001b[38;5;241m0\u001b[39m]\u001b[38;5;241m=\u001b[39m\u001b[38;5;241m99\u001b[39m\n",
      "\u001b[1;31mTypeError\u001b[0m: 'tuple' object does not support item assignment"
     ]
    }
   ],
   "source": [
    "tup[0]=99     # immutable"
   ]
  },
  {
   "cell_type": "code",
   "execution_count": 8,
   "id": "a38c2356",
   "metadata": {},
   "outputs": [
    {
     "data": {
      "text/plain": [
       "10"
      ]
     },
     "execution_count": 8,
     "metadata": {},
     "output_type": "execute_result"
    }
   ],
   "source": [
    "tup[0]"
   ]
  },
  {
   "cell_type": "code",
   "execution_count": 9,
   "id": "a8f79206",
   "metadata": {},
   "outputs": [
    {
     "data": {
      "text/plain": [
       "(10, 20, 30)"
      ]
     },
     "execution_count": 9,
     "metadata": {},
     "output_type": "execute_result"
    }
   ],
   "source": [
    "tup[0:3]"
   ]
  },
  {
   "cell_type": "code",
   "execution_count": 10,
   "id": "48a46334",
   "metadata": {},
   "outputs": [
    {
     "data": {
      "text/plain": [
       "(40, 30, 20, 10)"
      ]
     },
     "execution_count": 10,
     "metadata": {},
     "output_type": "execute_result"
    }
   ],
   "source": [
    "tup[::-1]"
   ]
  },
  {
   "cell_type": "code",
   "execution_count": 11,
   "id": "139f5bbd",
   "metadata": {},
   "outputs": [
    {
     "data": {
      "text/plain": [
       "(40, 30)"
      ]
     },
     "execution_count": 11,
     "metadata": {},
     "output_type": "execute_result"
    }
   ],
   "source": [
    "tup[3:1:-1]"
   ]
  },
  {
   "cell_type": "code",
   "execution_count": 12,
   "id": "e4e9ddca",
   "metadata": {},
   "outputs": [
    {
     "data": {
      "text/plain": [
       "4"
      ]
     },
     "execution_count": 12,
     "metadata": {},
     "output_type": "execute_result"
    }
   ],
   "source": [
    "# operation\n",
    "len(tup)"
   ]
  },
  {
   "cell_type": "code",
   "execution_count": 13,
   "id": "bd8a54c9",
   "metadata": {},
   "outputs": [
    {
     "data": {
      "text/plain": [
       "100"
      ]
     },
     "execution_count": 13,
     "metadata": {},
     "output_type": "execute_result"
    }
   ],
   "source": [
    "sum(tup)"
   ]
  },
  {
   "cell_type": "code",
   "execution_count": 14,
   "id": "612310e0",
   "metadata": {},
   "outputs": [
    {
     "data": {
      "text/plain": [
       "40"
      ]
     },
     "execution_count": 14,
     "metadata": {},
     "output_type": "execute_result"
    }
   ],
   "source": [
    "max(tup)"
   ]
  },
  {
   "cell_type": "code",
   "execution_count": 15,
   "id": "c12d687b",
   "metadata": {},
   "outputs": [
    {
     "data": {
      "text/plain": [
       "10"
      ]
     },
     "execution_count": 15,
     "metadata": {},
     "output_type": "execute_result"
    }
   ],
   "source": [
    "min(tup)"
   ]
  },
  {
   "cell_type": "code",
   "execution_count": 17,
   "id": "5fb2e3d2",
   "metadata": {},
   "outputs": [
    {
     "data": {
      "text/plain": [
       "1"
      ]
     },
     "execution_count": 17,
     "metadata": {},
     "output_type": "execute_result"
    }
   ],
   "source": [
    "tup.count(10)"
   ]
  },
  {
   "cell_type": "code",
   "execution_count": 18,
   "id": "dcf71c43",
   "metadata": {},
   "outputs": [
    {
     "data": {
      "text/plain": [
       "2"
      ]
     },
     "execution_count": 18,
     "metadata": {},
     "output_type": "execute_result"
    }
   ],
   "source": [
    "tup.index(30)"
   ]
  },
  {
   "cell_type": "code",
   "execution_count": 20,
   "id": "1383e5f5",
   "metadata": {},
   "outputs": [
    {
     "data": {
      "text/plain": [
       "[10, 20, 30, 40]"
      ]
     },
     "execution_count": 20,
     "metadata": {},
     "output_type": "execute_result"
    }
   ],
   "source": [
    "sorted(tup)"
   ]
  },
  {
   "cell_type": "code",
   "execution_count": 22,
   "id": "20cf6716",
   "metadata": {},
   "outputs": [
    {
     "data": {
      "text/plain": [
       "[40, 30, 20, 10]"
      ]
     },
     "execution_count": 22,
     "metadata": {},
     "output_type": "execute_result"
    }
   ],
   "source": [
    "sorted(tup,reverse=True)"
   ]
  },
  {
   "cell_type": "markdown",
   "id": "87bc890c",
   "metadata": {},
   "source": [
    "## range()"
   ]
  },
  {
   "cell_type": "code",
   "execution_count": 23,
   "id": "8b6c7f53",
   "metadata": {},
   "outputs": [
    {
     "data": {
      "text/plain": [
       "range(0, 10)"
      ]
     },
     "execution_count": 23,
     "metadata": {},
     "output_type": "execute_result"
    }
   ],
   "source": [
    "range(10)"
   ]
  },
  {
   "cell_type": "code",
   "execution_count": 24,
   "id": "95c2d3fa",
   "metadata": {},
   "outputs": [
    {
     "data": {
      "text/plain": [
       "range(0, 10, 2)"
      ]
     },
     "execution_count": 24,
     "metadata": {},
     "output_type": "execute_result"
    }
   ],
   "source": [
    "range(0,10,2)"
   ]
  },
  {
   "cell_type": "code",
   "execution_count": 25,
   "id": "81a1fabc",
   "metadata": {},
   "outputs": [
    {
     "name": "stdout",
     "output_type": "stream",
     "text": [
      "0\n",
      "2\n",
      "4\n",
      "6\n",
      "8\n",
      "10\n",
      "12\n",
      "14\n",
      "16\n",
      "18\n"
     ]
    }
   ],
   "source": [
    "for i in range(0,20,2):\n",
    "    print(i)"
   ]
  },
  {
   "cell_type": "code",
   "execution_count": 26,
   "id": "9bc96e04",
   "metadata": {},
   "outputs": [
    {
     "name": "stdout",
     "output_type": "stream",
     "text": [
      "0\n",
      "1\n",
      "2\n",
      "3\n",
      "4\n",
      "5\n",
      "6\n",
      "7\n",
      "8\n",
      "9\n"
     ]
    }
   ],
   "source": [
    "lst=list(range(0,10))\n",
    "for i in lst:\n",
    "    print(i)"
   ]
  },
  {
   "cell_type": "markdown",
   "id": "1ea69d1a",
   "metadata": {},
   "source": [
    "## set()-->unorder form , not dublicate value"
   ]
  },
  {
   "cell_type": "code",
   "execution_count": 27,
   "id": "b30c53fc",
   "metadata": {},
   "outputs": [],
   "source": [
    "# set()\n",
    "s={10,12,13,14,15,12}"
   ]
  },
  {
   "cell_type": "code",
   "execution_count": 28,
   "id": "e635ebc8",
   "metadata": {},
   "outputs": [
    {
     "data": {
      "text/plain": [
       "set"
      ]
     },
     "execution_count": 28,
     "metadata": {},
     "output_type": "execute_result"
    }
   ],
   "source": [
    "type(s)"
   ]
  },
  {
   "cell_type": "code",
   "execution_count": 29,
   "id": "3a454cea",
   "metadata": {},
   "outputs": [
    {
     "data": {
      "text/plain": [
       "{10, 12, 13, 14, 15}"
      ]
     },
     "execution_count": 29,
     "metadata": {},
     "output_type": "execute_result"
    }
   ],
   "source": [
    "s  # not display duplicate value"
   ]
  },
  {
   "cell_type": "code",
   "execution_count": 31,
   "id": "181dbe50",
   "metadata": {},
   "outputs": [
    {
     "name": "stdout",
     "output_type": "stream",
     "text": [
      "{'u', 'n', 'a', 'l', 'k'}\n"
     ]
    }
   ],
   "source": [
    "ch=set(\"kunal\")    # unorder\n",
    "print(ch)"
   ]
  },
  {
   "cell_type": "code",
   "execution_count": 32,
   "id": "9cdd05f7",
   "metadata": {},
   "outputs": [
    {
     "ename": "TypeError",
     "evalue": "'set' object is not subscriptable",
     "output_type": "error",
     "traceback": [
      "\u001b[1;31m---------------------------------------------------------------------------\u001b[0m",
      "\u001b[1;31mTypeError\u001b[0m                                 Traceback (most recent call last)",
      "Input \u001b[1;32mIn [32]\u001b[0m, in \u001b[0;36m<cell line: 1>\u001b[1;34m()\u001b[0m\n\u001b[1;32m----> 1\u001b[0m \u001b[43mch\u001b[49m\u001b[43m[\u001b[49m\u001b[38;5;241;43m0\u001b[39;49m\u001b[43m]\u001b[49m\n",
      "\u001b[1;31mTypeError\u001b[0m: 'set' object is not subscriptable"
     ]
    }
   ],
   "source": [
    "ch[0]  # because they are not in order that's why"
   ]
  },
  {
   "cell_type": "code",
   "execution_count": 33,
   "id": "aed0638d",
   "metadata": {},
   "outputs": [],
   "source": [
    "# we can modify the set\n",
    "s.add(10)"
   ]
  },
  {
   "cell_type": "code",
   "execution_count": 34,
   "id": "4b5f9b83",
   "metadata": {},
   "outputs": [
    {
     "data": {
      "text/plain": [
       "{10, 12, 13, 14, 15}"
      ]
     },
     "execution_count": 34,
     "metadata": {},
     "output_type": "execute_result"
    }
   ],
   "source": [
    "s"
   ]
  },
  {
   "cell_type": "code",
   "execution_count": 35,
   "id": "4b45a20d",
   "metadata": {},
   "outputs": [],
   "source": [
    "s.add(25)"
   ]
  },
  {
   "cell_type": "code",
   "execution_count": 36,
   "id": "d166fa7f",
   "metadata": {},
   "outputs": [
    {
     "data": {
      "text/plain": [
       "{10, 12, 13, 14, 15, 25}"
      ]
     },
     "execution_count": 36,
     "metadata": {},
     "output_type": "execute_result"
    }
   ],
   "source": [
    "s"
   ]
  },
  {
   "cell_type": "code",
   "execution_count": 38,
   "id": "f3adac42",
   "metadata": {},
   "outputs": [],
   "source": [
    "s.update([35,69])"
   ]
  },
  {
   "cell_type": "code",
   "execution_count": 39,
   "id": "a61a2195",
   "metadata": {},
   "outputs": [
    {
     "data": {
      "text/plain": [
       "{10, 12, 13, 14, 15, 25, 35, 69}"
      ]
     },
     "execution_count": 39,
     "metadata": {},
     "output_type": "execute_result"
    }
   ],
   "source": [
    "s"
   ]
  },
  {
   "cell_type": "code",
   "execution_count": 40,
   "id": "f59d9709",
   "metadata": {},
   "outputs": [],
   "source": [
    "s.remove(12)"
   ]
  },
  {
   "cell_type": "code",
   "execution_count": 41,
   "id": "84998519",
   "metadata": {},
   "outputs": [
    {
     "data": {
      "text/plain": [
       "{10, 13, 14, 15, 25, 35, 69}"
      ]
     },
     "execution_count": 41,
     "metadata": {},
     "output_type": "execute_result"
    }
   ],
   "source": [
    "s"
   ]
  },
  {
   "cell_type": "markdown",
   "id": "895e9e27",
   "metadata": {},
   "source": [
    "## frozenset not modify but same in set"
   ]
  },
  {
   "cell_type": "code",
   "execution_count": 42,
   "id": "f6c7fdc6",
   "metadata": {},
   "outputs": [],
   "source": [
    "s={12,13,14,15,12,13,14,15}\n",
    "fs=frozenset(s)"
   ]
  },
  {
   "cell_type": "code",
   "execution_count": 43,
   "id": "e8012793",
   "metadata": {},
   "outputs": [
    {
     "data": {
      "text/plain": [
       "frozenset({12, 13, 14, 15})"
      ]
     },
     "execution_count": 43,
     "metadata": {},
     "output_type": "execute_result"
    }
   ],
   "source": [
    "fs"
   ]
  },
  {
   "cell_type": "markdown",
   "id": "20522107",
   "metadata": {},
   "source": [
    "## mapping key value pair"
   ]
  },
  {
   "cell_type": "code",
   "execution_count": 44,
   "id": "f0f21d49",
   "metadata": {},
   "outputs": [],
   "source": [
    "d={10:\"kunal\",\n",
    "  11:\"vicky\",\n",
    "  12:\"shivam\"}"
   ]
  },
  {
   "cell_type": "code",
   "execution_count": 45,
   "id": "3649e9fe",
   "metadata": {},
   "outputs": [
    {
     "data": {
      "text/plain": [
       "{10: 'kunal', 11: 'vicky', 12: 'shivam'}"
      ]
     },
     "execution_count": 45,
     "metadata": {},
     "output_type": "execute_result"
    }
   ],
   "source": [
    "d"
   ]
  },
  {
   "cell_type": "code",
   "execution_count": 46,
   "id": "99070dac",
   "metadata": {},
   "outputs": [
    {
     "data": {
      "text/plain": [
       "dict_keys([10, 11, 12])"
      ]
     },
     "execution_count": 46,
     "metadata": {},
     "output_type": "execute_result"
    }
   ],
   "source": [
    "d.keys()"
   ]
  },
  {
   "cell_type": "code",
   "execution_count": 47,
   "id": "ca4e728c",
   "metadata": {},
   "outputs": [
    {
     "data": {
      "text/plain": [
       "dict_values(['kunal', 'vicky', 'shivam'])"
      ]
     },
     "execution_count": 47,
     "metadata": {},
     "output_type": "execute_result"
    }
   ],
   "source": [
    "d.values()"
   ]
  },
  {
   "cell_type": "code",
   "execution_count": 48,
   "id": "7110c518",
   "metadata": {},
   "outputs": [],
   "source": [
    "s={}"
   ]
  },
  {
   "cell_type": "code",
   "execution_count": 49,
   "id": "a05fad7d",
   "metadata": {},
   "outputs": [],
   "source": [
    "s[10]=\"kunal\""
   ]
  },
  {
   "cell_type": "code",
   "execution_count": 50,
   "id": "43820daf",
   "metadata": {},
   "outputs": [],
   "source": [
    "s[11]=\"vicky\""
   ]
  },
  {
   "cell_type": "code",
   "execution_count": 51,
   "id": "841402ce",
   "metadata": {},
   "outputs": [],
   "source": [
    "s[12]=\"shivam\""
   ]
  },
  {
   "cell_type": "code",
   "execution_count": 52,
   "id": "e93da65e",
   "metadata": {},
   "outputs": [
    {
     "data": {
      "text/plain": [
       "{10: 'kunal', 11: 'vicky', 12: 'shivam'}"
      ]
     },
     "execution_count": 52,
     "metadata": {},
     "output_type": "execute_result"
    }
   ],
   "source": [
    "s"
   ]
  },
  {
   "cell_type": "code",
   "execution_count": 53,
   "id": "c7181293",
   "metadata": {},
   "outputs": [
    {
     "data": {
      "text/plain": [
       "3"
      ]
     },
     "execution_count": 53,
     "metadata": {},
     "output_type": "execute_result"
    }
   ],
   "source": [
    "len(s)"
   ]
  },
  {
   "cell_type": "code",
   "execution_count": 54,
   "id": "b8972f9f",
   "metadata": {},
   "outputs": [
    {
     "data": {
      "text/plain": [
       "'kunal'"
      ]
     },
     "execution_count": 54,
     "metadata": {},
     "output_type": "execute_result"
    }
   ],
   "source": [
    "s[10]"
   ]
  },
  {
   "cell_type": "code",
   "execution_count": 55,
   "id": "aa678f65",
   "metadata": {},
   "outputs": [
    {
     "data": {
      "text/plain": [
       "'shivam'"
      ]
     },
     "execution_count": 55,
     "metadata": {},
     "output_type": "execute_result"
    }
   ],
   "source": [
    "s[12]"
   ]
  },
  {
   "cell_type": "code",
   "execution_count": 56,
   "id": "3de21b89",
   "metadata": {},
   "outputs": [
    {
     "name": "stdout",
     "output_type": "stream",
     "text": [
      "10\n",
      "11\n",
      "12\n"
     ]
    }
   ],
   "source": [
    "k=s.keys()\n",
    "for i in k:\n",
    "    print(i)"
   ]
  },
  {
   "cell_type": "code",
   "execution_count": 57,
   "id": "965ed9c8",
   "metadata": {},
   "outputs": [
    {
     "name": "stdout",
     "output_type": "stream",
     "text": [
      "dict_values(['kunal', 'vicky', 'shivam'])\n",
      "dict_values(['kunal', 'vicky', 'shivam'])\n",
      "dict_values(['kunal', 'vicky', 'shivam'])\n"
     ]
    }
   ],
   "source": [
    "val=s.values()\n",
    "for l in val:\n",
    "    print(val)"
   ]
  },
  {
   "cell_type": "code",
   "execution_count": 59,
   "id": "a07df284",
   "metadata": {},
   "outputs": [
    {
     "name": "stdout",
     "output_type": "stream",
     "text": [
      "10 kunal\n",
      "11 vicky\n",
      "12 shivam\n"
     ]
    }
   ],
   "source": [
    "for i,l in s.items():\n",
    "    print(i,l)"
   ]
  },
  {
   "cell_type": "code",
   "execution_count": 60,
   "id": "a68a465a",
   "metadata": {},
   "outputs": [],
   "source": [
    "del(s[11])"
   ]
  },
  {
   "cell_type": "code",
   "execution_count": 61,
   "id": "908301c2",
   "metadata": {},
   "outputs": [
    {
     "data": {
      "text/plain": [
       "{10: 'kunal', 12: 'shivam'}"
      ]
     },
     "execution_count": 61,
     "metadata": {},
     "output_type": "execute_result"
    }
   ],
   "source": [
    "s"
   ]
  },
  {
   "cell_type": "code",
   "execution_count": null,
   "id": "543a3b01",
   "metadata": {},
   "outputs": [],
   "source": [
    " "
   ]
  }
 ],
 "metadata": {
  "kernelspec": {
   "display_name": "Python 3 (ipykernel)",
   "language": "python",
   "name": "python3"
  },
  "language_info": {
   "codemirror_mode": {
    "name": "ipython",
    "version": 3
   },
   "file_extension": ".py",
   "mimetype": "text/x-python",
   "name": "python",
   "nbconvert_exporter": "python",
   "pygments_lexer": "ipython3",
   "version": "3.9.12"
  }
 },
 "nbformat": 4,
 "nbformat_minor": 5
}
