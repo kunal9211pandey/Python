{
 "cells": [
  {
   "cell_type": "code",
   "execution_count": 2,
   "id": "effa0d1b",
   "metadata": {},
   "outputs": [],
   "source": [
    "import pandas as pd"
   ]
  },
  {
   "cell_type": "code",
   "execution_count": 3,
   "id": "1039aa7c",
   "metadata": {},
   "outputs": [],
   "source": [
    "data = {'Name': ['Jai', 'Princi', 'Gaurav',\n",
    "                 'Anuj', 'Ravi', 'Natasha', 'Riya'],\n",
    "        'Age': [17, 17, 18, 17, 18, 17, 17],\n",
    "        'Gender': ['M', 'F', 'M', 'M', 'M', 'F', 'F'],\n",
    "        'Marks': [90, 76, 'NaN', 74, 65, 'NaN', 71]}"
   ]
  },
  {
   "cell_type": "code",
   "execution_count": 4,
   "id": "76fb4c6a",
   "metadata": {},
   "outputs": [],
   "source": [
    "df=pd.DataFrame(data)"
   ]
  },
  {
   "cell_type": "code",
   "execution_count": 5,
   "id": "ce7e2dd6",
   "metadata": {},
   "outputs": [
    {
     "data": {
      "text/html": [
       "<div>\n",
       "<style scoped>\n",
       "    .dataframe tbody tr th:only-of-type {\n",
       "        vertical-align: middle;\n",
       "    }\n",
       "\n",
       "    .dataframe tbody tr th {\n",
       "        vertical-align: top;\n",
       "    }\n",
       "\n",
       "    .dataframe thead th {\n",
       "        text-align: right;\n",
       "    }\n",
       "</style>\n",
       "<table border=\"1\" class=\"dataframe\">\n",
       "  <thead>\n",
       "    <tr style=\"text-align: right;\">\n",
       "      <th></th>\n",
       "      <th>Name</th>\n",
       "      <th>Age</th>\n",
       "      <th>Gender</th>\n",
       "      <th>Marks</th>\n",
       "    </tr>\n",
       "  </thead>\n",
       "  <tbody>\n",
       "    <tr>\n",
       "      <th>0</th>\n",
       "      <td>Jai</td>\n",
       "      <td>17</td>\n",
       "      <td>M</td>\n",
       "      <td>90</td>\n",
       "    </tr>\n",
       "    <tr>\n",
       "      <th>1</th>\n",
       "      <td>Princi</td>\n",
       "      <td>17</td>\n",
       "      <td>F</td>\n",
       "      <td>76</td>\n",
       "    </tr>\n",
       "    <tr>\n",
       "      <th>2</th>\n",
       "      <td>Gaurav</td>\n",
       "      <td>18</td>\n",
       "      <td>M</td>\n",
       "      <td>NaN</td>\n",
       "    </tr>\n",
       "    <tr>\n",
       "      <th>3</th>\n",
       "      <td>Anuj</td>\n",
       "      <td>17</td>\n",
       "      <td>M</td>\n",
       "      <td>74</td>\n",
       "    </tr>\n",
       "    <tr>\n",
       "      <th>4</th>\n",
       "      <td>Ravi</td>\n",
       "      <td>18</td>\n",
       "      <td>M</td>\n",
       "      <td>65</td>\n",
       "    </tr>\n",
       "    <tr>\n",
       "      <th>5</th>\n",
       "      <td>Natasha</td>\n",
       "      <td>17</td>\n",
       "      <td>F</td>\n",
       "      <td>NaN</td>\n",
       "    </tr>\n",
       "    <tr>\n",
       "      <th>6</th>\n",
       "      <td>Riya</td>\n",
       "      <td>17</td>\n",
       "      <td>F</td>\n",
       "      <td>71</td>\n",
       "    </tr>\n",
       "  </tbody>\n",
       "</table>\n",
       "</div>"
      ],
      "text/plain": [
       "      Name  Age Gender Marks\n",
       "0      Jai   17      M    90\n",
       "1   Princi   17      F    76\n",
       "2   Gaurav   18      M   NaN\n",
       "3     Anuj   17      M    74\n",
       "4     Ravi   18      M    65\n",
       "5  Natasha   17      F   NaN\n",
       "6     Riya   17      F    71"
      ]
     },
     "execution_count": 5,
     "metadata": {},
     "output_type": "execute_result"
    }
   ],
   "source": [
    "df"
   ]
  },
  {
   "cell_type": "code",
   "execution_count": 6,
   "id": "2df45252",
   "metadata": {},
   "outputs": [],
   "source": [
    "c = avg = 0\n",
    "for ele in df['Marks']:\n",
    "    if str(ele).isnumeric():\n",
    "        c += 1\n",
    "        avg += ele\n",
    "avg /= c"
   ]
  },
  {
   "cell_type": "code",
   "execution_count": 7,
   "id": "80509c6b",
   "metadata": {},
   "outputs": [],
   "source": [
    "df = df.replace(to_replace=\"NaN\",\n",
    "                value=avg)"
   ]
  },
  {
   "cell_type": "code",
   "execution_count": 8,
   "id": "e942d558",
   "metadata": {},
   "outputs": [
    {
     "data": {
      "text/html": [
       "<div>\n",
       "<style scoped>\n",
       "    .dataframe tbody tr th:only-of-type {\n",
       "        vertical-align: middle;\n",
       "    }\n",
       "\n",
       "    .dataframe tbody tr th {\n",
       "        vertical-align: top;\n",
       "    }\n",
       "\n",
       "    .dataframe thead th {\n",
       "        text-align: right;\n",
       "    }\n",
       "</style>\n",
       "<table border=\"1\" class=\"dataframe\">\n",
       "  <thead>\n",
       "    <tr style=\"text-align: right;\">\n",
       "      <th></th>\n",
       "      <th>Name</th>\n",
       "      <th>Age</th>\n",
       "      <th>Gender</th>\n",
       "      <th>Marks</th>\n",
       "    </tr>\n",
       "  </thead>\n",
       "  <tbody>\n",
       "    <tr>\n",
       "      <th>0</th>\n",
       "      <td>Jai</td>\n",
       "      <td>17</td>\n",
       "      <td>M</td>\n",
       "      <td>90.0</td>\n",
       "    </tr>\n",
       "    <tr>\n",
       "      <th>1</th>\n",
       "      <td>Princi</td>\n",
       "      <td>17</td>\n",
       "      <td>F</td>\n",
       "      <td>76.0</td>\n",
       "    </tr>\n",
       "    <tr>\n",
       "      <th>2</th>\n",
       "      <td>Gaurav</td>\n",
       "      <td>18</td>\n",
       "      <td>M</td>\n",
       "      <td>75.2</td>\n",
       "    </tr>\n",
       "    <tr>\n",
       "      <th>3</th>\n",
       "      <td>Anuj</td>\n",
       "      <td>17</td>\n",
       "      <td>M</td>\n",
       "      <td>74.0</td>\n",
       "    </tr>\n",
       "    <tr>\n",
       "      <th>4</th>\n",
       "      <td>Ravi</td>\n",
       "      <td>18</td>\n",
       "      <td>M</td>\n",
       "      <td>65.0</td>\n",
       "    </tr>\n",
       "    <tr>\n",
       "      <th>5</th>\n",
       "      <td>Natasha</td>\n",
       "      <td>17</td>\n",
       "      <td>F</td>\n",
       "      <td>75.2</td>\n",
       "    </tr>\n",
       "    <tr>\n",
       "      <th>6</th>\n",
       "      <td>Riya</td>\n",
       "      <td>17</td>\n",
       "      <td>F</td>\n",
       "      <td>71.0</td>\n",
       "    </tr>\n",
       "  </tbody>\n",
       "</table>\n",
       "</div>"
      ],
      "text/plain": [
       "      Name  Age Gender  Marks\n",
       "0      Jai   17      M   90.0\n",
       "1   Princi   17      F   76.0\n",
       "2   Gaurav   18      M   75.2\n",
       "3     Anuj   17      M   74.0\n",
       "4     Ravi   18      M   65.0\n",
       "5  Natasha   17      F   75.2\n",
       "6     Riya   17      F   71.0"
      ]
     },
     "execution_count": 8,
     "metadata": {},
     "output_type": "execute_result"
    }
   ],
   "source": [
    "df"
   ]
  },
  {
   "cell_type": "code",
   "execution_count": 9,
   "id": "b9054686",
   "metadata": {},
   "outputs": [],
   "source": [
    "df['Gender']=df['Gender'].map({'M':0,'F':1}).astype(float)"
   ]
  },
  {
   "cell_type": "code",
   "execution_count": 10,
   "id": "bc38e916",
   "metadata": {},
   "outputs": [
    {
     "data": {
      "text/html": [
       "<div>\n",
       "<style scoped>\n",
       "    .dataframe tbody tr th:only-of-type {\n",
       "        vertical-align: middle;\n",
       "    }\n",
       "\n",
       "    .dataframe tbody tr th {\n",
       "        vertical-align: top;\n",
       "    }\n",
       "\n",
       "    .dataframe thead th {\n",
       "        text-align: right;\n",
       "    }\n",
       "</style>\n",
       "<table border=\"1\" class=\"dataframe\">\n",
       "  <thead>\n",
       "    <tr style=\"text-align: right;\">\n",
       "      <th></th>\n",
       "      <th>Name</th>\n",
       "      <th>Age</th>\n",
       "      <th>Gender</th>\n",
       "      <th>Marks</th>\n",
       "    </tr>\n",
       "  </thead>\n",
       "  <tbody>\n",
       "    <tr>\n",
       "      <th>0</th>\n",
       "      <td>Jai</td>\n",
       "      <td>17</td>\n",
       "      <td>0.0</td>\n",
       "      <td>90.0</td>\n",
       "    </tr>\n",
       "    <tr>\n",
       "      <th>1</th>\n",
       "      <td>Princi</td>\n",
       "      <td>17</td>\n",
       "      <td>1.0</td>\n",
       "      <td>76.0</td>\n",
       "    </tr>\n",
       "    <tr>\n",
       "      <th>2</th>\n",
       "      <td>Gaurav</td>\n",
       "      <td>18</td>\n",
       "      <td>0.0</td>\n",
       "      <td>75.2</td>\n",
       "    </tr>\n",
       "    <tr>\n",
       "      <th>3</th>\n",
       "      <td>Anuj</td>\n",
       "      <td>17</td>\n",
       "      <td>0.0</td>\n",
       "      <td>74.0</td>\n",
       "    </tr>\n",
       "    <tr>\n",
       "      <th>4</th>\n",
       "      <td>Ravi</td>\n",
       "      <td>18</td>\n",
       "      <td>0.0</td>\n",
       "      <td>65.0</td>\n",
       "    </tr>\n",
       "    <tr>\n",
       "      <th>5</th>\n",
       "      <td>Natasha</td>\n",
       "      <td>17</td>\n",
       "      <td>1.0</td>\n",
       "      <td>75.2</td>\n",
       "    </tr>\n",
       "    <tr>\n",
       "      <th>6</th>\n",
       "      <td>Riya</td>\n",
       "      <td>17</td>\n",
       "      <td>1.0</td>\n",
       "      <td>71.0</td>\n",
       "    </tr>\n",
       "  </tbody>\n",
       "</table>\n",
       "</div>"
      ],
      "text/plain": [
       "      Name  Age  Gender  Marks\n",
       "0      Jai   17     0.0   90.0\n",
       "1   Princi   17     1.0   76.0\n",
       "2   Gaurav   18     0.0   75.2\n",
       "3     Anuj   17     0.0   74.0\n",
       "4     Ravi   18     0.0   65.0\n",
       "5  Natasha   17     1.0   75.2\n",
       "6     Riya   17     1.0   71.0"
      ]
     },
     "execution_count": 10,
     "metadata": {},
     "output_type": "execute_result"
    }
   ],
   "source": [
    "df"
   ]
  },
  {
   "cell_type": "code",
   "execution_count": 13,
   "id": "8cb1d524",
   "metadata": {},
   "outputs": [],
   "source": [
    "df=df[df['Marks']>75].copy()"
   ]
  },
  {
   "cell_type": "code",
   "execution_count": 14,
   "id": "6c31ba7d",
   "metadata": {},
   "outputs": [
    {
     "data": {
      "text/html": [
       "<div>\n",
       "<style scoped>\n",
       "    .dataframe tbody tr th:only-of-type {\n",
       "        vertical-align: middle;\n",
       "    }\n",
       "\n",
       "    .dataframe tbody tr th {\n",
       "        vertical-align: top;\n",
       "    }\n",
       "\n",
       "    .dataframe thead th {\n",
       "        text-align: right;\n",
       "    }\n",
       "</style>\n",
       "<table border=\"1\" class=\"dataframe\">\n",
       "  <thead>\n",
       "    <tr style=\"text-align: right;\">\n",
       "      <th></th>\n",
       "      <th>Name</th>\n",
       "      <th>Age</th>\n",
       "      <th>Gender</th>\n",
       "      <th>Marks</th>\n",
       "    </tr>\n",
       "  </thead>\n",
       "  <tbody>\n",
       "    <tr>\n",
       "      <th>0</th>\n",
       "      <td>Jai</td>\n",
       "      <td>17</td>\n",
       "      <td>0.0</td>\n",
       "      <td>90.0</td>\n",
       "    </tr>\n",
       "    <tr>\n",
       "      <th>1</th>\n",
       "      <td>Princi</td>\n",
       "      <td>17</td>\n",
       "      <td>1.0</td>\n",
       "      <td>76.0</td>\n",
       "    </tr>\n",
       "    <tr>\n",
       "      <th>2</th>\n",
       "      <td>Gaurav</td>\n",
       "      <td>18</td>\n",
       "      <td>0.0</td>\n",
       "      <td>75.2</td>\n",
       "    </tr>\n",
       "    <tr>\n",
       "      <th>5</th>\n",
       "      <td>Natasha</td>\n",
       "      <td>17</td>\n",
       "      <td>1.0</td>\n",
       "      <td>75.2</td>\n",
       "    </tr>\n",
       "  </tbody>\n",
       "</table>\n",
       "</div>"
      ],
      "text/plain": [
       "      Name  Age  Gender  Marks\n",
       "0      Jai   17     0.0   90.0\n",
       "1   Princi   17     1.0   76.0\n",
       "2   Gaurav   18     0.0   75.2\n",
       "5  Natasha   17     1.0   75.2"
      ]
     },
     "execution_count": 14,
     "metadata": {},
     "output_type": "execute_result"
    }
   ],
   "source": [
    "df"
   ]
  },
  {
   "cell_type": "code",
   "execution_count": 15,
   "id": "502176ea",
   "metadata": {},
   "outputs": [],
   "source": [
    "df.drop('Age',axis=1,inplace=True)"
   ]
  },
  {
   "cell_type": "code",
   "execution_count": 16,
   "id": "94be0e89",
   "metadata": {},
   "outputs": [
    {
     "data": {
      "text/html": [
       "<div>\n",
       "<style scoped>\n",
       "    .dataframe tbody tr th:only-of-type {\n",
       "        vertical-align: middle;\n",
       "    }\n",
       "\n",
       "    .dataframe tbody tr th {\n",
       "        vertical-align: top;\n",
       "    }\n",
       "\n",
       "    .dataframe thead th {\n",
       "        text-align: right;\n",
       "    }\n",
       "</style>\n",
       "<table border=\"1\" class=\"dataframe\">\n",
       "  <thead>\n",
       "    <tr style=\"text-align: right;\">\n",
       "      <th></th>\n",
       "      <th>Name</th>\n",
       "      <th>Gender</th>\n",
       "      <th>Marks</th>\n",
       "    </tr>\n",
       "  </thead>\n",
       "  <tbody>\n",
       "    <tr>\n",
       "      <th>0</th>\n",
       "      <td>Jai</td>\n",
       "      <td>0.0</td>\n",
       "      <td>90.0</td>\n",
       "    </tr>\n",
       "    <tr>\n",
       "      <th>1</th>\n",
       "      <td>Princi</td>\n",
       "      <td>1.0</td>\n",
       "      <td>76.0</td>\n",
       "    </tr>\n",
       "    <tr>\n",
       "      <th>2</th>\n",
       "      <td>Gaurav</td>\n",
       "      <td>0.0</td>\n",
       "      <td>75.2</td>\n",
       "    </tr>\n",
       "    <tr>\n",
       "      <th>5</th>\n",
       "      <td>Natasha</td>\n",
       "      <td>1.0</td>\n",
       "      <td>75.2</td>\n",
       "    </tr>\n",
       "  </tbody>\n",
       "</table>\n",
       "</div>"
      ],
      "text/plain": [
       "      Name  Gender  Marks\n",
       "0      Jai     0.0   90.0\n",
       "1   Princi     1.0   76.0\n",
       "2   Gaurav     0.0   75.2\n",
       "5  Natasha     1.0   75.2"
      ]
     },
     "execution_count": 16,
     "metadata": {},
     "output_type": "execute_result"
    }
   ],
   "source": [
    "df"
   ]
  },
  {
   "cell_type": "code",
   "execution_count": 17,
   "id": "ac5ab367",
   "metadata": {},
   "outputs": [],
   "source": [
    "details = pd.DataFrame({\n",
    "    'ID': [101, 102, 103, 104, 105, 106,\n",
    "           107, 108, 109, 110],\n",
    "    'NAME': ['Jagroop', 'Praveen', 'Harjot',\n",
    "             'Pooja', 'Rahul', 'Nikita',\n",
    "             'Saurabh', 'Ayush', 'Dolly', \"Mohit\"],\n",
    "    'BRANCH': ['CSE', 'CSE', 'CSE', 'CSE', 'CSE',\n",
    "               'CSE', 'CSE', 'CSE', 'CSE', 'CSE']})"
   ]
  },
  {
   "cell_type": "code",
   "execution_count": 18,
   "id": "3e17411a",
   "metadata": {},
   "outputs": [
    {
     "name": "stdout",
     "output_type": "stream",
     "text": [
      "    ID     NAME BRANCH\n",
      "0  101  Jagroop    CSE\n",
      "1  102  Praveen    CSE\n",
      "2  103   Harjot    CSE\n",
      "3  104    Pooja    CSE\n",
      "4  105    Rahul    CSE\n",
      "5  106   Nikita    CSE\n",
      "6  107  Saurabh    CSE\n",
      "7  108    Ayush    CSE\n",
      "8  109    Dolly    CSE\n",
      "9  110    Mohit    CSE\n"
     ]
    }
   ],
   "source": [
    "print(details)"
   ]
  },
  {
   "cell_type": "code",
   "execution_count": 19,
   "id": "06b46435",
   "metadata": {},
   "outputs": [
    {
     "name": "stdout",
     "output_type": "stream",
     "text": [
      "    ID PENDING\n",
      "0  101    5000\n",
      "1  102     250\n",
      "2  103     NIL\n",
      "3  104    9000\n",
      "4  105   15000\n",
      "5  106     NIL\n",
      "6  107    4500\n",
      "7  108    1800\n",
      "8  109     250\n",
      "9  110     NIL\n"
     ]
    }
   ],
   "source": [
    "fees_status = pd.DataFrame(\n",
    "    {'ID': [101, 102, 103, 104, 105,\n",
    "            106, 107, 108, 109, 110],\n",
    "     'PENDING': ['5000', '250', 'NIL',\n",
    "                 '9000', '15000', 'NIL',\n",
    "                 '4500', '1800', '250', 'NIL']})\n",
    " \n",
    "# Printing fees_status\n",
    "print(fees_status)"
   ]
  },
  {
   "cell_type": "code",
   "execution_count": 23,
   "id": "e8f19050",
   "metadata": {},
   "outputs": [
    {
     "name": "stdout",
     "output_type": "stream",
     "text": [
      "    ID     NAME BRANCH PENDING\n",
      "0  101  Jagroop    CSE    5000\n",
      "1  102  Praveen    CSE     250\n",
      "2  103   Harjot    CSE     NIL\n",
      "3  104    Pooja    CSE    9000\n",
      "4  105    Rahul    CSE   15000\n",
      "5  106   Nikita    CSE     NIL\n",
      "6  107  Saurabh    CSE    4500\n",
      "7  108    Ayush    CSE    1800\n",
      "8  109    Dolly    CSE     250\n",
      "9  110    Mohit    CSE     NIL\n"
     ]
    }
   ],
   "source": [
    "print(pd.merge(details, fees_status, on='ID'))"
   ]
  },
  {
   "cell_type": "code",
   "execution_count": 24,
   "id": "d2745d70",
   "metadata": {},
   "outputs": [
    {
     "name": "stdout",
     "output_type": "stream",
     "text": [
      "       Brand  Year  Sold\n",
      "0     Maruti  2010     6\n",
      "1     Maruti  2011     7\n",
      "2     Maruti  2009     9\n",
      "3     Maruti  2013     8\n",
      "4    Hyundai  2010     3\n",
      "5    Hyundai  2011     5\n",
      "6     Toyota  2011     2\n",
      "7   Mahindra  2010     8\n",
      "8   Mahindra  2013     7\n",
      "9       Ford  2010     2\n",
      "10    Toyota  2010     4\n",
      "11      Ford  2011     2\n"
     ]
    }
   ],
   "source": [
    "car_selling_data = {'Brand': ['Maruti', 'Maruti', 'Maruti',\n",
    "                              'Maruti', 'Hyundai', 'Hyundai',\n",
    "                              'Toyota', 'Mahindra', 'Mahindra',\n",
    "                              'Ford', 'Toyota', 'Ford'],\n",
    "                    'Year':  [2010, 2011, 2009, 2013,\n",
    "                              2010, 2011, 2011, 2010,\n",
    "                              2013, 2010, 2010, 2011],\n",
    "                    'Sold': [6, 7, 9, 8, 3, 5,\n",
    "                             2, 8, 7, 2, 4, 2]}\n",
    " \n",
    "# Creating Dataframe of car_selling_data\n",
    "df = pd.DataFrame(car_selling_data)\n",
    " \n",
    "# printing Dataframe\n",
    "print(df)"
   ]
  },
  {
   "cell_type": "code",
   "execution_count": 25,
   "id": "1ed1172c",
   "metadata": {},
   "outputs": [],
   "source": [
    "car_selling_data = {'Brand': ['Maruti', 'Maruti', 'Maruti',\n",
    "                              'Maruti', 'Hyundai', 'Hyundai',\n",
    "                              'Toyota', 'Mahindra', 'Mahindra',\n",
    "                              'Ford', 'Toyota', 'Ford'],\n",
    "                    'Year':  [2010, 2011, 2009, 2013,\n",
    "                              2010, 2011, 2011, 2010,\n",
    "                              2013, 2010, 2010, 2011],\n",
    "                    'Sold': [6, 7, 9, 8, 3, 5,\n",
    "                             2, 8, 7, 2, 4, 2]}\n",
    " \n",
    "# Creating Dataframe for Provided Data\n",
    "df = pd.DataFrame(car_selling_data)"
   ]
  },
  {
   "cell_type": "code",
   "execution_count": 26,
   "id": "f474d1c0",
   "metadata": {},
   "outputs": [
    {
     "data": {
      "text/html": [
       "<div>\n",
       "<style scoped>\n",
       "    .dataframe tbody tr th:only-of-type {\n",
       "        vertical-align: middle;\n",
       "    }\n",
       "\n",
       "    .dataframe tbody tr th {\n",
       "        vertical-align: top;\n",
       "    }\n",
       "\n",
       "    .dataframe thead th {\n",
       "        text-align: right;\n",
       "    }\n",
       "</style>\n",
       "<table border=\"1\" class=\"dataframe\">\n",
       "  <thead>\n",
       "    <tr style=\"text-align: right;\">\n",
       "      <th></th>\n",
       "      <th>Brand</th>\n",
       "      <th>Year</th>\n",
       "      <th>Sold</th>\n",
       "    </tr>\n",
       "  </thead>\n",
       "  <tbody>\n",
       "    <tr>\n",
       "      <th>0</th>\n",
       "      <td>Maruti</td>\n",
       "      <td>2010</td>\n",
       "      <td>6</td>\n",
       "    </tr>\n",
       "    <tr>\n",
       "      <th>1</th>\n",
       "      <td>Maruti</td>\n",
       "      <td>2011</td>\n",
       "      <td>7</td>\n",
       "    </tr>\n",
       "    <tr>\n",
       "      <th>2</th>\n",
       "      <td>Maruti</td>\n",
       "      <td>2009</td>\n",
       "      <td>9</td>\n",
       "    </tr>\n",
       "    <tr>\n",
       "      <th>3</th>\n",
       "      <td>Maruti</td>\n",
       "      <td>2013</td>\n",
       "      <td>8</td>\n",
       "    </tr>\n",
       "    <tr>\n",
       "      <th>4</th>\n",
       "      <td>Hyundai</td>\n",
       "      <td>2010</td>\n",
       "      <td>3</td>\n",
       "    </tr>\n",
       "    <tr>\n",
       "      <th>5</th>\n",
       "      <td>Hyundai</td>\n",
       "      <td>2011</td>\n",
       "      <td>5</td>\n",
       "    </tr>\n",
       "    <tr>\n",
       "      <th>6</th>\n",
       "      <td>Toyota</td>\n",
       "      <td>2011</td>\n",
       "      <td>2</td>\n",
       "    </tr>\n",
       "    <tr>\n",
       "      <th>7</th>\n",
       "      <td>Mahindra</td>\n",
       "      <td>2010</td>\n",
       "      <td>8</td>\n",
       "    </tr>\n",
       "    <tr>\n",
       "      <th>8</th>\n",
       "      <td>Mahindra</td>\n",
       "      <td>2013</td>\n",
       "      <td>7</td>\n",
       "    </tr>\n",
       "    <tr>\n",
       "      <th>9</th>\n",
       "      <td>Ford</td>\n",
       "      <td>2010</td>\n",
       "      <td>2</td>\n",
       "    </tr>\n",
       "    <tr>\n",
       "      <th>10</th>\n",
       "      <td>Toyota</td>\n",
       "      <td>2010</td>\n",
       "      <td>4</td>\n",
       "    </tr>\n",
       "    <tr>\n",
       "      <th>11</th>\n",
       "      <td>Ford</td>\n",
       "      <td>2011</td>\n",
       "      <td>2</td>\n",
       "    </tr>\n",
       "  </tbody>\n",
       "</table>\n",
       "</div>"
      ],
      "text/plain": [
       "       Brand  Year  Sold\n",
       "0     Maruti  2010     6\n",
       "1     Maruti  2011     7\n",
       "2     Maruti  2009     9\n",
       "3     Maruti  2013     8\n",
       "4    Hyundai  2010     3\n",
       "5    Hyundai  2011     5\n",
       "6     Toyota  2011     2\n",
       "7   Mahindra  2010     8\n",
       "8   Mahindra  2013     7\n",
       "9       Ford  2010     2\n",
       "10    Toyota  2010     4\n",
       "11      Ford  2011     2"
      ]
     },
     "execution_count": 26,
     "metadata": {},
     "output_type": "execute_result"
    }
   ],
   "source": [
    "df"
   ]
  },
  {
   "cell_type": "code",
   "execution_count": 29,
   "id": "f184267b",
   "metadata": {},
   "outputs": [],
   "source": [
    "group=df.groupby('Year')"
   ]
  },
  {
   "cell_type": "code",
   "execution_count": 31,
   "id": "e4dc374f",
   "metadata": {},
   "outputs": [
    {
     "name": "stdout",
     "output_type": "stream",
     "text": [
      "       Brand  Year  Sold\n",
      "0     Maruti  2010     6\n",
      "4    Hyundai  2010     3\n",
      "7   Mahindra  2010     8\n",
      "9       Ford  2010     2\n",
      "10    Toyota  2010     4\n"
     ]
    }
   ],
   "source": [
    "print(group.get_group(2010))"
   ]
  },
  {
   "cell_type": "code",
   "execution_count": 33,
   "id": "199c77c4",
   "metadata": {},
   "outputs": [
    {
     "name": "stdout",
     "output_type": "stream",
     "text": [
      "      Brand  Year  Sold\n",
      "1    Maruti  2011     7\n",
      "5   Hyundai  2011     5\n",
      "6    Toyota  2011     2\n",
      "11     Ford  2011     2\n"
     ]
    }
   ],
   "source": [
    "print(group.get_group(2011))"
   ]
  },
  {
   "cell_type": "code",
   "execution_count": 34,
   "id": "3e3d079f",
   "metadata": {},
   "outputs": [],
   "source": [
    "# Removing Duplication"
   ]
  },
  {
   "cell_type": "code",
   "execution_count": 36,
   "id": "308fde7c",
   "metadata": {},
   "outputs": [
    {
     "name": "stdout",
     "output_type": "stream",
     "text": [
      "      Brand  Year  Sold\n",
      "3    Maruti  2013     8\n",
      "8  Mahindra  2013     7\n"
     ]
    }
   ],
   "source": [
    "print(group.get_group(2013))"
   ]
  },
  {
   "cell_type": "code",
   "execution_count": 37,
   "id": "12169669",
   "metadata": {},
   "outputs": [
    {
     "name": "stdout",
     "output_type": "stream",
     "text": [
      "        Name  Roll_no                 Email\n",
      "0       Amit       23        xxxx@gmail.com\n",
      "1    Praveen       54      xxxxxx@gmail.com\n",
      "2    Jagroop       29      xxxxxx@gmail.com\n",
      "3      Rahul       36          xx@gmail.com\n",
      "4     Vishal       59        xxxx@gmail.com\n",
      "5      Suraj       38       xxxxx@gmail.com\n",
      "6     Rishab       12       xxxxx@gmail.com\n",
      "7   Satyapal       45       xxxxx@gmail.com\n",
      "8       Amit       34       xxxxx@gmail.com\n",
      "9      Rahul       36      xxxxxx@gmail.com\n",
      "10   Praveen       54  xxxxxxxxxx@gmail.com\n",
      "11      Amit       23  xxxxxxxxxx@gmail.com\n"
     ]
    }
   ],
   "source": [
    "student_data = {'Name': ['Amit', 'Praveen', 'Jagroop',\n",
    "                         'Rahul', 'Vishal', 'Suraj',\n",
    "                         'Rishab', 'Satyapal', 'Amit',\n",
    "                         'Rahul', 'Praveen', 'Amit'],\n",
    " \n",
    "                'Roll_no': [23, 54, 29, 36, 59, 38,\n",
    "                            12, 45, 34, 36, 54, 23],\n",
    " \n",
    "                'Email': ['xxxx@gmail.com', 'xxxxxx@gmail.com',\n",
    "                          'xxxxxx@gmail.com', 'xx@gmail.com',\n",
    "                          'xxxx@gmail.com', 'xxxxx@gmail.com',\n",
    "                          'xxxxx@gmail.com', 'xxxxx@gmail.com',\n",
    "                          'xxxxx@gmail.com', 'xxxxxx@gmail.com',\n",
    "                          'xxxxxxxxxx@gmail.com', 'xxxxxxxxxx@gmail.com']}\n",
    " \n",
    "# Creating Dataframe of Data\n",
    "df = pd.DataFrame(student_data)\n",
    " \n",
    "# Printing Dataframe\n",
    "print(df)"
   ]
  },
  {
   "cell_type": "code",
   "execution_count": 38,
   "id": "f665627d",
   "metadata": {},
   "outputs": [],
   "source": [
    "non_duplicate = df[~df.duplicated('Roll_no')]"
   ]
  },
  {
   "cell_type": "code",
   "execution_count": 39,
   "id": "ec3e82d3",
   "metadata": {},
   "outputs": [
    {
     "name": "stdout",
     "output_type": "stream",
     "text": [
      "       Name  Roll_no             Email\n",
      "0      Amit       23    xxxx@gmail.com\n",
      "1   Praveen       54  xxxxxx@gmail.com\n",
      "2   Jagroop       29  xxxxxx@gmail.com\n",
      "3     Rahul       36      xx@gmail.com\n",
      "4    Vishal       59    xxxx@gmail.com\n",
      "5     Suraj       38   xxxxx@gmail.com\n",
      "6    Rishab       12   xxxxx@gmail.com\n",
      "7  Satyapal       45   xxxxx@gmail.com\n",
      "8      Amit       34   xxxxx@gmail.com\n"
     ]
    }
   ],
   "source": [
    "print(non_duplicate)"
   ]
  },
  {
   "cell_type": "code",
   "execution_count": 40,
   "id": "c6432c60",
   "metadata": {},
   "outputs": [],
   "source": [
    "data1 = {'Name':['Jai', 'Princi', 'Gaurav', 'Anuj'],\n",
    "        'Age':[27, 24, 22, 32],\n",
    "        'Address':['Nagpur', 'Kanpur', 'Allahabad', 'Kannuaj'],\n",
    "        'Qualification':['Msc', 'MA', 'MCA', 'Phd'],\n",
    "        'Mobile No': [97, 91, 58, 76]}\n",
    "     \n",
    "# Define a dictionary containing employee data\n",
    "data2 = {'Name':['Gaurav', 'Anuj', 'Dhiraj', 'Hitesh'],\n",
    "        'Age':[22, 32, 12, 52],\n",
    "        'Address':['Allahabad', 'Kannuaj', 'Allahabad', 'Kannuaj'],\n",
    "        'Qualification':['MCA', 'Phd', 'Bcom', 'B.hons'],\n",
    "        'Salary':[1000, 2000, 3000, 4000]}"
   ]
  },
  {
   "cell_type": "code",
   "execution_count": 42,
   "id": "b4913340",
   "metadata": {},
   "outputs": [],
   "source": [
    "df = pd.DataFrame(data1,index=[0, 1, 2, 3])\n",
    "   \n",
    "# Convert the dictionary into DataFrame \n",
    "df1 = pd.DataFrame(data2, index=[2, 3, 6, 7])"
   ]
  },
  {
   "cell_type": "code",
   "execution_count": 45,
   "id": "4b940341",
   "metadata": {},
   "outputs": [
    {
     "name": "stdout",
     "output_type": "stream",
     "text": [
      "     Name  Age    Address Qualification  Mobile No  Salary\n",
      "0     Jai   27     Nagpur           Msc       97.0     NaN\n",
      "1  Princi   24     Kanpur            MA       91.0     NaN\n",
      "2  Gaurav   22  Allahabad           MCA       58.0     NaN\n",
      "3    Anuj   32    Kannuaj           Phd       76.0     NaN\n",
      "2  Gaurav   22  Allahabad           MCA        NaN  1000.0\n",
      "3    Anuj   32    Kannuaj           Phd        NaN  2000.0\n",
      "6  Dhiraj   12  Allahabad          Bcom        NaN  3000.0\n",
      "7  Hitesh   52    Kannuaj        B.hons        NaN  4000.0\n"
     ]
    }
   ],
   "source": [
    "print(pd.concat([df,df1]))"
   ]
  },
  {
   "cell_type": "code",
   "execution_count": null,
   "id": "054bd02d",
   "metadata": {},
   "outputs": [],
   "source": []
  }
 ],
 "metadata": {
  "kernelspec": {
   "display_name": "Python 3 (ipykernel)",
   "language": "python",
   "name": "python3"
  },
  "language_info": {
   "codemirror_mode": {
    "name": "ipython",
    "version": 3
   },
   "file_extension": ".py",
   "mimetype": "text/x-python",
   "name": "python",
   "nbconvert_exporter": "python",
   "pygments_lexer": "ipython3",
   "version": "3.9.12"
  }
 },
 "nbformat": 4,
 "nbformat_minor": 5
}
