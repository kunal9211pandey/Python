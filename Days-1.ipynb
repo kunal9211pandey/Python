{
 "cells": [
  {
   "cell_type": "markdown",
   "id": "c5bb0eed",
   "metadata": {},
   "source": [
    "Write a program to sum to complex number"
   ]
  },
  {
   "cell_type": "code",
   "execution_count": 1,
   "id": "5548c337",
   "metadata": {},
   "outputs": [
    {
     "name": "stdout",
     "output_type": "stream",
     "text": [
      "Sum of complex number is  (6-3.0999999999999996j)\n"
     ]
    }
   ],
   "source": [
    "a= 2.5 + 2.5j\n",
    "b= 3.5 - 5.6j\n",
    "c= a + b\n",
    "print(\"Sum of complex number is \",c)"
   ]
  },
  {
   "cell_type": "markdown",
   "id": "f994d327",
   "metadata": {},
   "source": [
    "Write a program to convert binary , hexadecimal and octal number to decimal number system"
   ]
  },
  {
   "cell_type": "code",
   "execution_count": 2,
   "id": "3cb629cc",
   "metadata": {},
   "outputs": [
    {
     "name": "stdout",
     "output_type": "stream",
     "text": [
      "binary to decimal number is : 42\n",
      "octal to decimal number is : 7867\n",
      "hexa_decimal ot decimal number is : 33770\n"
     ]
    }
   ],
   "source": [
    "binary=0b00101010\n",
    "octal=0o017273\n",
    "hexa_decimal=0x83EA\n",
    "\n",
    "print(\"binary to decimal number is :\" , int(binary))\n",
    "print(\"octal to decimal number is :\" , int(octal))\n",
    "print(\"hexa_decimal ot decimal number is :\" , int(hexa_decimal))"
   ]
  },
  {
   "cell_type": "markdown",
   "id": "17ce75cb",
   "metadata": {},
   "source": [
    "Write a program to convert decimal number to octal , hexa_deciaml and binary number."
   ]
  },
  {
   "cell_type": "code",
   "execution_count": 3,
   "id": "f6b40262",
   "metadata": {},
   "outputs": [
    {
     "name": "stdout",
     "output_type": "stream",
     "text": [
      "decimal_number to binary number is :  0b10011010011\n",
      "decimal_number to ocatal number is :  0o2323\n",
      "decimal_number to hexa_decimal number is  0x4d3\n"
     ]
    }
   ],
   "source": [
    "decimal_number=1235\n",
    "print(\"decimal_number to binary number is : \",bin(decimal_number))\n",
    "print(\"decimal_number to ocatal number is : \",oct(decimal_number))\n",
    "print(\"decimal_number to hexa_decimal number is \", hex(decimal_number))"
   ]
  },
  {
   "cell_type": "markdown",
   "id": "0d3eb62d",
   "metadata": {},
   "source": [
    "write a program to convert int to float and float to int "
   ]
  },
  {
   "cell_type": "code",
   "execution_count": 4,
   "id": "37388370",
   "metadata": {},
   "outputs": [
    {
     "name": "stdout",
     "output_type": "stream",
     "text": [
      "integer to float number is :  12.0\n",
      "float to integer number is :  12\n"
     ]
    }
   ],
   "source": [
    "int_number=12\n",
    "float_number= 12.5\n",
    "print(\"integer to float number is : \", float(int_number))\n",
    "print(\"float to integer number is : \", int(float_number))"
   ]
  },
  {
   "cell_type": "markdown",
   "id": "36a2e8c9",
   "metadata": {},
   "source": [
    "Write a program to show end and sep argumnet "
   ]
  },
  {
   "cell_type": "code",
   "execution_count": 5,
   "id": "a88f6b33",
   "metadata": {},
   "outputs": [
    {
     "name": "stdout",
     "output_type": "stream",
     "text": [
      "welcome to my game\n"
     ]
    }
   ],
   "source": [
    "print(\"welcome\" , end=' ')\n",
    "print(\"to\" , end=' ')\n",
    "print(\"my\" , end=' ')\n",
    "print(\"game\")"
   ]
  },
  {
   "cell_type": "code",
   "execution_count": 10,
   "id": "e596e4d5",
   "metadata": {},
   "outputs": [
    {
     "name": "stdout",
     "output_type": "stream",
     "text": [
      "102 104 105 109 110\n",
      "102 *** 104 *** 105 *** 109 *** 110\n",
      "102 ___ 104 ___ 105 ___ 109 ___ 110\n",
      "102__kunal__104__kunal__105__kunal__109__kunal__110\n"
     ]
    }
   ],
   "source": [
    "var1 ,var2 , var3 ,var4 ,var5 = 102 , 104 , 105 , 109 , 110\n",
    "print(var1 , var2 , var3 , var4, var5)\n",
    "print(var1 , var2 , var3 , var4, var5 , sep=' *** ') \n",
    "print(var1 , var2 , var3 , var4, var5 , sep=' ___ ') \n",
    "print(var1 , var2 , var3 , var4, var5 , sep='__kunal__') "
   ]
  },
  {
   "cell_type": "code",
   "execution_count": 1,
   "id": "f6f07adc",
   "metadata": {},
   "outputs": [
    {
     "name": "stdout",
     "output_type": "stream",
     "text": [
      "hello  how are you\n"
     ]
    }
   ],
   "source": [
    "name=input(\"enter your name:\")\n",
    "print(\"hello\" , name , \"how are you\")"
   ]
  },
  {
   "cell_type": "code",
   "execution_count": null,
   "id": "e679bc55",
   "metadata": {},
   "outputs": [],
   "source": [
    "name = input(\"enter your name: \")\n",
    "print(\"hello\", name, \"how are you\")"
   ]
  },
  {
   "cell_type": "markdown",
   "id": "0a561d11",
   "metadata": {},
   "source": []
  },
  {
   "cell_type": "markdown",
   "id": "766e2a58",
   "metadata": {},
   "source": []
  }
 ],
 "metadata": {
  "kernelspec": {
   "display_name": "Python 3",
   "language": "python",
   "name": "python3"
  },
  "language_info": {
   "codemirror_mode": {
    "name": "ipython",
    "version": 3
   },
   "file_extension": ".py",
   "mimetype": "text/x-python",
   "name": "python",
   "nbconvert_exporter": "python",
   "pygments_lexer": "ipython3",
   "version": "3.11.7"
  }
 },
 "nbformat": 4,
 "nbformat_minor": 5
}
