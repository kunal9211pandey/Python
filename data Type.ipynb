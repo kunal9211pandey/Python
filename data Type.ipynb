{
 "cells": [
  {
   "cell_type": "markdown",
   "id": "430554a0-7db2-4dcf-80b3-7bb0ef73f4ff",
   "metadata": {},
   "source": [
    "# Data Types"
   ]
  },
  {
   "cell_type": "markdown",
   "id": "7552aca4-ced4-40f1-a52b-4175221854a8",
   "metadata": {},
   "source": [
    "### There Are 5 types of data Type in Python"
   ]
  },
  {
   "cell_type": "markdown",
   "id": "a9d78f56-89c3-4db9-aa0e-def8d6c63614",
   "metadata": {},
   "source": [
    "## 1. None type"
   ]
  },
  {
   "cell_type": "code",
   "execution_count": 1,
   "id": "29fed1b4-8ab4-4f19-814e-99887c7bc36e",
   "metadata": {},
   "outputs": [
    {
     "name": "stdout",
     "output_type": "stream",
     "text": [
      "None\n"
     ]
    }
   ],
   "source": [
    "a=None\n",
    "print(a)"
   ]
  },
  {
   "cell_type": "markdown",
   "id": "d63eed95-e6e6-4fee-aba6-0d7e575611b8",
   "metadata": {},
   "source": [
    "## 2. Numeric Data Types"
   ]
  },
  {
   "cell_type": "markdown",
   "id": "966d3361-7dc0-4a46-9549-8dd7fa8a87b6",
   "metadata": {},
   "source": [
    "### 2.1 Int"
   ]
  },
  {
   "cell_type": "code",
   "execution_count": 2,
   "id": "e9db2beb-f4be-417d-962a-3d6ddc552a51",
   "metadata": {},
   "outputs": [
    {
     "name": "stdout",
     "output_type": "stream",
     "text": [
      "-93843843 23872382039430 34943 -3489329\n"
     ]
    }
   ],
   "source": [
    "a,b,c,d=-93843843,23872382039430,34943,-3489329\n",
    "print(a,b,c,d)    #There is no limit size in int"
   ]
  },
  {
   "cell_type": "markdown",
   "id": "f19adaaa-0422-48c8-ab02-326210657119",
   "metadata": {},
   "source": [
    "### 2.2 Float"
   ]
  },
  {
   "cell_type": "code",
   "execution_count": 3,
   "id": "0af2b1e9-cd96-49d5-ae0c-c88fb33bb177",
   "metadata": {},
   "outputs": [
    {
     "name": "stdout",
     "output_type": "stream",
     "text": [
      "-121.3434 394.345 -23342.235\n"
     ]
    }
   ],
   "source": [
    "a,b,c=-121.3434,394.345,-23342.235\n",
    "print(a,b,c)\n"
   ]
  },
  {
   "cell_type": "code",
   "execution_count": 4,
   "id": "50fc1742-74d5-429f-8ea1-08a631b7d7be",
   "metadata": {},
   "outputs": [
    {
     "name": "stdout",
     "output_type": "stream",
     "text": [
      "340000.0\n"
     ]
    }
   ],
   "source": [
    "# we can also write in scientificate notation  (e,E)  3.4*10^5\n",
    "a=3.4e5\n",
    "print(a)"
   ]
  },
  {
   "cell_type": "code",
   "execution_count": 5,
   "id": "7806a4a4-1ff1-4310-88e0-c879dc077c81",
   "metadata": {},
   "outputs": [
    {
     "name": "stdout",
     "output_type": "stream",
     "text": [
      "12500000000.0\n"
     ]
    }
   ],
   "source": [
    "b=12.5E9\n",
    "print(b)"
   ]
  },
  {
   "cell_type": "markdown",
   "id": "07c64645-99eb-41a6-adcc-118d58285197",
   "metadata": {},
   "source": [
    "### 2.3 Complex  number"
   ]
  },
  {
   "cell_type": "code",
   "execution_count": 6,
   "id": "9cf990c8-e1ce-42f1-9339-7ce33ea55011",
   "metadata": {},
   "outputs": [
    {
     "name": "stdout",
     "output_type": "stream",
     "text": [
      "(10+3j)\n"
     ]
    }
   ],
   "source": [
    "a=10+3j\n",
    "print(a)"
   ]
  },
  {
   "cell_type": "code",
   "execution_count": 7,
   "id": "6f4d6533-a151-4347-90f5-12feb330bfca",
   "metadata": {},
   "outputs": [
    {
     "name": "stdout",
     "output_type": "stream",
     "text": [
      "(-12-4j)\n"
     ]
    }
   ],
   "source": [
    "b=-12-4j\n",
    "print(b)"
   ]
  },
  {
   "cell_type": "code",
   "execution_count": 8,
   "id": "c80770cc-b249-49ad-9c69-8b64445552aa",
   "metadata": {},
   "outputs": [
    {
     "name": "stdout",
     "output_type": "stream",
     "text": [
      "Sum is  (-2-1j)\n"
     ]
    }
   ],
   "source": [
    "c=a+b\n",
    "print(\"Sum is \",c)"
   ]
  },
  {
   "cell_type": "markdown",
   "id": "4ae3500c-39a7-4a5f-8a43-6ac27569931d",
   "metadata": {},
   "source": [
    "### 2.4 Binary ,octal , hexadecimal number "
   ]
  },
  {
   "cell_type": "code",
   "execution_count": 9,
   "id": "e0b08f53-21d2-4668-b091-2f8edabcdc7b",
   "metadata": {},
   "outputs": [
    {
     "name": "stdout",
     "output_type": "stream",
     "text": [
      "41 667 2177741\n"
     ]
    }
   ],
   "source": [
    "a=0b00101001   # binary number\n",
    "b=0o1233    # octal Number\n",
    "c=0x213acd  # hexadecimal number\n",
    "print(a,b,c)"
   ]
  },
  {
   "cell_type": "code",
   "execution_count": 10,
   "id": "58ce1f23-8d26-4653-8d88-e34e55bc7aea",
   "metadata": {},
   "outputs": [
    {
     "ename": "SyntaxError",
     "evalue": "invalid digit '9' in octal literal (3185591816.py, line 2)",
     "output_type": "error",
     "traceback": [
      "\u001b[1;36m  Cell \u001b[1;32mIn[10], line 2\u001b[1;36m\u001b[0m\n\u001b[1;33m    a=0o1298\u001b[0m\n\u001b[1;37m          ^\u001b[0m\n\u001b[1;31mSyntaxError\u001b[0m\u001b[1;31m:\u001b[0m invalid digit '9' in octal literal\n"
     ]
    }
   ],
   "source": [
    "# octal number (0 , 7)\n",
    "a=0o1298\n",
    "print(a)"
   ]
  },
  {
   "cell_type": "markdown",
   "id": "d518fdd8-3383-43d7-9f60-fa31623e476b",
   "metadata": {},
   "source": [
    "### convert data types"
   ]
  },
  {
   "cell_type": "code",
   "execution_count": 11,
   "id": "7602f8a9-80f6-42e3-bcc0-8d9df89670f6",
   "metadata": {},
   "outputs": [
    {
     "data": {
      "text/plain": [
       "10.0"
      ]
     },
     "execution_count": 11,
     "metadata": {},
     "output_type": "execute_result"
    }
   ],
   "source": [
    "a=10\n",
    "float(a)"
   ]
  },
  {
   "cell_type": "code",
   "execution_count": 12,
   "id": "89de3703-1c32-4308-9740-58428a54c703",
   "metadata": {},
   "outputs": [
    {
     "data": {
      "text/plain": [
       "(10+0j)"
      ]
     },
     "execution_count": 12,
     "metadata": {},
     "output_type": "execute_result"
    }
   ],
   "source": [
    "complex(a)  # complex(a,b)"
   ]
  },
  {
   "cell_type": "code",
   "execution_count": 13,
   "id": "0c215afe-6b34-465d-8f6f-c729f37dbb92",
   "metadata": {},
   "outputs": [
    {
     "data": {
      "text/plain": [
       "10"
      ]
     },
     "execution_count": 13,
     "metadata": {},
     "output_type": "execute_result"
    }
   ],
   "source": [
    "b=10.12\n",
    "int(b)"
   ]
  },
  {
   "cell_type": "code",
   "execution_count": 14,
   "id": "e5d7b8ef-9816-4afb-b7e1-367b0af7bf5a",
   "metadata": {},
   "outputs": [
    {
     "name": "stdout",
     "output_type": "stream",
     "text": [
      "41\n",
      "667.0\n",
      "(41+2177741j)\n"
     ]
    }
   ],
   "source": [
    "# Write a program to covert to decimal number sysytem\n",
    "a=0b00101001   # binary number\n",
    "b=0o1233    # octal Number\n",
    "c=0x213acd  # hexadecimal number\n",
    "print(int(a))\n",
    "print(float(b))\n",
    "print(complex(a,c))"
   ]
  },
  {
   "cell_type": "code",
   "execution_count": 15,
   "id": "998362b1-4eef-4457-abcc-1b2da971bd89",
   "metadata": {},
   "outputs": [
    {
     "name": "stdout",
     "output_type": "stream",
     "text": [
      "0b11000000110111\n",
      "0o30067\n",
      "0x3037\n"
     ]
    }
   ],
   "source": [
    "# wap to convert decimal number to binary , octal , hexadecimal number\n",
    "a=12343\n",
    "print(bin(a))\n",
    "print(oct(a))\n",
    "print(hex(a))"
   ]
  },
  {
   "cell_type": "markdown",
   "id": "c665831c-e7ee-4130-97d4-e40d03e5f7ee",
   "metadata": {},
   "source": [
    "## 3. Boolean data types"
   ]
  },
  {
   "cell_type": "code",
   "execution_count": 16,
   "id": "517b4abf-3013-433f-92f7-0ff4d50c4d41",
   "metadata": {},
   "outputs": [
    {
     "name": "stdout",
     "output_type": "stream",
     "text": [
      "False\n"
     ]
    }
   ],
   "source": [
    "a=10\n",
    "b=20\n",
    "print(a>b)"
   ]
  },
  {
   "cell_type": "code",
   "execution_count": 17,
   "id": "96b4f4ff-473d-49d8-8741-501270f18c21",
   "metadata": {},
   "outputs": [
    {
     "name": "stdout",
     "output_type": "stream",
     "text": [
      "True\n"
     ]
    }
   ],
   "source": [
    "print(a<b)"
   ]
  },
  {
   "cell_type": "code",
   "execution_count": 18,
   "id": "b709bb60-6f1e-4da6-857a-c0aedd5d5528",
   "metadata": {},
   "outputs": [
    {
     "data": {
      "text/plain": [
       "2"
      ]
     },
     "execution_count": 18,
     "metadata": {},
     "output_type": "execute_result"
    }
   ],
   "source": [
    "True + True"
   ]
  },
  {
   "cell_type": "code",
   "execution_count": 19,
   "id": "4aa3dede-0914-4ab1-b1d0-226e85d6df38",
   "metadata": {},
   "outputs": [
    {
     "data": {
      "text/plain": [
       "1"
      ]
     },
     "execution_count": 19,
     "metadata": {},
     "output_type": "execute_result"
    }
   ],
   "source": [
    "True + False"
   ]
  },
  {
   "cell_type": "markdown",
   "id": "d4c21fea-17c6-4382-b28a-e4f213bf0daa",
   "metadata": {},
   "source": [
    "## 4. Sequance in python"
   ]
  },
  {
   "cell_type": "markdown",
   "id": "17196067-fda8-45e6-a97a-a1a688a7ae57",
   "metadata": {},
   "source": [
    "### 4.1 Str"
   ]
  },
  {
   "cell_type": "code",
   "execution_count": 20,
   "id": "ffb267e5-9333-45bf-ae9d-6bd30449e1ae",
   "metadata": {},
   "outputs": [
    {
     "name": "stdout",
     "output_type": "stream",
     "text": [
      "Welcome Kunal  Welcome Kunal Welcome Kunal Welcome Kunal\n"
     ]
    }
   ],
   "source": [
    "a='Welcome Kunal '\n",
    "b=\"Welcome Kunal\"\n",
    "c=\"\"\"Welcome Kunal\"\"\"\n",
    "d='''Welcome Kunal'''\n",
    "print(a,b,c,d)"
   ]
  },
  {
   "cell_type": "markdown",
   "id": "1d49ac80-7a94-40e8-bba9-14cad6c9f440",
   "metadata": {},
   "source": [
    "### operation in String"
   ]
  },
  {
   "cell_type": "code",
   "execution_count": 21,
   "id": "30bda7fd-4b7c-418c-aa76-d4a176a197c4",
   "metadata": {},
   "outputs": [
    {
     "data": {
      "text/plain": [
       "'W'"
      ]
     },
     "execution_count": 21,
     "metadata": {},
     "output_type": "execute_result"
    }
   ],
   "source": [
    "# indexing\n",
    "a[0]"
   ]
  },
  {
   "cell_type": "code",
   "execution_count": 22,
   "id": "924f6332-a78f-4c79-a6c7-4a028f714af2",
   "metadata": {},
   "outputs": [
    {
     "data": {
      "text/plain": [
       "'m'"
      ]
     },
     "execution_count": 22,
     "metadata": {},
     "output_type": "execute_result"
    }
   ],
   "source": [
    "a[5]"
   ]
  },
  {
   "cell_type": "code",
   "execution_count": 23,
   "id": "c8b897dd-fffb-4e07-8c3d-57ce8b3ef2de",
   "metadata": {},
   "outputs": [
    {
     "data": {
      "text/plain": [
       "'u'"
      ]
     },
     "execution_count": 23,
     "metadata": {},
     "output_type": "execute_result"
    }
   ],
   "source": [
    "a[9]"
   ]
  },
  {
   "cell_type": "code",
   "execution_count": 24,
   "id": "8baf8b71-eb06-4a6e-af92-1f02862141d6",
   "metadata": {},
   "outputs": [
    {
     "data": {
      "text/plain": [
       "' '"
      ]
     },
     "execution_count": 24,
     "metadata": {},
     "output_type": "execute_result"
    }
   ],
   "source": [
    "a[7] # Space is also count"
   ]
  },
  {
   "cell_type": "code",
   "execution_count": 25,
   "id": "cc879501-ac67-4878-95d1-e2fcabcedb52",
   "metadata": {},
   "outputs": [
    {
     "data": {
      "text/plain": [
       "'Welco'"
      ]
     },
     "execution_count": 25,
     "metadata": {},
     "output_type": "execute_result"
    }
   ],
   "source": [
    "# Slicing \n",
    "a[0:5]"
   ]
  },
  {
   "cell_type": "code",
   "execution_count": 26,
   "id": "20b5d649-3294-418a-9cb8-5724a7440e54",
   "metadata": {},
   "outputs": [
    {
     "data": {
      "text/plain": [
       "'Welcome K'"
      ]
     },
     "execution_count": 26,
     "metadata": {},
     "output_type": "execute_result"
    }
   ],
   "source": [
    "a[0:9]"
   ]
  },
  {
   "cell_type": "code",
   "execution_count": 27,
   "id": "a0a03ba3-131c-4f2c-b060-da07a9579741",
   "metadata": {},
   "outputs": [
    {
     "data": {
      "text/plain": [
       "' lanuK emocleW'"
      ]
     },
     "execution_count": 27,
     "metadata": {},
     "output_type": "execute_result"
    }
   ],
   "source": [
    "a[::-1]"
   ]
  },
  {
   "cell_type": "code",
   "execution_count": 28,
   "id": "ae2c5ff1-a733-4501-8594-fd3987656755",
   "metadata": {},
   "outputs": [
    {
     "data": {
      "text/plain": [
       "'nuK emo'"
      ]
     },
     "execution_count": 28,
     "metadata": {},
     "output_type": "execute_result"
    }
   ],
   "source": [
    "a[10:3:-1]"
   ]
  },
  {
   "cell_type": "code",
   "execution_count": 29,
   "id": "5f869b7a-1615-4d97-939b-77d1c2649809",
   "metadata": {},
   "outputs": [
    {
     "data": {
      "text/plain": [
       "'nKeo'"
      ]
     },
     "execution_count": 29,
     "metadata": {},
     "output_type": "execute_result"
    }
   ],
   "source": [
    "a[10:2:-2]"
   ]
  },
  {
   "cell_type": "code",
   "execution_count": 30,
   "id": "1ebae613-1318-4c37-908f-0203f5b4d79c",
   "metadata": {},
   "outputs": [
    {
     "data": {
      "text/plain": [
       "'Welcome Kunal '"
      ]
     },
     "execution_count": 30,
     "metadata": {},
     "output_type": "execute_result"
    }
   ],
   "source": [
    "a[::]"
   ]
  },
  {
   "cell_type": "code",
   "execution_count": 31,
   "id": "7807f62a-ebce-436b-a99b-405dd346f01c",
   "metadata": {},
   "outputs": [
    {
     "data": {
      "text/plain": [
       "' lanuK emocleW'"
      ]
     },
     "execution_count": 31,
     "metadata": {},
     "output_type": "execute_result"
    }
   ],
   "source": [
    "a[::-1]"
   ]
  },
  {
   "cell_type": "code",
   "execution_count": 32,
   "id": "383060aa-64ee-4616-933b-09da2bf9131c",
   "metadata": {},
   "outputs": [
    {
     "data": {
      "text/plain": [
       "'WloeK'"
      ]
     },
     "execution_count": 32,
     "metadata": {},
     "output_type": "execute_result"
    }
   ],
   "source": [
    "a[0:10:2]"
   ]
  },
  {
   "cell_type": "code",
   "execution_count": 33,
   "id": "38ba6a23-cb5f-439e-8760-c279cc2026bb",
   "metadata": {},
   "outputs": [
    {
     "data": {
      "text/plain": [
       "' lanuK em'"
      ]
     },
     "execution_count": 33,
     "metadata": {},
     "output_type": "execute_result"
    }
   ],
   "source": [
    "a[:4:-1]"
   ]
  },
  {
   "cell_type": "code",
   "execution_count": 34,
   "id": "eafd1a92-f403-49d7-a170-fbf9f5ee8fdb",
   "metadata": {},
   "outputs": [
    {
     "data": {
      "text/plain": [
       "'Welcome Kunal Welcome Kunal '"
      ]
     },
     "execution_count": 34,
     "metadata": {},
     "output_type": "execute_result"
    }
   ],
   "source": [
    "# Repatation\n",
    "a*2"
   ]
  },
  {
   "cell_type": "code",
   "execution_count": 35,
   "id": "64c8a81c-bc0c-4650-9fb7-6a6842b3bfc8",
   "metadata": {},
   "outputs": [
    {
     "data": {
      "text/plain": [
       "14"
      ]
     },
     "execution_count": 35,
     "metadata": {},
     "output_type": "execute_result"
    }
   ],
   "source": [
    "# Operation on string\n",
    "len(a)"
   ]
  },
  {
   "cell_type": "code",
   "execution_count": 36,
   "id": "95e75d2f-9828-4c7e-8001-9361fd0cd6fc",
   "metadata": {},
   "outputs": [
    {
     "data": {
      "text/plain": [
       "str"
      ]
     },
     "execution_count": 36,
     "metadata": {},
     "output_type": "execute_result"
    }
   ],
   "source": [
    "type(a)"
   ]
  },
  {
   "cell_type": "code",
   "execution_count": 37,
   "id": "13dc1b43-5191-47d3-b149-429ba4d46c31",
   "metadata": {},
   "outputs": [
    {
     "data": {
      "text/plain": [
       "'WELCOME KUNAL '"
      ]
     },
     "execution_count": 37,
     "metadata": {},
     "output_type": "execute_result"
    }
   ],
   "source": [
    "a.upper()"
   ]
  },
  {
   "cell_type": "code",
   "execution_count": 38,
   "id": "3ad87e6a-a452-48ff-8480-b601b4b651fd",
   "metadata": {},
   "outputs": [
    {
     "data": {
      "text/plain": [
       "'welcome kunal '"
      ]
     },
     "execution_count": 38,
     "metadata": {},
     "output_type": "execute_result"
    }
   ],
   "source": [
    "a.lower()"
   ]
  },
  {
   "cell_type": "code",
   "execution_count": 39,
   "id": "7e008e9c-4754-4f31-92c7-2e37a3ebcefb",
   "metadata": {},
   "outputs": [
    {
     "data": {
      "text/plain": [
       "'Welcome Kunal '"
      ]
     },
     "execution_count": 39,
     "metadata": {},
     "output_type": "execute_result"
    }
   ],
   "source": [
    "a.title()"
   ]
  },
  {
   "cell_type": "code",
   "execution_count": 40,
   "id": "9f4f83ad-6e95-4b6e-a5e9-285773e915f2",
   "metadata": {},
   "outputs": [
    {
     "data": {
      "text/plain": [
       "'Welcome Kunal '"
      ]
     },
     "execution_count": 40,
     "metadata": {},
     "output_type": "execute_result"
    }
   ],
   "source": [
    "a.replace(\"kunal\",\"vicky\")"
   ]
  },
  {
   "cell_type": "code",
   "execution_count": 41,
   "id": "a5cada15-7f02-4147-8646-8181d089d745",
   "metadata": {},
   "outputs": [
    {
     "data": {
      "text/plain": [
       "0"
      ]
     },
     "execution_count": 41,
     "metadata": {},
     "output_type": "execute_result"
    }
   ],
   "source": [
    "a.count('w')"
   ]
  },
  {
   "cell_type": "code",
   "execution_count": 42,
   "id": "fef47b70-8974-4a48-84ca-1a055ddd3a0d",
   "metadata": {},
   "outputs": [
    {
     "data": {
      "text/plain": [
       "0"
      ]
     },
     "execution_count": 42,
     "metadata": {},
     "output_type": "execute_result"
    }
   ],
   "source": [
    "a.count('kunal')"
   ]
  },
  {
   "cell_type": "code",
   "execution_count": 43,
   "id": "0a3e6234-a72f-4966-bac3-fa43f278ef57",
   "metadata": {},
   "outputs": [
    {
     "data": {
      "text/plain": [
       "'Welcome Kunal '"
      ]
     },
     "execution_count": 43,
     "metadata": {},
     "output_type": "execute_result"
    }
   ],
   "source": [
    "a"
   ]
  },
  {
   "cell_type": "code",
   "execution_count": 44,
   "id": "727d7e61-e583-44c0-84e5-9f8cdbb1c360",
   "metadata": {},
   "outputs": [
    {
     "data": {
      "text/plain": [
       "1"
      ]
     },
     "execution_count": 44,
     "metadata": {},
     "output_type": "execute_result"
    }
   ],
   "source": [
    "a.count('Welcome')"
   ]
  },
  {
   "cell_type": "code",
   "execution_count": 45,
   "id": "a2340604-6fbf-41be-8cfb-44cf32b730ab",
   "metadata": {},
   "outputs": [],
   "source": [
    "a=\"Lorem Ipsum is simply dummy text of the printing and typesetting industry. Lorem Ipsum has been the industry's standard dummy text ever since the 1500s, when an unknown printer took a galley of type and scrambled it to make a type specimen book.\""
   ]
  },
  {
   "cell_type": "code",
   "execution_count": 46,
   "id": "02da8dba-5877-4a13-a7f5-2cca0f1cc53b",
   "metadata": {},
   "outputs": [
    {
     "data": {
      "text/plain": [
       "\"Lorem Ipsum is simply dummy text of the printing and typesetting industry. Lorem Ipsum has been the industry's standard dummy text ever since the 1500s, when an unknown printer took a galley of type and scrambled it to make a type specimen book.\""
      ]
     },
     "execution_count": 46,
     "metadata": {},
     "output_type": "execute_result"
    }
   ],
   "source": [
    "a"
   ]
  },
  {
   "cell_type": "code",
   "execution_count": 47,
   "id": "e1e5d76e-7621-4f01-95e1-60d3dc3b8e08",
   "metadata": {},
   "outputs": [
    {
     "data": {
      "text/plain": [
       "\"LOREM IPSUM IS SIMPLY DUMMY TEXT OF THE PRINTING AND TYPESETTING INDUSTRY. LOREM IPSUM HAS BEEN THE INDUSTRY'S STANDARD DUMMY TEXT EVER SINCE THE 1500S, WHEN AN UNKNOWN PRINTER TOOK A GALLEY OF TYPE AND SCRAMBLED IT TO MAKE A TYPE SPECIMEN BOOK.\""
      ]
     },
     "execution_count": 47,
     "metadata": {},
     "output_type": "execute_result"
    }
   ],
   "source": [
    "a.upper()"
   ]
  },
  {
   "cell_type": "code",
   "execution_count": 48,
   "id": "4948a161-4dcf-4d5a-891e-c44535e0fb6a",
   "metadata": {},
   "outputs": [
    {
     "data": {
      "text/plain": [
       "\"lorem ipsum is simply dummy text of the printing and typesetting industry. lorem ipsum has been the industry's standard dummy text ever since the 1500s, when an unknown printer took a galley of type and scrambled it to make a type specimen book.\""
      ]
     },
     "execution_count": 48,
     "metadata": {},
     "output_type": "execute_result"
    }
   ],
   "source": [
    "a.lower()"
   ]
  },
  {
   "cell_type": "code",
   "execution_count": 49,
   "id": "f2129774-5aa7-4749-9275-3c490ddf5f23",
   "metadata": {},
   "outputs": [
    {
     "data": {
      "text/plain": [
       "\"Lorem Ipsum Is Simply Dummy Text Of The Printing And Typesetting Industry. Lorem Ipsum Has Been The Industry'S Standard Dummy Text Ever Since The 1500S, When An Unknown Printer Took A Galley Of Type And Scrambled It To Make A Type Specimen Book.\""
      ]
     },
     "execution_count": 49,
     "metadata": {},
     "output_type": "execute_result"
    }
   ],
   "source": [
    "a.title()"
   ]
  },
  {
   "cell_type": "code",
   "execution_count": 50,
   "id": "6bf9a51e-4b01-44b0-8a05-b92734b18a2f",
   "metadata": {},
   "outputs": [
    {
     "data": {
      "text/plain": [
       "245"
      ]
     },
     "execution_count": 50,
     "metadata": {},
     "output_type": "execute_result"
    }
   ],
   "source": [
    "len(a)"
   ]
  },
  {
   "cell_type": "code",
   "execution_count": 51,
   "id": "48631b14-8f91-485d-a14f-930eb2214c0a",
   "metadata": {},
   "outputs": [
    {
     "data": {
      "text/plain": [
       "1"
      ]
     },
     "execution_count": 51,
     "metadata": {},
     "output_type": "execute_result"
    }
   ],
   "source": [
    "a.count('is')"
   ]
  },
  {
   "cell_type": "code",
   "execution_count": 52,
   "id": "745c263b-d925-48cc-b1f3-05668de8fa1e",
   "metadata": {},
   "outputs": [
    {
     "data": {
      "text/plain": [
       "-1"
      ]
     },
     "execution_count": 52,
     "metadata": {},
     "output_type": "execute_result"
    }
   ],
   "source": [
    "a.find(\"The\")"
   ]
  },
  {
   "cell_type": "code",
   "execution_count": 53,
   "id": "7eb049b0-fa04-4a89-9c5d-0d99b972e44c",
   "metadata": {},
   "outputs": [
    {
     "data": {
      "text/plain": [
       "12"
      ]
     },
     "execution_count": 53,
     "metadata": {},
     "output_type": "execute_result"
    }
   ],
   "source": [
    "a.index(\"is\")"
   ]
  },
  {
   "cell_type": "code",
   "execution_count": 54,
   "id": "861f0266-e28e-4f60-b295-4a7aaff6a144",
   "metadata": {},
   "outputs": [
    {
     "data": {
      "text/plain": [
       "\"Lorem Ipsum was simply dummy text of the printing and typesetting industry. Lorem Ipsum has been the industry's standard dummy text ever since the 1500s, when an unknown printer took a galley of type and scrambled it to make a type specimen book.\""
      ]
     },
     "execution_count": 54,
     "metadata": {},
     "output_type": "execute_result"
    }
   ],
   "source": [
    "a.replace(\"is\",\"was\")"
   ]
  },
  {
   "cell_type": "code",
   "execution_count": 55,
   "id": "edb6f9fc-0040-41a8-b1a1-2cf715c5963d",
   "metadata": {},
   "outputs": [
    {
     "data": {
      "text/plain": [
       "'Lorem Ipsu'"
      ]
     },
     "execution_count": 55,
     "metadata": {},
     "output_type": "execute_result"
    }
   ],
   "source": [
    "a[0:10]"
   ]
  },
  {
   "cell_type": "code",
   "execution_count": 56,
   "id": "82a8b4e7-328a-49a5-bdb8-6c6c21c25df1",
   "metadata": {},
   "outputs": [
    {
     "data": {
      "text/plain": [
       "\".koob nemiceps epyt a ekam ot ti delbmarcs dna epyt fo yellag a koot retnirp nwonknu na nehw ,s0051 eht ecnis reve txet ymmud dradnats s'yrtsudni eht neeb sah muspI meroL .yrtsudni gnittesepyt dna gnitnirp eht fo txet ymmud ylpmis si muspI meroL\""
      ]
     },
     "execution_count": 56,
     "metadata": {},
     "output_type": "execute_result"
    }
   ],
   "source": [
    "a[::-1]"
   ]
  },
  {
   "cell_type": "code",
   "execution_count": 57,
   "id": "ba507c5e-57cf-459c-a73b-519b9b573cd7",
   "metadata": {},
   "outputs": [
    {
     "data": {
      "text/plain": [
       "'LrmIsmi i'"
      ]
     },
     "execution_count": 57,
     "metadata": {},
     "output_type": "execute_result"
    }
   ],
   "source": [
    "a[:18:2]"
   ]
  },
  {
   "cell_type": "code",
   "execution_count": 58,
   "id": "9da7b6aa-abb8-4aac-8361-a2f8fb820ddb",
   "metadata": {},
   "outputs": [
    {
     "data": {
      "text/plain": [
       "\"Lorem Ipsum is simply dummy text of the printing and typesetting industry. Lorem Ipsum has been the industry's standard dummy text ever since the 1500s, when an unknown printer took a galley of type and scrambled it to make a type specimen book.Lorem Ipsum is simply dummy text of the printing and typesetting industry. Lorem Ipsum has been the industry's standard dummy text ever since the 1500s, when an unknown printer took a galley of type and scrambled it to make a type specimen book.\""
      ]
     },
     "execution_count": 58,
     "metadata": {},
     "output_type": "execute_result"
    }
   ],
   "source": [
    "a*2"
   ]
  },
  {
   "cell_type": "code",
   "execution_count": 59,
   "id": "aaa99d13-e65a-463e-ba86-8758abdff6ae",
   "metadata": {},
   "outputs": [
    {
     "data": {
      "text/plain": [
       "'n ntipetf xtymdypi imsImrL'"
      ]
     },
     "execution_count": 59,
     "metadata": {},
     "output_type": "execute_result"
    }
   ],
   "source": [
    "a[50::-2]"
   ]
  },
  {
   "cell_type": "code",
   "execution_count": 60,
   "id": "3bbdd240-689f-4226-8b44-47b3419815c2",
   "metadata": {},
   "outputs": [
    {
     "data": {
      "text/plain": [
       "['Lorem',\n",
       " 'Ipsum',\n",
       " 'is',\n",
       " 'simply',\n",
       " 'dummy',\n",
       " 'text',\n",
       " 'of',\n",
       " 'the',\n",
       " 'printing',\n",
       " 'and',\n",
       " 'typesetting',\n",
       " 'industry.',\n",
       " 'Lorem',\n",
       " 'Ipsum',\n",
       " 'has',\n",
       " 'been',\n",
       " 'the',\n",
       " \"industry's\",\n",
       " 'standard',\n",
       " 'dummy',\n",
       " 'text',\n",
       " 'ever',\n",
       " 'since',\n",
       " 'the',\n",
       " '1500s,',\n",
       " 'when',\n",
       " 'an',\n",
       " 'unknown',\n",
       " 'printer',\n",
       " 'took',\n",
       " 'a',\n",
       " 'galley',\n",
       " 'of',\n",
       " 'type',\n",
       " 'and',\n",
       " 'scrambled',\n",
       " 'it',\n",
       " 'to',\n",
       " 'make',\n",
       " 'a',\n",
       " 'type',\n",
       " 'specimen',\n",
       " 'book.']"
      ]
     },
     "execution_count": 60,
     "metadata": {},
     "output_type": "execute_result"
    }
   ],
   "source": [
    "a.split()"
   ]
  },
  {
   "cell_type": "code",
   "execution_count": 61,
   "id": "efa901ae-4b19-4927-8eb7-b503eaa2fe29",
   "metadata": {},
   "outputs": [
    {
     "data": {
      "text/plain": [
       "\"L__o__r__e__m__ __I__p__s__u__m__ __i__s__ __s__i__m__p__l__y__ __d__u__m__m__y__ __t__e__x__t__ __o__f__ __t__h__e__ __p__r__i__n__t__i__n__g__ __a__n__d__ __t__y__p__e__s__e__t__t__i__n__g__ __i__n__d__u__s__t__r__y__.__ __L__o__r__e__m__ __I__p__s__u__m__ __h__a__s__ __b__e__e__n__ __t__h__e__ __i__n__d__u__s__t__r__y__'__s__ __s__t__a__n__d__a__r__d__ __d__u__m__m__y__ __t__e__x__t__ __e__v__e__r__ __s__i__n__c__e__ __t__h__e__ __1__5__0__0__s__,__ __w__h__e__n__ __a__n__ __u__n__k__n__o__w__n__ __p__r__i__n__t__e__r__ __t__o__o__k__ __a__ __g__a__l__l__e__y__ __o__f__ __t__y__p__e__ __a__n__d__ __s__c__r__a__m__b__l__e__d__ __i__t__ __t__o__ __m__a__k__e__ __a__ __t__y__p__e__ __s__p__e__c__i__m__e__n__ __b__o__o__k__.\""
      ]
     },
     "execution_count": 61,
     "metadata": {},
     "output_type": "execute_result"
    }
   ],
   "source": [
    "'__'.join(a)"
   ]
  },
  {
   "cell_type": "markdown",
   "id": "c7c319b5-f828-4b41-91ea-b11ce8e2892e",
   "metadata": {},
   "source": [
    "## 4.2 Byte Data types"
   ]
  },
  {
   "cell_type": "code",
   "execution_count": 62,
   "id": "5832e8d9-1713-4451-8fe3-b6c715bea056",
   "metadata": {},
   "outputs": [
    {
     "name": "stdout",
     "output_type": "stream",
     "text": [
      "b'\\x0c\\r\\x01)\\x04'\n"
     ]
    }
   ],
   "source": [
    "element=[12,13,1,41,4]\n",
    "x=bytes(element)\n",
    "print(x)"
   ]
  },
  {
   "cell_type": "code",
   "execution_count": 63,
   "id": "80df72a0-3a29-4d91-b523-bea78d8b06d3",
   "metadata": {},
   "outputs": [
    {
     "name": "stdout",
     "output_type": "stream",
     "text": [
      "12\n",
      "13\n",
      "1\n",
      "41\n",
      "4\n"
     ]
    }
   ],
   "source": [
    "for i in x:\n",
    "    print(i)"
   ]
  },
  {
   "cell_type": "code",
   "execution_count": 64,
   "id": "5a6f5d2b-2714-4742-b9b7-9ec1779b2300",
   "metadata": {},
   "outputs": [
    {
     "name": "stdout",
     "output_type": "stream",
     "text": [
      "b'\\x0c\\r\\x01)\\x04'\n",
      "b'\\x0c\\r\\x01)\\x04'\n",
      "b'\\x0c\\r\\x01)\\x04'\n",
      "b'\\x0c\\r\\x01)\\x04'\n",
      "b'\\x0c\\r\\x01)\\x04'\n"
     ]
    }
   ],
   "source": [
    "for i in x:\n",
    "    print(x)"
   ]
  },
  {
   "cell_type": "code",
   "execution_count": 65,
   "id": "53412a6b-2f4c-410a-8b9d-da54abcba422",
   "metadata": {},
   "outputs": [
    {
     "ename": "ValueError",
     "evalue": "bytes must be in range(0, 256)",
     "output_type": "error",
     "traceback": [
      "\u001b[1;31m---------------------------------------------------------------------------\u001b[0m",
      "\u001b[1;31mValueError\u001b[0m                                Traceback (most recent call last)",
      "Cell \u001b[1;32mIn[65], line 3\u001b[0m\n\u001b[0;32m      1\u001b[0m \u001b[38;5;66;03m# they are not allow -ve value , Range is 0  to 255\u001b[39;00m\n\u001b[0;32m      2\u001b[0m a\u001b[38;5;241m=\u001b[39m[\u001b[38;5;241m-\u001b[39m\u001b[38;5;241m12\u001b[39m,\u001b[38;5;241m-\u001b[39m\u001b[38;5;241m12\u001b[39m,\u001b[38;5;241m34\u001b[39m,\u001b[38;5;241m89\u001b[39m]\n\u001b[1;32m----> 3\u001b[0m \u001b[38;5;28mprint\u001b[39m(\u001b[38;5;28mbytes\u001b[39m(a))\n",
      "\u001b[1;31mValueError\u001b[0m: bytes must be in range(0, 256)"
     ]
    }
   ],
   "source": [
    "# they are not allow -ve value , Range is 0  to 255\n",
    "a=[-12,-12,34,89]\n",
    "print(bytes(a))"
   ]
  },
  {
   "cell_type": "code",
   "execution_count": null,
   "id": "572f4989-eea4-466a-94f3-6f1291f89a3e",
   "metadata": {},
   "outputs": [],
   "source": [
    "# they are not modified\n",
    "x[0]"
   ]
  },
  {
   "cell_type": "code",
   "execution_count": null,
   "id": "e6947213-2b1c-4300-8b03-a13faf0da8b0",
   "metadata": {},
   "outputs": [],
   "source": [
    "x[1]"
   ]
  },
  {
   "cell_type": "code",
   "execution_count": null,
   "id": "1d026921-77d2-4640-a4e7-8a3bc8df187d",
   "metadata": {},
   "outputs": [],
   "source": [
    "x[1]=88"
   ]
  },
  {
   "cell_type": "markdown",
   "id": "f9c36173-fc59-4f7f-95b2-d75c731423a2",
   "metadata": {},
   "source": [
    "## 4.3 BytesArray data Type"
   ]
  },
  {
   "cell_type": "code",
   "execution_count": null,
   "id": "1c15fb50-ade5-4ded-84e3-003a53305a52",
   "metadata": {},
   "outputs": [],
   "source": [
    "# tyey are same to byte data type but diffrence is the are modified but byte arrya is not modified\n",
    "a=[12,13,141,5]\n",
    "b=bytearray(a)\n",
    "for i in b:\n",
    "    print(i)"
   ]
  },
  {
   "cell_type": "code",
   "execution_count": null,
   "id": "fea7844d-7a53-486b-9613-b3ef6cf8eb8a",
   "metadata": {},
   "outputs": [],
   "source": [
    "b[1]"
   ]
  },
  {
   "cell_type": "code",
   "execution_count": null,
   "id": "d8423c17-0c44-4d9e-be5c-f6ea4d8015be",
   "metadata": {},
   "outputs": [],
   "source": [
    "b[2]=99"
   ]
  },
  {
   "cell_type": "code",
   "execution_count": null,
   "id": "93fa2609-8eab-4863-86a7-b67263911371",
   "metadata": {},
   "outputs": [],
   "source": [
    "print(i)"
   ]
  },
  {
   "cell_type": "code",
   "execution_count": null,
   "id": "fb3bb49d-9f82-42d3-9f1a-b45b2e75ee5d",
   "metadata": {},
   "outputs": [],
   "source": [
    "for i in b:\n",
    "    print(i)"
   ]
  },
  {
   "cell_type": "markdown",
   "id": "9d589ec5-0cf2-4649-9d90-ca1848ffb2df",
   "metadata": {},
   "source": [
    "## 4.4 List\n"
   ]
  },
  {
   "cell_type": "code",
   "execution_count": null,
   "id": "31e7fd95-242d-4872-a61b-81aeaaa2ed0d",
   "metadata": {},
   "outputs": [],
   "source": [
    "# they are store diffrent data type and size of the memory is also dinamic, they are store group of element \n"
   ]
  },
  {
   "cell_type": "code",
   "execution_count": 66,
   "id": "ec2022be-791d-4a03-a3ca-6aa665d94367",
   "metadata": {},
   "outputs": [],
   "source": [
    "list=[]"
   ]
  },
  {
   "cell_type": "code",
   "execution_count": 67,
   "id": "78b73836-8163-4eae-a684-dd933918fbc8",
   "metadata": {},
   "outputs": [
    {
     "data": {
      "text/plain": [
       "list"
      ]
     },
     "execution_count": 67,
     "metadata": {},
     "output_type": "execute_result"
    }
   ],
   "source": [
    "type(list)"
   ]
  },
  {
   "cell_type": "code",
   "execution_count": 68,
   "id": "62af742d-ebf2-4373-9632-cd6fe3da8fb0",
   "metadata": {},
   "outputs": [
    {
     "name": "stdout",
     "output_type": "stream",
     "text": [
      "[10, 'kunal', -2434, 123.34]\n"
     ]
    }
   ],
   "source": [
    "a=[10,\"kunal\",-2434,123.34]\n",
    "print(a)"
   ]
  },
  {
   "cell_type": "code",
   "execution_count": 69,
   "id": "e9d708de-5567-471c-a81a-12c668e4e460",
   "metadata": {},
   "outputs": [
    {
     "name": "stdout",
     "output_type": "stream",
     "text": [
      "10\n",
      "kunal\n",
      "-2434\n",
      "123.34\n"
     ]
    }
   ],
   "source": [
    "for i in a:\n",
    "    print(i)"
   ]
  },
  {
   "cell_type": "code",
   "execution_count": 70,
   "id": "4b432cd5-250d-40a9-9bd0-8e0d0fa5df76",
   "metadata": {},
   "outputs": [
    {
     "data": {
      "text/plain": [
       "10"
      ]
     },
     "execution_count": 70,
     "metadata": {},
     "output_type": "execute_result"
    }
   ],
   "source": [
    "# indexing \n",
    "a[0]"
   ]
  },
  {
   "cell_type": "code",
   "execution_count": 71,
   "id": "6e64cab6-2108-44b1-ab82-b4515353399b",
   "metadata": {},
   "outputs": [
    {
     "data": {
      "text/plain": [
       "'kunal'"
      ]
     },
     "execution_count": 71,
     "metadata": {},
     "output_type": "execute_result"
    }
   ],
   "source": [
    "a[1]"
   ]
  },
  {
   "cell_type": "code",
   "execution_count": 72,
   "id": "d756012e-9249-4d26-91ae-2a3fe416fda9",
   "metadata": {},
   "outputs": [
    {
     "data": {
      "text/plain": [
       "-2434"
      ]
     },
     "execution_count": 72,
     "metadata": {},
     "output_type": "execute_result"
    }
   ],
   "source": [
    "a[2]"
   ]
  },
  {
   "cell_type": "code",
   "execution_count": 73,
   "id": "b6e9e264-2f00-417e-9f34-d501b24011ac",
   "metadata": {},
   "outputs": [
    {
     "name": "stdout",
     "output_type": "stream",
     "text": [
      "[10, 12, 13, 14, 1525, 35, 3, 5, 3, 54, 3, 4, 3, 4, 3, 5, 3, 4, 3, 4, 3, 4, 3, 4, 2, 2, 2]\n"
     ]
    }
   ],
   "source": [
    "a=[10,12,13,14,1525,35,3,5,3,54,3,4,3,4,3,5,3,4,3,4,3,4,3,4,2,2,2]\n",
    "print(a)"
   ]
  },
  {
   "cell_type": "code",
   "execution_count": 74,
   "id": "511f66e8-f575-476d-8430-5bc3885ae449",
   "metadata": {},
   "outputs": [
    {
     "data": {
      "text/plain": [
       "[10, 12, 13, 14, 1525, 35, 3, 5]"
      ]
     },
     "execution_count": 74,
     "metadata": {},
     "output_type": "execute_result"
    }
   ],
   "source": [
    "# Slicing\n",
    "a[0:8]"
   ]
  },
  {
   "cell_type": "code",
   "execution_count": 75,
   "id": "7af94e82-1f8c-442e-86cb-95468aaab5df",
   "metadata": {},
   "outputs": [
    {
     "data": {
      "text/plain": [
       "[10, 13, 1525, 3]"
      ]
     },
     "execution_count": 75,
     "metadata": {},
     "output_type": "execute_result"
    }
   ],
   "source": [
    "a[:8:2]"
   ]
  },
  {
   "cell_type": "code",
   "execution_count": 76,
   "id": "d6583647-e289-4c1b-a461-4064f7671b00",
   "metadata": {},
   "outputs": [
    {
     "data": {
      "text/plain": [
       "[10, 14, 3, 54, 3, 5, 3, 4, 2]"
      ]
     },
     "execution_count": 76,
     "metadata": {},
     "output_type": "execute_result"
    }
   ],
   "source": [
    "a[::3]"
   ]
  },
  {
   "cell_type": "code",
   "execution_count": 77,
   "id": "296cd21a-7898-476f-a79f-8a3efa5ca732",
   "metadata": {},
   "outputs": [
    {
     "data": {
      "text/plain": [
       "[3, 4, 3, 4, 3, 5, 3, 4, 3, 4, 3, 4, 3, 4, 2, 2, 2]"
      ]
     },
     "execution_count": 77,
     "metadata": {},
     "output_type": "execute_result"
    }
   ],
   "source": [
    "a[10:]"
   ]
  },
  {
   "cell_type": "code",
   "execution_count": 78,
   "id": "7fbe91f0-d03c-44f5-bc7b-1b6c0267cc30",
   "metadata": {},
   "outputs": [
    {
     "data": {
      "text/plain": [
       "27"
      ]
     },
     "execution_count": 78,
     "metadata": {},
     "output_type": "execute_result"
    }
   ],
   "source": [
    "len(a)"
   ]
  },
  {
   "cell_type": "code",
   "execution_count": 79,
   "id": "3b2eeeb1-954c-47f6-861d-4c0997e7b115",
   "metadata": {},
   "outputs": [
    {
     "data": {
      "text/plain": [
       "1730"
      ]
     },
     "execution_count": 79,
     "metadata": {},
     "output_type": "execute_result"
    }
   ],
   "source": [
    "sum(a)"
   ]
  },
  {
   "cell_type": "code",
   "execution_count": 80,
   "id": "830607e7-3c0e-4cc9-bb0d-f6f92b418d6f",
   "metadata": {},
   "outputs": [
    {
     "data": {
      "text/plain": [
       "2"
      ]
     },
     "execution_count": 80,
     "metadata": {},
     "output_type": "execute_result"
    }
   ],
   "source": [
    "min(a)"
   ]
  },
  {
   "cell_type": "code",
   "execution_count": 81,
   "id": "e0996513-d18b-491e-9cc3-8c49d256fb39",
   "metadata": {},
   "outputs": [
    {
     "data": {
      "text/plain": [
       "1525"
      ]
     },
     "execution_count": 81,
     "metadata": {},
     "output_type": "execute_result"
    }
   ],
   "source": [
    "max(a)"
   ]
  },
  {
   "cell_type": "code",
   "execution_count": 82,
   "id": "387ff59b-2378-4a31-87f1-d6dd8c018080",
   "metadata": {},
   "outputs": [
    {
     "data": {
      "text/plain": [
       "3"
      ]
     },
     "execution_count": 82,
     "metadata": {},
     "output_type": "execute_result"
    }
   ],
   "source": [
    "a.count(2)"
   ]
  },
  {
   "cell_type": "code",
   "execution_count": 83,
   "id": "29d6e10f-ce51-4d17-a044-49ffed9e549f",
   "metadata": {},
   "outputs": [
    {
     "data": {
      "text/plain": [
       "24"
      ]
     },
     "execution_count": 83,
     "metadata": {},
     "output_type": "execute_result"
    }
   ],
   "source": [
    "a.index(2)"
   ]
  },
  {
   "cell_type": "code",
   "execution_count": 84,
   "id": "2e87400b-c2a5-494b-ac54-fbc6cbda52a3",
   "metadata": {},
   "outputs": [
    {
     "name": "stdout",
     "output_type": "stream",
     "text": [
      "[10, 12, 13, 14, 1525, 35, 3, 5, 3, 54, 3, 4, 3, 4, 3, 5, 3, 4, 3, 4, 3, 4, 3, 4, 2, 2, 2]\n"
     ]
    }
   ],
   "source": [
    "print(a)"
   ]
  },
  {
   "cell_type": "code",
   "execution_count": 85,
   "id": "a6ed3902-5640-4556-9c50-48b1fb9c4990",
   "metadata": {},
   "outputs": [
    {
     "name": "stdout",
     "output_type": "stream",
     "text": [
      "[2, 2, 2, 4, 3, 4, 3, 4, 3, 4, 3, 5, 3, 4, 3, 4, 3, 54, 3, 5, 3, 35, 1525, 14, 13, 12, 10]\n"
     ]
    }
   ],
   "source": [
    "print(a[::-1])"
   ]
  },
  {
   "cell_type": "code",
   "execution_count": 86,
   "id": "6c50e9ad-a8ab-45ef-89d6-c6498f7232fd",
   "metadata": {},
   "outputs": [
    {
     "name": "stdout",
     "output_type": "stream",
     "text": [
      "[5, 4, 4, 54, 5, 35, 14, 12]\n"
     ]
    }
   ],
   "source": [
    "print(a[15::-2])"
   ]
  },
  {
   "cell_type": "code",
   "execution_count": 87,
   "id": "23281cbf-146a-4030-b3aa-2eb33e3a0c9b",
   "metadata": {},
   "outputs": [
    {
     "name": "stdout",
     "output_type": "stream",
     "text": [
      "[2, 4, 3, 4, 3, 4, 3]\n"
     ]
    }
   ],
   "source": [
    "print(a[27:5:-3])"
   ]
  },
  {
   "cell_type": "code",
   "execution_count": 88,
   "id": "e0953024-4143-4650-aa4b-1a5e4700cd45",
   "metadata": {},
   "outputs": [],
   "source": [
    "# we can modified\n",
    "a[0]=100"
   ]
  },
  {
   "cell_type": "code",
   "execution_count": 89,
   "id": "f3e8882d-6517-4963-a2ac-2981223e9bab",
   "metadata": {},
   "outputs": [
    {
     "name": "stdout",
     "output_type": "stream",
     "text": [
      "[100, 12, 13, 14, 1525, 35, 3, 5, 3, 54, 3, 4, 3, 4, 3, 5, 3, 4, 3, 4, 3, 4, 3, 4, 2, 2, 2]\n"
     ]
    }
   ],
   "source": [
    "print(a)"
   ]
  },
  {
   "cell_type": "code",
   "execution_count": 90,
   "id": "b5acd01a-89e5-4cc3-bc26-46f0a630935f",
   "metadata": {},
   "outputs": [],
   "source": [
    "a[9]=5000"
   ]
  },
  {
   "cell_type": "code",
   "execution_count": 91,
   "id": "39ef3af7-ae4c-40a6-85ad-44df35574207",
   "metadata": {},
   "outputs": [
    {
     "name": "stdout",
     "output_type": "stream",
     "text": [
      "[100, 12, 13, 14, 1525, 35, 3, 5, 3, 5000, 3, 4, 3, 4, 3, 5, 3, 4, 3, 4, 3, 4, 3, 4, 2, 2, 2]\n"
     ]
    }
   ],
   "source": [
    "print(a)"
   ]
  },
  {
   "cell_type": "code",
   "execution_count": 92,
   "id": "396c33e2-d3ae-4209-a6c6-a047da8d2fa1",
   "metadata": {},
   "outputs": [
    {
     "ename": "SyntaxError",
     "evalue": "invalid syntax (3938639981.py, line 1)",
     "output_type": "error",
     "traceback": [
      "\u001b[1;36m  Cell \u001b[1;32mIn[92], line 1\u001b[1;36m\u001b[0m\n\u001b[1;33m    a.del(2)\u001b[0m\n\u001b[1;37m      ^\u001b[0m\n\u001b[1;31mSyntaxError\u001b[0m\u001b[1;31m:\u001b[0m invalid syntax\n"
     ]
    }
   ],
   "source": [
    "a.del(2)"
   ]
  },
  {
   "cell_type": "code",
   "execution_count": 93,
   "id": "d93d7a4a-b717-4452-ad40-e57f82f0669c",
   "metadata": {},
   "outputs": [
    {
     "data": {
      "text/plain": [
       "27"
      ]
     },
     "execution_count": 93,
     "metadata": {},
     "output_type": "execute_result"
    }
   ],
   "source": [
    "len(a)"
   ]
  },
  {
   "cell_type": "code",
   "execution_count": 94,
   "id": "da18a791-1668-4ab3-8ecf-2c0fb0b3d037",
   "metadata": {},
   "outputs": [
    {
     "data": {
      "text/plain": [
       "6766"
      ]
     },
     "execution_count": 94,
     "metadata": {},
     "output_type": "execute_result"
    }
   ],
   "source": [
    "sum(a)"
   ]
  },
  {
   "cell_type": "code",
   "execution_count": 95,
   "id": "6e380e41-226c-4b16-853b-553e42cde402",
   "metadata": {},
   "outputs": [
    {
     "data": {
      "text/plain": [
       "2"
      ]
     },
     "execution_count": 95,
     "metadata": {},
     "output_type": "execute_result"
    }
   ],
   "source": [
    "min(a)"
   ]
  },
  {
   "cell_type": "code",
   "execution_count": 96,
   "id": "21b1b0ed-a668-41ae-ae35-bd89604ba779",
   "metadata": {},
   "outputs": [
    {
     "data": {
      "text/plain": [
       "5000"
      ]
     },
     "execution_count": 96,
     "metadata": {},
     "output_type": "execute_result"
    }
   ],
   "source": [
    "max(a)"
   ]
  },
  {
   "cell_type": "code",
   "execution_count": 97,
   "id": "87d4d2fb-cc6c-4082-963f-17a02c1b2780",
   "metadata": {},
   "outputs": [],
   "source": [
    "a.sort()"
   ]
  },
  {
   "cell_type": "code",
   "execution_count": 98,
   "id": "5497dbc0-91e9-40b2-9bbc-386a91d2752a",
   "metadata": {},
   "outputs": [
    {
     "name": "stdout",
     "output_type": "stream",
     "text": [
      "[2, 2, 2, 3, 3, 3, 3, 3, 3, 3, 3, 3, 4, 4, 4, 4, 4, 4, 5, 5, 12, 13, 14, 35, 100, 1525, 5000]\n"
     ]
    }
   ],
   "source": [
    "print(a)"
   ]
  },
  {
   "cell_type": "code",
   "execution_count": 99,
   "id": "1f95bd21-b3d1-4480-aec5-79055be4a61b",
   "metadata": {},
   "outputs": [],
   "source": [
    "a.sort(reverse=True)"
   ]
  },
  {
   "cell_type": "code",
   "execution_count": 100,
   "id": "96765e64-edf1-438b-895f-6db389a264ad",
   "metadata": {},
   "outputs": [
    {
     "name": "stdout",
     "output_type": "stream",
     "text": [
      "[5000, 1525, 100, 35, 14, 13, 12, 5, 5, 4, 4, 4, 4, 4, 4, 3, 3, 3, 3, 3, 3, 3, 3, 3, 2, 2, 2]\n"
     ]
    }
   ],
   "source": [
    "print(a)"
   ]
  },
  {
   "cell_type": "code",
   "execution_count": 101,
   "id": "d9f41e67-08f3-4538-9bca-2190e4f34e80",
   "metadata": {},
   "outputs": [
    {
     "name": "stdout",
     "output_type": "stream",
     "text": [
      "None\n"
     ]
    }
   ],
   "source": [
    "print(a.reverse())"
   ]
  },
  {
   "cell_type": "code",
   "execution_count": 102,
   "id": "adc1ea2f-66b2-4b3f-90dd-32517a5b6fd0",
   "metadata": {},
   "outputs": [],
   "source": [
    "a.reverse()"
   ]
  },
  {
   "cell_type": "code",
   "execution_count": 103,
   "id": "3067b622-bc76-441c-924b-30d6f11c7f7e",
   "metadata": {},
   "outputs": [
    {
     "name": "stdout",
     "output_type": "stream",
     "text": [
      "[5000, 1525, 100, 35, 14, 13, 12, 5, 5, 4, 4, 4, 4, 4, 4, 3, 3, 3, 3, 3, 3, 3, 3, 3, 2, 2, 2]\n"
     ]
    }
   ],
   "source": [
    "print(a)"
   ]
  },
  {
   "cell_type": "code",
   "execution_count": 104,
   "id": "d65b3b50-6c58-40c5-8117-1d73d8f03622",
   "metadata": {},
   "outputs": [],
   "source": [
    "a.sort()"
   ]
  },
  {
   "cell_type": "code",
   "execution_count": 105,
   "id": "4662c6e1-086b-4250-826d-d344461dd100",
   "metadata": {},
   "outputs": [
    {
     "name": "stdout",
     "output_type": "stream",
     "text": [
      "[2, 2, 2, 3, 3, 3, 3, 3, 3, 3, 3, 3, 4, 4, 4, 4, 4, 4, 5, 5, 12, 13, 14, 35, 100, 1525, 5000]\n"
     ]
    }
   ],
   "source": [
    "print(a)"
   ]
  },
  {
   "cell_type": "code",
   "execution_count": 106,
   "id": "5dca0ec2-a164-4db7-bf72-196f844eafc9",
   "metadata": {},
   "outputs": [],
   "source": [
    "# add the end of the element \n",
    "a.append(10)"
   ]
  },
  {
   "cell_type": "code",
   "execution_count": 107,
   "id": "92a39a07-055a-49ba-a6a0-24497e8bcfc2",
   "metadata": {},
   "outputs": [],
   "source": [
    "a.append(500)"
   ]
  },
  {
   "cell_type": "code",
   "execution_count": 108,
   "id": "cb8c0a5e-4165-4e91-b152-d4de6fbe2889",
   "metadata": {},
   "outputs": [],
   "source": [
    "a.append(5000)"
   ]
  },
  {
   "cell_type": "code",
   "execution_count": 109,
   "id": "bc998f38-b812-418c-a8bd-ff60c2f3321c",
   "metadata": {},
   "outputs": [
    {
     "name": "stdout",
     "output_type": "stream",
     "text": [
      "[2, 2, 2, 3, 3, 3, 3, 3, 3, 3, 3, 3, 4, 4, 4, 4, 4, 4, 5, 5, 12, 13, 14, 35, 100, 1525, 5000, 10, 500, 5000]\n"
     ]
    }
   ],
   "source": [
    "print(a)"
   ]
  },
  {
   "cell_type": "code",
   "execution_count": 110,
   "id": "11d54003-e014-48ea-82b1-015f43d60326",
   "metadata": {},
   "outputs": [
    {
     "data": {
      "text/plain": [
       "30"
      ]
     },
     "execution_count": 110,
     "metadata": {},
     "output_type": "execute_result"
    }
   ],
   "source": [
    "len(a)"
   ]
  },
  {
   "cell_type": "code",
   "execution_count": 111,
   "id": "a36a382d-91b8-4aa8-a837-093f2f718aa5",
   "metadata": {},
   "outputs": [],
   "source": [
    "a.append(30)"
   ]
  },
  {
   "cell_type": "code",
   "execution_count": 112,
   "id": "0399d25f-4a93-47dc-9dca-95e9b4fdf75d",
   "metadata": {},
   "outputs": [
    {
     "name": "stdout",
     "output_type": "stream",
     "text": [
      "[2, 2, 2, 3, 3, 3, 3, 3, 3, 3, 3, 3, 4, 4, 4, 4, 4, 4, 5, 5, 12, 13, 14, 35, 100, 1525, 5000, 10, 500, 5000, 30]\n"
     ]
    }
   ],
   "source": [
    "print(a)"
   ]
  },
  {
   "cell_type": "code",
   "execution_count": 113,
   "id": "bdd8cf78-2f9d-4e7d-af49-cccb0933ffd1",
   "metadata": {},
   "outputs": [],
   "source": [
    "# add the element in particular position\n",
    "a.insert(9,10000)"
   ]
  },
  {
   "cell_type": "code",
   "execution_count": 114,
   "id": "d1ecbcb2-f143-4dbd-8c9f-c51d1cb59c3b",
   "metadata": {},
   "outputs": [
    {
     "name": "stdout",
     "output_type": "stream",
     "text": [
      "[2, 2, 2, 3, 3, 3, 3, 3, 3, 10000, 3, 3, 3, 4, 4, 4, 4, 4, 4, 5, 5, 12, 13, 14, 35, 100, 1525, 5000, 10, 500, 5000, 30]\n"
     ]
    }
   ],
   "source": [
    "print(a)"
   ]
  },
  {
   "cell_type": "code",
   "execution_count": 115,
   "id": "354a7a9c-1eb2-4e6c-ba37-88a219ff9981",
   "metadata": {},
   "outputs": [],
   "source": [
    "a.sort()"
   ]
  },
  {
   "cell_type": "code",
   "execution_count": 116,
   "id": "33053cfd-0f14-4f93-aac9-d686a0c2d31c",
   "metadata": {},
   "outputs": [
    {
     "name": "stdout",
     "output_type": "stream",
     "text": [
      "[2, 2, 2, 3, 3, 3, 3, 3, 3, 3, 3, 3, 4, 4, 4, 4, 4, 4, 5, 5, 10, 12, 13, 14, 30, 35, 100, 500, 1525, 5000, 5000, 10000]\n"
     ]
    }
   ],
   "source": [
    "print(a)"
   ]
  },
  {
   "cell_type": "code",
   "execution_count": 117,
   "id": "ec1860da-b4b5-4c58-80ba-118b3a6d47e3",
   "metadata": {},
   "outputs": [],
   "source": [
    "a.insert(10,20)"
   ]
  },
  {
   "cell_type": "code",
   "execution_count": 118,
   "id": "a60e877c-43c1-49d5-b9be-0f04f7e31f47",
   "metadata": {},
   "outputs": [],
   "source": [
    "a.insert(25,12344324)"
   ]
  },
  {
   "cell_type": "code",
   "execution_count": 119,
   "id": "19935ce0-b5e9-4bb5-b536-2373fda8ad17",
   "metadata": {},
   "outputs": [
    {
     "name": "stdout",
     "output_type": "stream",
     "text": [
      "[2, 2, 2, 3, 3, 3, 3, 3, 3, 3, 20, 3, 3, 4, 4, 4, 4, 4, 4, 5, 5, 10, 12, 13, 14, 12344324, 30, 35, 100, 500, 1525, 5000, 5000, 10000]\n"
     ]
    }
   ],
   "source": [
    "print(a)"
   ]
  },
  {
   "cell_type": "code",
   "execution_count": 120,
   "id": "e29f7ae8-c783-4630-b1e4-fb5938452290",
   "metadata": {},
   "outputs": [
    {
     "data": {
      "text/plain": [
       "34"
      ]
     },
     "execution_count": 120,
     "metadata": {},
     "output_type": "execute_result"
    }
   ],
   "source": [
    "len(a)"
   ]
  },
  {
   "cell_type": "code",
   "execution_count": 121,
   "id": "f5b2a140-0141-4106-8b82-ebc31e7ae19c",
   "metadata": {},
   "outputs": [],
   "source": [
    "# add new list to exisiting list\n",
    "x=[10,22,33,44,55,66]\n",
    "x.extend(a)"
   ]
  },
  {
   "cell_type": "code",
   "execution_count": 122,
   "id": "40bb26fd-44ac-4b5e-b720-222ab7da3247",
   "metadata": {},
   "outputs": [
    {
     "name": "stdout",
     "output_type": "stream",
     "text": [
      "10\n",
      "22\n",
      "33\n",
      "44\n",
      "55\n",
      "66\n",
      "2\n",
      "2\n",
      "2\n",
      "3\n",
      "3\n",
      "3\n",
      "3\n",
      "3\n",
      "3\n",
      "3\n",
      "20\n",
      "3\n",
      "3\n",
      "4\n",
      "4\n",
      "4\n",
      "4\n",
      "4\n",
      "4\n",
      "5\n",
      "5\n",
      "10\n",
      "12\n",
      "13\n",
      "14\n",
      "12344324\n",
      "30\n",
      "35\n",
      "100\n",
      "500\n",
      "1525\n",
      "5000\n",
      "5000\n",
      "10000\n"
     ]
    }
   ],
   "source": [
    "for i in x:\n",
    "    print(i)"
   ]
  },
  {
   "cell_type": "code",
   "execution_count": 123,
   "id": "f9e6f270-41c4-4c0d-adfd-61a1abbe3e64",
   "metadata": {},
   "outputs": [
    {
     "name": "stdout",
     "output_type": "stream",
     "text": [
      "[10, 22, 33, 44, 55, 66, 2, 2, 2, 3, 3, 3, 3, 3, 3, 3, 20, 3, 3, 4, 4, 4, 4, 4, 4, 5, 5, 10, 12, 13, 14, 12344324, 30, 35, 100, 500, 1525, 5000, 5000, 10000]\n"
     ]
    }
   ],
   "source": [
    "print(x)"
   ]
  },
  {
   "cell_type": "code",
   "execution_count": 124,
   "id": "fdf87ba1-6c3b-408c-a4f5-f293931f661c",
   "metadata": {},
   "outputs": [
    {
     "data": {
      "text/plain": [
       "40"
      ]
     },
     "execution_count": 124,
     "metadata": {},
     "output_type": "execute_result"
    }
   ],
   "source": [
    "len(x)"
   ]
  },
  {
   "cell_type": "code",
   "execution_count": 125,
   "id": "79213799-ae23-4077-8360-f3240e128c2d",
   "metadata": {},
   "outputs": [],
   "source": [
    "x.remove(33)"
   ]
  },
  {
   "cell_type": "code",
   "execution_count": 126,
   "id": "6ffc287d-247d-4853-a40f-fe30407e6f31",
   "metadata": {},
   "outputs": [
    {
     "name": "stdout",
     "output_type": "stream",
     "text": [
      "[10, 22, 44, 55, 66, 2, 2, 2, 3, 3, 3, 3, 3, 3, 3, 20, 3, 3, 4, 4, 4, 4, 4, 4, 5, 5, 10, 12, 13, 14, 12344324, 30, 35, 100, 500, 1525, 5000, 5000, 10000]\n"
     ]
    }
   ],
   "source": [
    "print(x)"
   ]
  },
  {
   "cell_type": "code",
   "execution_count": 127,
   "id": "a7014a02-06c1-4db9-8033-21a9a44eee94",
   "metadata": {},
   "outputs": [
    {
     "data": {
      "text/plain": [
       "39"
      ]
     },
     "execution_count": 127,
     "metadata": {},
     "output_type": "execute_result"
    }
   ],
   "source": [
    "len(x)"
   ]
  },
  {
   "cell_type": "code",
   "execution_count": 128,
   "id": "3b9c98db-1cde-4c96-8a83-802335cb0d30",
   "metadata": {},
   "outputs": [],
   "source": [
    "x.remove(44)"
   ]
  },
  {
   "cell_type": "code",
   "execution_count": 129,
   "id": "1749da9d-a7d9-4107-9ec0-3b94de9e4a47",
   "metadata": {},
   "outputs": [
    {
     "name": "stdout",
     "output_type": "stream",
     "text": [
      "[10, 22, 55, 66, 2, 2, 2, 3, 3, 3, 3, 3, 3, 3, 20, 3, 3, 4, 4, 4, 4, 4, 4, 5, 5, 10, 12, 13, 14, 12344324, 30, 35, 100, 500, 1525, 5000, 5000, 10000]\n"
     ]
    }
   ],
   "source": [
    "print(x)"
   ]
  },
  {
   "cell_type": "code",
   "execution_count": 130,
   "id": "21943365-e4d3-4b83-9fd2-e9f45a23f9db",
   "metadata": {},
   "outputs": [
    {
     "data": {
      "text/plain": [
       "38"
      ]
     },
     "execution_count": 130,
     "metadata": {},
     "output_type": "execute_result"
    }
   ],
   "source": [
    "len(x)"
   ]
  },
  {
   "cell_type": "code",
   "execution_count": 131,
   "id": "83e06cea-4c76-4a73-8677-a2d27cb7f7b1",
   "metadata": {},
   "outputs": [],
   "source": [
    "del(x[0])   # delete the element in position"
   ]
  },
  {
   "cell_type": "code",
   "execution_count": 132,
   "id": "23c1a6f2-38df-4202-b371-460c84b15255",
   "metadata": {},
   "outputs": [],
   "source": [
    "del(x[1])"
   ]
  },
  {
   "cell_type": "code",
   "execution_count": 133,
   "id": "132f42a6-57b5-4cee-a268-47a1ab623c08",
   "metadata": {},
   "outputs": [
    {
     "name": "stdout",
     "output_type": "stream",
     "text": [
      "[22, 66, 2, 2, 2, 3, 3, 3, 3, 3, 3, 3, 20, 3, 3, 4, 4, 4, 4, 4, 4, 5, 5, 10, 12, 13, 14, 12344324, 30, 35, 100, 500, 1525, 5000, 5000, 10000]\n"
     ]
    }
   ],
   "source": [
    "print(x)"
   ]
  },
  {
   "cell_type": "code",
   "execution_count": 134,
   "id": "a2ba6a05-0f06-4a0a-934c-f5b39d81d406",
   "metadata": {},
   "outputs": [
    {
     "data": {
      "text/plain": [
       "36"
      ]
     },
     "execution_count": 134,
     "metadata": {},
     "output_type": "execute_result"
    }
   ],
   "source": [
    "len(x)"
   ]
  },
  {
   "cell_type": "code",
   "execution_count": 135,
   "id": "d77d54b3-b4ad-4fab-b746-ac06af4eb249",
   "metadata": {},
   "outputs": [
    {
     "name": "stdout",
     "output_type": "stream",
     "text": [
      "[22, 66, 2, 2, 2, 3, 3, 3, 3, 3, 3, 3, 20, 3, 3, 4, 4, 4, 4, 4, 4, 5, 5, 10, 12, 13, 14, 12344324, 30, 35, 100, 500, 1525, 5000, 5000, 10000]\n"
     ]
    }
   ],
   "source": [
    "p=x.copy()\n",
    "print(p)"
   ]
  },
  {
   "cell_type": "markdown",
   "id": "d0e4cd33-185f-4652-b538-626fe9d2d9c6",
   "metadata": {},
   "source": [
    "## 4.5 Tuples()"
   ]
  },
  {
   "cell_type": "code",
   "execution_count": 136,
   "id": "21cc9261-6a0e-4da5-8334-20e6b0b5c031",
   "metadata": {},
   "outputs": [],
   "source": [
    "tup=()"
   ]
  },
  {
   "cell_type": "code",
   "execution_count": 137,
   "id": "57713b8d-87be-4adf-90e0-81c0476c5231",
   "metadata": {},
   "outputs": [
    {
     "data": {
      "text/plain": [
       "tuple"
      ]
     },
     "execution_count": 137,
     "metadata": {},
     "output_type": "execute_result"
    }
   ],
   "source": [
    "type(tup)"
   ]
  },
  {
   "cell_type": "code",
   "execution_count": 138,
   "id": "3d4eb44a-6bea-4d6c-82c0-0ff319cea9f6",
   "metadata": {},
   "outputs": [],
   "source": [
    "a=(10,20,30,40,50.32,404,21,23)\n"
   ]
  },
  {
   "cell_type": "code",
   "execution_count": 139,
   "id": "b64590cb-05b1-471c-8cdf-6531a2b7a5bd",
   "metadata": {},
   "outputs": [
    {
     "name": "stdout",
     "output_type": "stream",
     "text": [
      "(10, 20, 30, 40, 50.32, 404, 21, 23)\n"
     ]
    }
   ],
   "source": [
    "print(a)"
   ]
  },
  {
   "cell_type": "code",
   "execution_count": 140,
   "id": "09f99267-7f76-4d0a-af20-3d37c5aecc7e",
   "metadata": {},
   "outputs": [
    {
     "data": {
      "text/plain": [
       "tuple"
      ]
     },
     "execution_count": 140,
     "metadata": {},
     "output_type": "execute_result"
    }
   ],
   "source": [
    "type(a)"
   ]
  },
  {
   "cell_type": "code",
   "execution_count": 141,
   "id": "48a5b908-bde2-45e3-aeb2-96c857ad5248",
   "metadata": {},
   "outputs": [
    {
     "data": {
      "text/plain": [
       "10"
      ]
     },
     "execution_count": 141,
     "metadata": {},
     "output_type": "execute_result"
    }
   ],
   "source": [
    "# they are immutable\n",
    "a[0]"
   ]
  },
  {
   "cell_type": "code",
   "execution_count": 142,
   "id": "d8b1cdc9-064b-48e5-ae1b-56fbd481bb75",
   "metadata": {},
   "outputs": [
    {
     "data": {
      "text/plain": [
       "20"
      ]
     },
     "execution_count": 142,
     "metadata": {},
     "output_type": "execute_result"
    }
   ],
   "source": [
    "a[1]"
   ]
  },
  {
   "cell_type": "code",
   "execution_count": 143,
   "id": "030b18c9-ab09-447d-ac54-3290d2a8a3aa",
   "metadata": {},
   "outputs": [
    {
     "ename": "TypeError",
     "evalue": "'tuple' object does not support item assignment",
     "output_type": "error",
     "traceback": [
      "\u001b[1;31m---------------------------------------------------------------------------\u001b[0m",
      "\u001b[1;31mTypeError\u001b[0m                                 Traceback (most recent call last)",
      "Cell \u001b[1;32mIn[143], line 1\u001b[0m\n\u001b[1;32m----> 1\u001b[0m a[\u001b[38;5;241m1\u001b[39m]\u001b[38;5;241m=\u001b[39m\u001b[38;5;241m12\u001b[39m\n",
      "\u001b[1;31mTypeError\u001b[0m: 'tuple' object does not support item assignment"
     ]
    }
   ],
   "source": [
    "a[1]=12"
   ]
  },
  {
   "cell_type": "code",
   "execution_count": 144,
   "id": "96290c88-f0ed-4c9a-b0a5-97aa86a65a3d",
   "metadata": {},
   "outputs": [
    {
     "data": {
      "text/plain": [
       "(10, 20, 30, 40, 50.32)"
      ]
     },
     "execution_count": 144,
     "metadata": {},
     "output_type": "execute_result"
    }
   ],
   "source": [
    "a[0:5]"
   ]
  },
  {
   "cell_type": "code",
   "execution_count": 145,
   "id": "d8961d27-1481-48ee-807e-ee9afa0c42e6",
   "metadata": {},
   "outputs": [
    {
     "data": {
      "text/plain": [
       "(23, 21, 404, 50.32, 40, 30, 20, 10)"
      ]
     },
     "execution_count": 145,
     "metadata": {},
     "output_type": "execute_result"
    }
   ],
   "source": [
    "a[::-1]"
   ]
  },
  {
   "cell_type": "code",
   "execution_count": 146,
   "id": "86bab23a-61c6-4c10-8052-7502930f394c",
   "metadata": {},
   "outputs": [
    {
     "data": {
      "text/plain": [
       "(10, 20, 30, 40, 50.32, 404, 21, 23, 10, 20, 30, 40, 50.32, 404, 21, 23)"
      ]
     },
     "execution_count": 146,
     "metadata": {},
     "output_type": "execute_result"
    }
   ],
   "source": [
    "a*2"
   ]
  },
  {
   "cell_type": "code",
   "execution_count": 147,
   "id": "2654f6fa-27fd-4592-98f8-992532cd8ced",
   "metadata": {},
   "outputs": [
    {
     "data": {
      "text/plain": [
       "404"
      ]
     },
     "execution_count": 147,
     "metadata": {},
     "output_type": "execute_result"
    }
   ],
   "source": [
    "max(a)"
   ]
  },
  {
   "cell_type": "code",
   "execution_count": 148,
   "id": "09da4014-3252-4cb9-b2b1-73402565d95f",
   "metadata": {},
   "outputs": [
    {
     "data": {
      "text/plain": [
       "10"
      ]
     },
     "execution_count": 148,
     "metadata": {},
     "output_type": "execute_result"
    }
   ],
   "source": [
    "min(a)"
   ]
  },
  {
   "cell_type": "code",
   "execution_count": 149,
   "id": "4f6f8be9-f5a0-40c0-9c1a-f5a24296db4a",
   "metadata": {},
   "outputs": [
    {
     "data": {
      "text/plain": [
       "598.3199999999999"
      ]
     },
     "execution_count": 149,
     "metadata": {},
     "output_type": "execute_result"
    }
   ],
   "source": [
    "sum(a)"
   ]
  },
  {
   "cell_type": "code",
   "execution_count": 150,
   "id": "4065cdaa-7246-48f4-82a0-196de583af5b",
   "metadata": {},
   "outputs": [
    {
     "data": {
      "text/plain": [
       "1"
      ]
     },
     "execution_count": 150,
     "metadata": {},
     "output_type": "execute_result"
    }
   ],
   "source": [
    "a.index(20)"
   ]
  },
  {
   "cell_type": "code",
   "execution_count": 151,
   "id": "fc0dc41e-ae9f-4e87-b37e-5bc79918793f",
   "metadata": {},
   "outputs": [
    {
     "data": {
      "text/plain": [
       "[10, 20, 21, 23, 30, 40, 50.32, 404]"
      ]
     },
     "execution_count": 151,
     "metadata": {},
     "output_type": "execute_result"
    }
   ],
   "source": [
    "sorted(a)"
   ]
  },
  {
   "cell_type": "code",
   "execution_count": 152,
   "id": "cd17ef2d-7b9c-4cfc-9cf0-63794197f25b",
   "metadata": {},
   "outputs": [
    {
     "data": {
      "text/plain": [
       "[404, 50.32, 40, 30, 23, 21, 20, 10]"
      ]
     },
     "execution_count": 152,
     "metadata": {},
     "output_type": "execute_result"
    }
   ],
   "source": [
    "sorted(a,reverse=True)"
   ]
  },
  {
   "cell_type": "markdown",
   "id": "7f16a7de-1eca-4cdc-a2f6-e223baa32ea5",
   "metadata": {},
   "source": [
    "## 4.6 Range()"
   ]
  },
  {
   "cell_type": "code",
   "execution_count": 153,
   "id": "c6b22da2-d340-4d66-a016-0c7c05e9db9f",
   "metadata": {},
   "outputs": [
    {
     "name": "stdout",
     "output_type": "stream",
     "text": [
      "0\n",
      "1\n",
      "2\n",
      "3\n",
      "4\n",
      "5\n",
      "6\n",
      "7\n",
      "8\n",
      "9\n"
     ]
    }
   ],
   "source": [
    "for i in range(0,10):\n",
    "    print(i)"
   ]
  },
  {
   "cell_type": "code",
   "execution_count": 154,
   "id": "965f1d45-d402-4d17-b887-85442b8dcd3c",
   "metadata": {},
   "outputs": [],
   "source": [
    "r=range(10)"
   ]
  },
  {
   "cell_type": "code",
   "execution_count": 155,
   "id": "bde9a1bd-c45b-4aed-8893-e82e53167c89",
   "metadata": {},
   "outputs": [
    {
     "data": {
      "text/plain": [
       "range(0, 10)"
      ]
     },
     "execution_count": 155,
     "metadata": {},
     "output_type": "execute_result"
    }
   ],
   "source": [
    "r"
   ]
  },
  {
   "cell_type": "code",
   "execution_count": 156,
   "id": "70c4bb94-8f19-4355-a060-1838b33e0faf",
   "metadata": {},
   "outputs": [
    {
     "name": "stdout",
     "output_type": "stream",
     "text": [
      "range(0, 10)\n"
     ]
    }
   ],
   "source": [
    "print(r)"
   ]
  },
  {
   "cell_type": "code",
   "execution_count": 157,
   "id": "16b31508-f428-47b7-9b07-2410681dcc1d",
   "metadata": {},
   "outputs": [
    {
     "name": "stdout",
     "output_type": "stream",
     "text": [
      "range(2, 20, 2)\n"
     ]
    }
   ],
   "source": [
    "r=range(2,20,2)\n",
    "print(r)"
   ]
  },
  {
   "cell_type": "code",
   "execution_count": 158,
   "id": "f95bb2e3-8687-4860-9a6e-4f6e7dba50f1",
   "metadata": {},
   "outputs": [
    {
     "name": "stdout",
     "output_type": "stream",
     "text": [
      "2\n",
      "4\n",
      "6\n",
      "8\n",
      "10\n",
      "12\n",
      "14\n",
      "16\n",
      "18\n"
     ]
    }
   ],
   "source": [
    "for i in r:\n",
    "    print(i)"
   ]
  },
  {
   "cell_type": "code",
   "execution_count": 159,
   "id": "6fa2c205-e8a7-42ec-b2ee-0473fb13a533",
   "metadata": {},
   "outputs": [
    {
     "ename": "TypeError",
     "evalue": "'list' object is not callable",
     "output_type": "error",
     "traceback": [
      "\u001b[1;31m---------------------------------------------------------------------------\u001b[0m",
      "\u001b[1;31mTypeError\u001b[0m                                 Traceback (most recent call last)",
      "Cell \u001b[1;32mIn[159], line 1\u001b[0m\n\u001b[1;32m----> 1\u001b[0m val\u001b[38;5;241m=\u001b[39m\u001b[38;5;28mlist\u001b[39m(\u001b[38;5;28mrange\u001b[39m(\u001b[38;5;241m10\u001b[39m))\n\u001b[0;32m      2\u001b[0m \u001b[38;5;28;01mfor\u001b[39;00m i \u001b[38;5;129;01min\u001b[39;00m val:\n\u001b[0;32m      3\u001b[0m     \u001b[38;5;28mprint\u001b[39m(i)\n",
      "\u001b[1;31mTypeError\u001b[0m: 'list' object is not callable"
     ]
    }
   ],
   "source": [
    "val=list(range(10))\n",
    "for i in val:\n",
    "    print(i)"
   ]
  },
  {
   "cell_type": "code",
   "execution_count": null,
   "id": "d02dd78d-b466-471b-8190-7f68c32083e4",
   "metadata": {},
   "outputs": [],
   "source": [
    "r=range(10,0,-1)"
   ]
  },
  {
   "cell_type": "code",
   "execution_count": 160,
   "id": "91b71231-7d7e-40d0-8f43-4f08183095ed",
   "metadata": {},
   "outputs": [
    {
     "name": "stdout",
     "output_type": "stream",
     "text": [
      "2\n",
      "4\n",
      "6\n",
      "8\n",
      "10\n",
      "12\n",
      "14\n",
      "16\n",
      "18\n"
     ]
    }
   ],
   "source": [
    "for i in r:\n",
    "    print(i)"
   ]
  },
  {
   "cell_type": "markdown",
   "id": "8684e6a1-580d-477b-ab67-e0ca4aadc0b7",
   "metadata": {},
   "source": [
    "## 4.7 Set{}"
   ]
  },
  {
   "cell_type": "code",
   "execution_count": 161,
   "id": "c32d8871-44bf-4b45-99ed-f6a85246147c",
   "metadata": {},
   "outputs": [
    {
     "name": "stdout",
     "output_type": "stream",
     "text": [
      "{40, 10, 20, 30}\n"
     ]
    }
   ],
   "source": [
    "# print the value in unorder formet \n",
    "a={10,20,30,40}\n",
    "print(a)"
   ]
  },
  {
   "cell_type": "code",
   "execution_count": 162,
   "id": "26fc526c-b887-449a-a429-6c7b8b75330e",
   "metadata": {},
   "outputs": [
    {
     "name": "stdout",
     "output_type": "stream",
     "text": [
      "{40, 20, 30}\n"
     ]
    }
   ],
   "source": [
    "# theya are not accept duplicate value\n",
    "b={20,30,20,40,20}\n",
    "print(b)"
   ]
  },
  {
   "cell_type": "code",
   "execution_count": 163,
   "id": "cf3f376a-2c26-4a41-8a27-9fba1e27805a",
   "metadata": {},
   "outputs": [
    {
     "name": "stdout",
     "output_type": "stream",
     "text": [
      "{'h', 'e', 'o', 'l'}\n"
     ]
    }
   ],
   "source": [
    "val=set(\"hello\")\n",
    "print(val)"
   ]
  },
  {
   "cell_type": "code",
   "execution_count": 164,
   "id": "f950ab1d-ec64-4628-a71e-11283ba9349f",
   "metadata": {},
   "outputs": [
    {
     "ename": "TypeError",
     "evalue": "'set' object is not subscriptable",
     "output_type": "error",
     "traceback": [
      "\u001b[1;31m---------------------------------------------------------------------------\u001b[0m",
      "\u001b[1;31mTypeError\u001b[0m                                 Traceback (most recent call last)",
      "Cell \u001b[1;32mIn[164], line 2\u001b[0m\n\u001b[0;32m      1\u001b[0m \u001b[38;5;66;03m# indexing and slicing is not working here because they are onorder\u001b[39;00m\n\u001b[1;32m----> 2\u001b[0m val[\u001b[38;5;241m0\u001b[39m]\n",
      "\u001b[1;31mTypeError\u001b[0m: 'set' object is not subscriptable"
     ]
    }
   ],
   "source": [
    "# indexing and slicing is not working here because they are onorder\n",
    "val[0]"
   ]
  },
  {
   "cell_type": "code",
   "execution_count": 165,
   "id": "d11be2dc-0f31-4fb1-9d2a-cd9856c0ab7d",
   "metadata": {},
   "outputs": [
    {
     "ename": "TypeError",
     "evalue": "'set' object is not subscriptable",
     "output_type": "error",
     "traceback": [
      "\u001b[1;31m---------------------------------------------------------------------------\u001b[0m",
      "\u001b[1;31mTypeError\u001b[0m                                 Traceback (most recent call last)",
      "Cell \u001b[1;32mIn[165], line 1\u001b[0m\n\u001b[1;32m----> 1\u001b[0m val[\u001b[38;5;241m0\u001b[39m:\u001b[38;5;241m3\u001b[39m]\n",
      "\u001b[1;31mTypeError\u001b[0m: 'set' object is not subscriptable"
     ]
    }
   ],
   "source": [
    "val[0:3]"
   ]
  },
  {
   "cell_type": "code",
   "execution_count": 166,
   "id": "d7866c82-50da-4bf5-875b-ac38a9c640f1",
   "metadata": {},
   "outputs": [],
   "source": [
    "val.add(\"kuanl\")"
   ]
  },
  {
   "cell_type": "code",
   "execution_count": 167,
   "id": "e320594a-dcfa-48c3-aaa7-384e3e96b271",
   "metadata": {},
   "outputs": [
    {
     "data": {
      "text/plain": [
       "{'e', 'h', 'kuanl', 'l', 'o'}"
      ]
     },
     "execution_count": 167,
     "metadata": {},
     "output_type": "execute_result"
    }
   ],
   "source": [
    "val"
   ]
  },
  {
   "cell_type": "code",
   "execution_count": 168,
   "id": "b5776067-743b-497d-b330-28a49be7cf0a",
   "metadata": {},
   "outputs": [],
   "source": [
    "val.remove(\"kuanl\")"
   ]
  },
  {
   "cell_type": "code",
   "execution_count": 169,
   "id": "68a40203-7c5f-489f-bbca-a408f93fcdd0",
   "metadata": {},
   "outputs": [
    {
     "data": {
      "text/plain": [
       "{'e', 'h', 'l', 'o'}"
      ]
     },
     "execution_count": 169,
     "metadata": {},
     "output_type": "execute_result"
    }
   ],
   "source": [
    "val"
   ]
  },
  {
   "cell_type": "code",
   "execution_count": 170,
   "id": "3a75b4f3-7230-483b-a868-d45f4fd4bb84",
   "metadata": {},
   "outputs": [],
   "source": [
    "a.update([10,20,30])"
   ]
  },
  {
   "cell_type": "code",
   "execution_count": 171,
   "id": "188158dd-35aa-47cc-ab0c-2183ec684497",
   "metadata": {},
   "outputs": [
    {
     "data": {
      "text/plain": [
       "{10, 20, 30, 40}"
      ]
     },
     "execution_count": 171,
     "metadata": {},
     "output_type": "execute_result"
    }
   ],
   "source": [
    "a"
   ]
  },
  {
   "cell_type": "markdown",
   "id": "55143960-513f-49b7-8cd9-8fdc766c4353",
   "metadata": {},
   "source": [
    "## 4.8 Frozenset{}"
   ]
  },
  {
   "cell_type": "code",
   "execution_count": 172,
   "id": "ce7b1745-ecb3-40fa-ad2f-8d34b43a10e6",
   "metadata": {},
   "outputs": [],
   "source": [
    "# they are same to set but here we can't modified \n",
    "a={10,20,303,20,102,10}"
   ]
  },
  {
   "cell_type": "code",
   "execution_count": 173,
   "id": "5255f0fa-a12d-4a35-a9d4-8171cae58c7c",
   "metadata": {},
   "outputs": [],
   "source": [
    "b=frozenset(a)"
   ]
  },
  {
   "cell_type": "code",
   "execution_count": 174,
   "id": "3a9dbdb3-76d8-4bda-b140-7952d2fd8d63",
   "metadata": {},
   "outputs": [
    {
     "data": {
      "text/plain": [
       "frozenset"
      ]
     },
     "execution_count": 174,
     "metadata": {},
     "output_type": "execute_result"
    }
   ],
   "source": [
    "type(b)"
   ]
  },
  {
   "cell_type": "code",
   "execution_count": 175,
   "id": "b8572484-89a9-418a-a2e3-ecfda39a3ad5",
   "metadata": {},
   "outputs": [
    {
     "data": {
      "text/plain": [
       "set"
      ]
     },
     "execution_count": 175,
     "metadata": {},
     "output_type": "execute_result"
    }
   ],
   "source": [
    "type(a)"
   ]
  },
  {
   "cell_type": "code",
   "execution_count": 176,
   "id": "d3c0fa9b-0c7f-472c-953a-201078642cc2",
   "metadata": {},
   "outputs": [
    {
     "name": "stdout",
     "output_type": "stream",
     "text": [
      "frozenset({10, 20, 102, 303})\n"
     ]
    }
   ],
   "source": [
    "print(b)"
   ]
  },
  {
   "cell_type": "code",
   "execution_count": 177,
   "id": "3e68274c-5eca-43a4-8880-21c92fb3f1b1",
   "metadata": {},
   "outputs": [
    {
     "ename": "AttributeError",
     "evalue": "'frozenset' object has no attribute 'remove'",
     "output_type": "error",
     "traceback": [
      "\u001b[1;31m---------------------------------------------------------------------------\u001b[0m",
      "\u001b[1;31mAttributeError\u001b[0m                            Traceback (most recent call last)",
      "Cell \u001b[1;32mIn[177], line 2\u001b[0m\n\u001b[0;32m      1\u001b[0m \u001b[38;5;66;03m# add() , Update() , remove() is not working here\u001b[39;00m\n\u001b[1;32m----> 2\u001b[0m b\u001b[38;5;241m.\u001b[39mremove(\u001b[38;5;241m10\u001b[39m)\n",
      "\u001b[1;31mAttributeError\u001b[0m: 'frozenset' object has no attribute 'remove'"
     ]
    }
   ],
   "source": [
    "# add() , Update() , remove() is not working here\n",
    "b.remove(10)"
   ]
  },
  {
   "cell_type": "markdown",
   "id": "d3a44351-e439-4577-b943-666a9101ce83",
   "metadata": {},
   "source": [
    "## 4.9 Mapping types"
   ]
  },
  {
   "cell_type": "code",
   "execution_count": 178,
   "id": "86f597b1-08be-44f8-b6aa-794f7a18f2c6",
   "metadata": {},
   "outputs": [],
   "source": [
    "d={}"
   ]
  },
  {
   "cell_type": "code",
   "execution_count": 179,
   "id": "c56bed0f-2bcf-4206-9b74-124b3f135e90",
   "metadata": {},
   "outputs": [],
   "source": [
    "d[10]=\"Kunal\""
   ]
  },
  {
   "cell_type": "code",
   "execution_count": 180,
   "id": "d4f2b48c-efe6-4d94-9dd3-b7f1e7976009",
   "metadata": {},
   "outputs": [
    {
     "name": "stdout",
     "output_type": "stream",
     "text": [
      "{10: 'Kunal'}\n"
     ]
    }
   ],
   "source": [
    "print(d)"
   ]
  },
  {
   "cell_type": "code",
   "execution_count": 181,
   "id": "d8306892-493d-4c05-bd9e-db6cf045ad6b",
   "metadata": {},
   "outputs": [],
   "source": [
    "d[11]=\"vicky\""
   ]
  },
  {
   "cell_type": "code",
   "execution_count": 182,
   "id": "27056f96-83e0-4316-bb5c-e4a7cb85b277",
   "metadata": {},
   "outputs": [],
   "source": [
    "d[12]=\"shivam\"\n",
    "d[13]=\"kaushal\"\n",
    "d[14]=\"tejash\"\n",
    "d[15]=\"kartik\""
   ]
  },
  {
   "cell_type": "code",
   "execution_count": 183,
   "id": "5dcb511d-25fe-4654-a17e-97381b902a73",
   "metadata": {},
   "outputs": [
    {
     "name": "stdout",
     "output_type": "stream",
     "text": [
      "{10: 'Kunal', 11: 'vicky', 12: 'shivam', 13: 'kaushal', 14: 'tejash', 15: 'kartik'}\n"
     ]
    }
   ],
   "source": [
    "print(d)"
   ]
  },
  {
   "cell_type": "code",
   "execution_count": 184,
   "id": "36e628b9-1d11-4042-8b96-593a4db76ea9",
   "metadata": {},
   "outputs": [
    {
     "data": {
      "text/plain": [
       "6"
      ]
     },
     "execution_count": 184,
     "metadata": {},
     "output_type": "execute_result"
    }
   ],
   "source": [
    "len(d)"
   ]
  },
  {
   "cell_type": "code",
   "execution_count": 185,
   "id": "924785cf-d10c-41c1-b223-87bbdf5f9eea",
   "metadata": {},
   "outputs": [
    {
     "data": {
      "text/plain": [
       "'Kunal'"
      ]
     },
     "execution_count": 185,
     "metadata": {},
     "output_type": "execute_result"
    }
   ],
   "source": [
    "d[10]"
   ]
  },
  {
   "cell_type": "code",
   "execution_count": 186,
   "id": "2eb4d579-3715-4b6b-a324-462733e4a2ef",
   "metadata": {},
   "outputs": [
    {
     "data": {
      "text/plain": [
       "'shivam'"
      ]
     },
     "execution_count": 186,
     "metadata": {},
     "output_type": "execute_result"
    }
   ],
   "source": [
    "d[12]"
   ]
  },
  {
   "cell_type": "code",
   "execution_count": 187,
   "id": "db8b8d9e-742b-43db-9882-9f0b0558b888",
   "metadata": {},
   "outputs": [
    {
     "data": {
      "text/plain": [
       "'kaushal'"
      ]
     },
     "execution_count": 187,
     "metadata": {},
     "output_type": "execute_result"
    }
   ],
   "source": [
    "d[13]"
   ]
  },
  {
   "cell_type": "code",
   "execution_count": 188,
   "id": "e21130e4-bcfe-48e3-a048-53ccfcce1745",
   "metadata": {},
   "outputs": [
    {
     "data": {
      "text/plain": [
       "'vicky'"
      ]
     },
     "execution_count": 188,
     "metadata": {},
     "output_type": "execute_result"
    }
   ],
   "source": [
    "d[11]"
   ]
  },
  {
   "cell_type": "code",
   "execution_count": 189,
   "id": "780f1c65-6bed-4739-96b6-370320ea92c3",
   "metadata": {},
   "outputs": [],
   "source": [
    "d[16]=\"manish\"\n",
    "d[17]=\"joyti\""
   ]
  },
  {
   "cell_type": "code",
   "execution_count": 190,
   "id": "7486afae-8429-4fc4-a98a-aeacb5e55d26",
   "metadata": {},
   "outputs": [
    {
     "name": "stdout",
     "output_type": "stream",
     "text": [
      "{10: 'Kunal', 11: 'vicky', 12: 'shivam', 13: 'kaushal', 14: 'tejash', 15: 'kartik', 16: 'manish', 17: 'joyti'}\n"
     ]
    }
   ],
   "source": [
    "print(d)"
   ]
  },
  {
   "cell_type": "code",
   "execution_count": 191,
   "id": "6660d9df-329b-4181-886d-8661d9c95826",
   "metadata": {},
   "outputs": [
    {
     "data": {
      "text/plain": [
       "'manish'"
      ]
     },
     "execution_count": 191,
     "metadata": {},
     "output_type": "execute_result"
    }
   ],
   "source": [
    "d[16]"
   ]
  },
  {
   "cell_type": "code",
   "execution_count": 192,
   "id": "d1a2abaa-34be-42a3-b116-92234d41302e",
   "metadata": {},
   "outputs": [],
   "source": [
    "d[10]=\"suman\""
   ]
  },
  {
   "cell_type": "code",
   "execution_count": 193,
   "id": "44f8f28f-b58e-4ac6-bbb5-43f9128a0e30",
   "metadata": {},
   "outputs": [
    {
     "name": "stdout",
     "output_type": "stream",
     "text": [
      "{10: 'suman', 11: 'vicky', 12: 'shivam', 13: 'kaushal', 14: 'tejash', 15: 'kartik', 16: 'manish', 17: 'joyti'}\n"
     ]
    }
   ],
   "source": [
    "print(d)"
   ]
  },
  {
   "cell_type": "code",
   "execution_count": 194,
   "id": "ca2f8f49-7441-4549-bc2e-8863436c1ba6",
   "metadata": {},
   "outputs": [
    {
     "name": "stdout",
     "output_type": "stream",
     "text": [
      "10\n",
      "11\n",
      "12\n",
      "13\n",
      "14\n",
      "15\n",
      "16\n",
      "17\n"
     ]
    }
   ],
   "source": [
    "k=d.keys()\n",
    "for i in k:\n",
    "    print(i)"
   ]
  },
  {
   "cell_type": "code",
   "execution_count": 195,
   "id": "c250e71a-b959-4f5b-a60e-8509deea9595",
   "metadata": {},
   "outputs": [
    {
     "name": "stdout",
     "output_type": "stream",
     "text": [
      "suman\n",
      "vicky\n",
      "shivam\n",
      "kaushal\n",
      "tejash\n",
      "kartik\n",
      "manish\n",
      "joyti\n"
     ]
    }
   ],
   "source": [
    "v=d.values()\n",
    "for i in v:\n",
    "    print(i)"
   ]
  },
  {
   "cell_type": "code",
   "execution_count": 196,
   "id": "7548779f-d94e-49c7-86fb-6ec4ff7205e3",
   "metadata": {},
   "outputs": [
    {
     "name": "stdout",
     "output_type": "stream",
     "text": [
      "10 suman\n",
      "11 vicky\n",
      "12 shivam\n",
      "13 kaushal\n",
      "14 tejash\n",
      "15 kartik\n",
      "16 manish\n",
      "17 joyti\n"
     ]
    }
   ],
   "source": [
    "for k,v in d.items():\n",
    "    print(k,v)"
   ]
  },
  {
   "cell_type": "code",
   "execution_count": 197,
   "id": "0e842ec3-8efb-4926-b820-c78a8f4b4eaa",
   "metadata": {},
   "outputs": [],
   "source": [
    "del(d[11])"
   ]
  },
  {
   "cell_type": "code",
   "execution_count": 198,
   "id": "fb9fcd1b-2d8f-4d71-b09b-b5aac365c71f",
   "metadata": {},
   "outputs": [],
   "source": [
    "del(d[14])"
   ]
  },
  {
   "cell_type": "code",
   "execution_count": 199,
   "id": "3053d983-290c-409b-9a66-b6f1797034d5",
   "metadata": {},
   "outputs": [
    {
     "name": "stdout",
     "output_type": "stream",
     "text": [
      "{10: 'suman', 12: 'shivam', 13: 'kaushal', 15: 'kartik', 16: 'manish', 17: 'joyti'}\n"
     ]
    }
   ],
   "source": [
    "print(d)"
   ]
  }
 ],
 "metadata": {
  "kernelspec": {
   "display_name": "Python 3 (ipykernel)",
   "language": "python",
   "name": "python3"
  },
  "language_info": {
   "codemirror_mode": {
    "name": "ipython",
    "version": 3
   },
   "file_extension": ".py",
   "mimetype": "text/x-python",
   "name": "python",
   "nbconvert_exporter": "python",
   "pygments_lexer": "ipython3",
   "version": "3.11.7"
  }
 },
 "nbformat": 4,
 "nbformat_minor": 5
}
